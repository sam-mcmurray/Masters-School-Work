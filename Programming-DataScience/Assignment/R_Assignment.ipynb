{
 "cells": [
  {
   "cell_type": "markdown",
   "id": "f1712827",
   "metadata": {},
   "source": [
    "## We analyze a dataset about vehicle registrations in Sweden.  The data contains passenger cars in use by region and type of ownership. Year 2002-2022"
   ]
  },
  {
   "cell_type": "code",
   "execution_count": 87,
   "id": "1bf17170",
   "metadata": {},
   "outputs": [],
   "source": [
    "library(plyr)\n",
    "library(dplyr)\n",
    "library(tidyverse)\n",
    "library(lubridate)\n",
    "library(ggplot2)\n"
   ]
  },
  {
   "cell_type": "code",
   "execution_count": 88,
   "id": "1dff9b1f",
   "metadata": {},
   "outputs": [
    {
     "name": "stderr",
     "output_type": "stream",
     "text": [
      "\u001B[1mRows: \u001B[22m\u001B[34m5796\u001B[39m \u001B[1mColumns: \u001B[22m\u001B[34m4\u001B[39m\n",
      "\u001B[36m──\u001B[39m \u001B[1mColumn specification\u001B[22m \u001B[36m────────────────────────────────────────────────────────\u001B[39m\n",
      "\u001B[1mDelimiter:\u001B[22m \",\"\n",
      "\u001B[31mchr\u001B[39m (2): Region, Vehicle_Type\n",
      "\u001B[32mdbl\u001B[39m (2): Year, Number_of_Vehicles\n",
      "\n",
      "\u001B[36mℹ\u001B[39m Use `spec()` to retrieve the full column specification for this data.\n",
      "\u001B[36mℹ\u001B[39m Specify the column types or set `show_col_types = FALSE` to quiet this message.\n"
     ]
    }
   ],
   "source": [
    "data <- read_csv(\"vehicles.csv\")"
   ]
  },
  {
   "cell_type": "code",
   "execution_count": 89,
   "id": "ad9e5079",
   "metadata": {},
   "outputs": [
    {
     "data": {
      "text/html": [
       "<table class=\"dataframe\">\n",
       "<caption>A tibble: 6 × 4</caption>\n",
       "<thead>\n",
       "\t<tr><th scope=col>Region</th><th scope=col>Year</th><th scope=col>Number_of_Vehicles</th><th scope=col>Vehicle_Type</th></tr>\n",
       "\t<tr><th scope=col>&lt;chr&gt;</th><th scope=col>&lt;dbl&gt;</th><th scope=col>&lt;dbl&gt;</th><th scope=col>&lt;chr&gt;</th></tr>\n",
       "</thead>\n",
       "<tbody>\n",
       "\t<tr><td>Stockholms län</td><td>2002</td><td>738471</td><td>passenger cars</td></tr>\n",
       "\t<tr><td>Stockholms län</td><td>2003</td><td>746671</td><td>passenger cars</td></tr>\n",
       "\t<tr><td>Stockholms län</td><td>2004</td><td>754266</td><td>passenger cars</td></tr>\n",
       "\t<tr><td>Stockholms län</td><td>2005</td><td>759096</td><td>passenger cars</td></tr>\n",
       "\t<tr><td>Stockholms län</td><td>2006</td><td>768957</td><td>passenger cars</td></tr>\n",
       "\t<tr><td>Stockholms län</td><td>2007</td><td>783417</td><td>passenger cars</td></tr>\n",
       "</tbody>\n",
       "</table>\n"
      ],
      "text/latex": [
       "A tibble: 6 × 4\n",
       "\\begin{tabular}{llll}\n",
       " Region & Year & Number\\_of\\_Vehicles & Vehicle\\_Type\\\\\n",
       " <chr> & <dbl> & <dbl> & <chr>\\\\\n",
       "\\hline\n",
       "\t Stockholms län & 2002 & 738471 & passenger cars\\\\\n",
       "\t Stockholms län & 2003 & 746671 & passenger cars\\\\\n",
       "\t Stockholms län & 2004 & 754266 & passenger cars\\\\\n",
       "\t Stockholms län & 2005 & 759096 & passenger cars\\\\\n",
       "\t Stockholms län & 2006 & 768957 & passenger cars\\\\\n",
       "\t Stockholms län & 2007 & 783417 & passenger cars\\\\\n",
       "\\end{tabular}\n"
      ],
      "text/markdown": [
       "\n",
       "A tibble: 6 × 4\n",
       "\n",
       "| Region &lt;chr&gt; | Year &lt;dbl&gt; | Number_of_Vehicles &lt;dbl&gt; | Vehicle_Type &lt;chr&gt; |\n",
       "|---|---|---|---|\n",
       "| Stockholms län | 2002 | 738471 | passenger cars |\n",
       "| Stockholms län | 2003 | 746671 | passenger cars |\n",
       "| Stockholms län | 2004 | 754266 | passenger cars |\n",
       "| Stockholms län | 2005 | 759096 | passenger cars |\n",
       "| Stockholms län | 2006 | 768957 | passenger cars |\n",
       "| Stockholms län | 2007 | 783417 | passenger cars |\n",
       "\n"
      ],
      "text/plain": [
       "  Region         Year Number_of_Vehicles Vehicle_Type  \n",
       "1 Stockholms län 2002 738471             passenger cars\n",
       "2 Stockholms län 2003 746671             passenger cars\n",
       "3 Stockholms län 2004 754266             passenger cars\n",
       "4 Stockholms län 2005 759096             passenger cars\n",
       "5 Stockholms län 2006 768957             passenger cars\n",
       "6 Stockholms län 2007 783417             passenger cars"
      ]
     },
     "metadata": {},
     "output_type": "display_data"
    }
   ],
   "source": [
    "head(data)"
   ]
  },
  {
   "cell_type": "code",
   "execution_count": 90,
   "id": "346d0f43",
   "metadata": {},
   "outputs": [
    {
     "name": "stdout",
     "output_type": "stream",
     "text": [
      "spc_tbl_ [5,796 × 4] (S3: spec_tbl_df/tbl_df/tbl/data.frame)\n",
      " $ Region            : chr [1:5796] \"Stockholms län\" \"Stockholms län\" \"Stockholms län\" \"Stockholms län\" ...\n",
      " $ Year              : num [1:5796] 2002 2003 2004 2005 2006 ...\n",
      " $ Number_of_Vehicles: num [1:5796] 738471 746671 754266 759096 768957 ...\n",
      " $ Vehicle_Type      : chr [1:5796] \"passenger cars\" \"passenger cars\" \"passenger cars\" \"passenger cars\" ...\n",
      " - attr(*, \"spec\")=\n",
      "  .. cols(\n",
      "  ..   Region = \u001B[31mcol_character()\u001B[39m,\n",
      "  ..   Year = \u001B[32mcol_double()\u001B[39m,\n",
      "  ..   Number_of_Vehicles = \u001B[32mcol_double()\u001B[39m,\n",
      "  ..   Vehicle_Type = \u001B[31mcol_character()\u001B[39m\n",
      "  .. )\n",
      " - attr(*, \"problems\")=<externalptr> \n"
     ]
    }
   ],
   "source": [
    "str(data)"
   ]
  },
  {
   "cell_type": "markdown",
   "id": "3594fd8b",
   "metadata": {},
   "source": [
    "## Checking if there is a missing value"
   ]
  },
  {
   "cell_type": "code",
   "execution_count": 91,
   "id": "34f9dfc1",
   "metadata": {},
   "outputs": [
    {
     "data": {
      "text/html": [
       "0"
      ],
      "text/latex": [
       "0"
      ],
      "text/markdown": [
       "0"
      ],
      "text/plain": [
       "[1] 0"
      ]
     },
     "metadata": {},
     "output_type": "display_data"
    }
   ],
   "source": [
    "sum(is.na(data))"
   ]
  },
  {
   "cell_type": "code",
   "execution_count": 92,
   "id": "c0fa6b82",
   "metadata": {},
   "outputs": [
    {
     "data": {
      "text/html": [
       "0"
      ],
      "text/latex": [
       "0"
      ],
      "text/markdown": [
       "0"
      ],
      "text/plain": [
       "[1] 0"
      ]
     },
     "metadata": {},
     "output_type": "display_data"
    }
   ],
   "source": [
    "sum(duplicated(data))"
   ]
  },
  {
   "cell_type": "markdown",
   "id": "00d2eb6d",
   "metadata": {},
   "source": [
    "## calculating summary statistics for the variable \"Number_of_Vehicles\""
   ]
  },
  {
   "cell_type": "code",
   "execution_count": 93,
   "id": "5411e771",
   "metadata": {},
   "outputs": [
    {
     "data": {
      "text/plain": [
       "    Min.  1st Qu.   Median     Mean  3rd Qu.     Max. \n",
       "     0.0    268.5   2744.0  25448.9  14479.5 965722.0 "
      ]
     },
     "metadata": {},
     "output_type": "display_data"
    }
   ],
   "source": [
    "summary <- summary(data$Number_of_Vehicles)\n",
    "summary"
   ]
  },
  {
   "cell_type": "markdown",
   "id": "119fb133",
   "metadata": {},
   "source": [
    "## We calculate and visualizes the distribution of the number of vehicles based on the vehicle type over the 21 years of records"
   ]
  },
  {
   "cell_type": "code",
   "execution_count": 94,
   "id": "bf73abb3",
   "metadata": {},
   "outputs": [
    {
     "data": {
      "image/png": "[encoded data removed]",
      "text/plain": [
       "plot without title"
      ]
     },
     "metadata": {
      "image/png": {
       "height": 420,
       "width": 420
      }
     },
     "output_type": "display_data"
    }
   ],
   "source": [
    "distribution <- data %>%\n",
    "  group_by(Vehicle_Type) %>%\n",
    "  summarize(Total_Vehicles = sum(Number_of_Vehicles))\n",
    "\n",
    "ggplot(distribution, aes(x = Vehicle_Type, y = Total_Vehicles, fill = Vehicle_Type)) +\n",
    "  geom_bar(stat = \"identity\") +\n",
    "  labs(title = \"Distribution of Number of Vehicles by Vehicle Type\",\n",
    "       x = \"Vehicle Type\",\n",
    "       y = \"Total Vehicles\") +\n",
    "  theme(axis.text.x = element_text(angle = 45, hjust = 1)) +\n",
    "  scale_fill_brewer(palette = \"Set3\")"
   ]
  },
  {
   "cell_type": "markdown",
   "id": "455b865e",
   "metadata": {},
   "source": [
    "## What are the different vehicle types?"
   ]
  },
  {
   "cell_type": "code",
   "execution_count": 95,
   "id": "d2ed2489",
   "metadata": {},
   "outputs": [
    {
     "name": "stdout",
     "output_type": "stream",
     "text": [
      " [1] \"passenger cars\"         \"light lorries\"          \"heavy lorries\"         \n",
      " [4] \"towing vehicles\"        \"buses\"                  \"motorcycles\"           \n",
      " [7] \"mopeds class 1\"         \"tractors\"               \"snowmobiles\"           \n",
      "[10] \"all-terrain vehicles\"   \"cross-country scooters\" \"trailers\"              \n"
     ]
    }
   ],
   "source": [
    "vehicle_types <- unique(data$Vehicle_Type)\n",
    "print(vehicle_types)"
   ]
  },
  {
   "cell_type": "markdown",
   "id": "06df1c1d",
   "metadata": {},
   "source": [
    "## What are the locations contained within the dataset?"
   ]
  },
  {
   "cell_type": "code",
   "execution_count": 96,
   "id": "7ca2ecf1",
   "metadata": {},
   "outputs": [
    {
     "name": "stdout",
     "output_type": "stream",
     "text": [
      " [1] \"Stockholms län\"          \"Uppsala län\"            \n",
      " [3] \"Södermanlands län\"       \"Östergötlands län\"      \n",
      " [5] \"Jönköpings län\"          \"Kronobergs län\"         \n",
      " [7] \"Kalmar län\"              \"Gotlands län\"           \n",
      " [9] \"Blekinge län\"            \"Skåne län\"              \n",
      "[11] \"Hallands län\"            \"Västra Götalands län\"   \n",
      "[13] \"former Älvsborg county\"  \"former Skaraborg county\"\n",
      "[15] \"Värmlands län\"           \"Örebro län\"             \n",
      "[17] \"Västmanlands län\"        \"Dalarnas län\"           \n",
      "[19] \"Gävleborgs län\"          \"Västernorrlands län\"    \n",
      "[21] \"Jämtlands län\"           \"Västerbottens län\"      \n",
      "[23] \"Norrbottens län\"        \n"
     ]
    }
   ],
   "source": [
    "locations <- unique(data$Region)\n",
    "print(locations)"
   ]
  },
  {
   "cell_type": "markdown",
   "id": "657ae133",
   "metadata": {},
   "source": [
    "## calculating the total number of vehicles for each year"
   ]
  },
  {
   "cell_type": "code",
   "execution_count": 97,
   "id": "eed5954e",
   "metadata": {},
   "outputs": [
    {
     "name": "stdout",
     "output_type": "stream",
     "text": [
      "\u001B[90m# A tibble: 21 × 2\u001B[39m\n",
      "    Year Total_Vehicles\n",
      "   \u001B[3m\u001B[90m<dbl>\u001B[39m\u001B[23m          \u001B[3m\u001B[90m<dbl>\u001B[39m\u001B[23m\n",
      "\u001B[90m 1\u001B[39m  \u001B[4m2\u001B[24m002        5\u001B[4m9\u001B[24m\u001B[4m0\u001B[24m\u001B[4m9\u001B[24m048\n",
      "\u001B[90m 2\u001B[39m  \u001B[4m2\u001B[24m003        5\u001B[4m9\u001B[24m\u001B[4m8\u001B[24m\u001B[4m8\u001B[24m867\n",
      "\u001B[90m 3\u001B[39m  \u001B[4m2\u001B[24m004        6\u001B[4m1\u001B[24m\u001B[4m0\u001B[24m\u001B[4m9\u001B[24m236\n",
      "\u001B[90m 4\u001B[39m  \u001B[4m2\u001B[24m005        6\u001B[4m2\u001B[24m\u001B[4m4\u001B[24m\u001B[4m9\u001B[24m931\n",
      "\u001B[90m 5\u001B[39m  \u001B[4m2\u001B[24m006        6\u001B[4m3\u001B[24m\u001B[4m9\u001B[24m\u001B[4m1\u001B[24m274\n",
      "\u001B[90m 6\u001B[39m  \u001B[4m2\u001B[24m007        6\u001B[4m5\u001B[24m\u001B[4m3\u001B[24m\u001B[4m4\u001B[24m651\n",
      "\u001B[90m 7\u001B[39m  \u001B[4m2\u001B[24m008        6\u001B[4m6\u001B[24m\u001B[4m0\u001B[24m\u001B[4m9\u001B[24m445\n",
      "\u001B[90m 8\u001B[39m  \u001B[4m2\u001B[24m009        6\u001B[4m6\u001B[24m\u001B[4m7\u001B[24m\u001B[4m3\u001B[24m593\n",
      "\u001B[90m 9\u001B[39m  \u001B[4m2\u001B[24m010        6\u001B[4m7\u001B[24m\u001B[4m3\u001B[24m\u001B[4m9\u001B[24m870\n",
      "\u001B[90m10\u001B[39m  \u001B[4m2\u001B[24m011        6\u001B[4m8\u001B[24m\u001B[4m5\u001B[24m\u001B[4m9\u001B[24m724\n",
      "\u001B[90m# ℹ 11 more rows\u001B[39m\n"
     ]
    }
   ],
   "source": [
    "total_vehicles_by_year <- data %>%\n",
    "  group_by(Year) %>%\n",
    "  summarize(Total_Vehicles = sum(Number_of_Vehicles))\n",
    "\n",
    "print(total_vehicles_by_year)"
   ]
  },
  {
   "cell_type": "markdown",
   "id": "a9d4a33e",
   "metadata": {},
   "source": [
    "## visualizing the trends in the number of vehicles over time using a line plot and area chart."
   ]
  },
  {
   "cell_type": "code",
   "execution_count": 98,
   "id": "9b88df68",
   "metadata": {},
   "outputs": [
    {
     "data": {
      "image/png": "[encoded data removed]",
      "text/plain": [
       "plot without title"
      ]
     },
     "metadata": {
      "image/png": {
       "height": 420,
       "width": 420
      }
     },
     "output_type": "display_data"
    },
    {
     "data": {
      "image/png": "[encoded data removed]",
      "text/plain": [
       "plot without title"
      ]
     },
     "metadata": {
      "image/png": {
       "height": 420,
       "width": 420
      }
     },
     "output_type": "display_data"
    }
   ],
   "source": [
    "ggplot(data, aes(x = Year, y = Number_of_Vehicles)) +\n",
    "  geom_line() +\n",
    "  labs(x = \"Year\", y = \"Number of Vehicles\") +\n",
    "  ggtitle(\"Trends in Number of Vehicles over Time\")\n",
    "\n",
    "ggplot(data, aes(x = Year, y = Number_of_Vehicles, fill = Vehicle_Type)) +\n",
    "  geom_area() +\n",
    "  labs(x = \"Year\", y = \"Number of Vehicles\") +\n",
    "  ggtitle(\"Trends in Number of Vehicles over Time\") +\n",
    "  scale_fill_discrete(name = \"Vehicle Type\")\n"
   ]
  },
  {
   "cell_type": "code",
   "execution_count": 99,
   "id": "8bb1826d",
   "metadata": {},
   "outputs": [],
   "source": [
    "library(tidyverse)\n",
    "library(modelr)\n",
    "library(palmerpenguins)\n",
    "penguins <- drop_na(penguins)"
   ]
  },
  {
   "cell_type": "markdown",
   "id": "cb53fa7b",
   "metadata": {},
   "source": [
    "## We generate a scatter plot with linear regression lines for the number of vehicles by year in Jönköping"
   ]
  },
  {
   "cell_type": "code",
   "execution_count": 100,
   "id": "40f4d31e",
   "metadata": {},
   "outputs": [],
   "source": [
    " jonkoping <- data %>%\n",
    "  filter(Region == \"Jönköpings län\")"
   ]
  },
  {
   "cell_type": "code",
   "execution_count": 101,
   "id": "86b1c1d1",
   "metadata": {},
   "outputs": [
    {
     "name": "stdout",
     "output_type": "stream",
     "text": [
      "\u001B[90m# A tibble: 252 × 4\u001B[39m\n",
      "   Region          Year Number_of_Vehicles Vehicle_Type  \n",
      "   \u001B[3m\u001B[90m<chr>\u001B[39m\u001B[23m          \u001B[3m\u001B[90m<dbl>\u001B[39m\u001B[23m              \u001B[3m\u001B[90m<dbl>\u001B[39m\u001B[23m \u001B[3m\u001B[90m<chr>\u001B[39m\u001B[23m         \n",
      "\u001B[90m 1\u001B[39m Jönköpings län  \u001B[4m2\u001B[24m002             \u001B[4m1\u001B[24m\u001B[4m5\u001B[24m\u001B[4m4\u001B[24m012 passenger cars\n",
      "\u001B[90m 2\u001B[39m Jönköpings län  \u001B[4m2\u001B[24m003             \u001B[4m1\u001B[24m\u001B[4m5\u001B[24m\u001B[4m5\u001B[24m632 passenger cars\n",
      "\u001B[90m 3\u001B[39m Jönköpings län  \u001B[4m2\u001B[24m004             \u001B[4m1\u001B[24m\u001B[4m5\u001B[24m\u001B[4m7\u001B[24m190 passenger cars\n",
      "\u001B[90m 4\u001B[39m Jönköpings län  \u001B[4m2\u001B[24m005             \u001B[4m1\u001B[24m\u001B[4m5\u001B[24m\u001B[4m8\u001B[24m956 passenger cars\n",
      "\u001B[90m 5\u001B[39m Jönköpings län  \u001B[4m2\u001B[24m006             \u001B[4m1\u001B[24m\u001B[4m6\u001B[24m\u001B[4m1\u001B[24m191 passenger cars\n",
      "\u001B[90m 6\u001B[39m Jönköpings län  \u001B[4m2\u001B[24m007             \u001B[4m1\u001B[24m\u001B[4m6\u001B[24m\u001B[4m3\u001B[24m519 passenger cars\n",
      "\u001B[90m 7\u001B[39m Jönköpings län  \u001B[4m2\u001B[24m008             \u001B[4m1\u001B[24m\u001B[4m6\u001B[24m\u001B[4m4\u001B[24m027 passenger cars\n",
      "\u001B[90m 8\u001B[39m Jönköpings län  \u001B[4m2\u001B[24m009             \u001B[4m1\u001B[24m\u001B[4m6\u001B[24m\u001B[4m4\u001B[24m309 passenger cars\n",
      "\u001B[90m 9\u001B[39m Jönköpings län  \u001B[4m2\u001B[24m010             \u001B[4m1\u001B[24m\u001B[4m6\u001B[24m\u001B[4m5\u001B[24m865 passenger cars\n",
      "\u001B[90m10\u001B[39m Jönköpings län  \u001B[4m2\u001B[24m011             \u001B[4m1\u001B[24m\u001B[4m6\u001B[24m\u001B[4m8\u001B[24m322 passenger cars\n",
      "\u001B[90m# ℹ 242 more rows\u001B[39m\n"
     ]
    }
   ],
   "source": [
    " print(jonkoping)"
   ]
  },
  {
   "cell_type": "code",
   "execution_count": 102,
   "id": "ab43a518",
   "metadata": {},
   "outputs": [
    {
     "data": {
      "text/html": [
       "<style>\n",
       ".list-inline {list-style: none; margin:0; padding: 0}\n",
       ".list-inline>li {display: inline-block}\n",
       ".list-inline>li:not(:last-child)::after {content: \"\\00b7\"; padding: 0 .5ex}\n",
       "</style>\n",
       "<ol class=list-inline><li>'Region'</li><li>'Year'</li><li>'Number_of_Vehicles'</li><li>'Vehicle_Type'</li></ol>\n"
      ],
      "text/latex": [
       "\\begin{enumerate*}\n",
       "\\item 'Region'\n",
       "\\item 'Year'\n",
       "\\item 'Number\\_of\\_Vehicles'\n",
       "\\item 'Vehicle\\_Type'\n",
       "\\end{enumerate*}\n"
      ],
      "text/markdown": [
       "1. 'Region'\n",
       "2. 'Year'\n",
       "3. 'Number_of_Vehicles'\n",
       "4. 'Vehicle_Type'\n",
       "\n",
       "\n"
      ],
      "text/plain": [
       "[1] \"Region\"             \"Year\"               \"Number_of_Vehicles\"\n",
       "[4] \"Vehicle_Type\"      "
      ]
     },
     "metadata": {},
     "output_type": "display_data"
    }
   ],
   "source": [
    "colnames(jonkoping)"
   ]
  },
  {
   "cell_type": "code",
   "execution_count": 103,
   "id": "840b16cc",
   "metadata": {},
   "outputs": [
    {
     "data": {
      "text/html": [
       "<style>\n",
       ".list-inline {list-style: none; margin:0; padding: 0}\n",
       ".list-inline>li {display: inline-block}\n",
       ".list-inline>li:not(:last-child)::after {content: \"\\00b7\"; padding: 0 .5ex}\n",
       "</style>\n",
       "<ol class=list-inline><li>'passenger cars'</li><li>'light lorries'</li><li>'heavy lorries'</li><li>'towing vehicles'</li><li>'buses'</li><li>'motorcycles'</li><li>'mopeds class 1'</li><li>'tractors'</li><li>'snowmobiles'</li><li>'all-terrain vehicles'</li><li>'cross-country scooters'</li><li>'trailers'</li></ol>\n"
      ],
      "text/latex": [
       "\\begin{enumerate*}\n",
       "\\item 'passenger cars'\n",
       "\\item 'light lorries'\n",
       "\\item 'heavy lorries'\n",
       "\\item 'towing vehicles'\n",
       "\\item 'buses'\n",
       "\\item 'motorcycles'\n",
       "\\item 'mopeds class 1'\n",
       "\\item 'tractors'\n",
       "\\item 'snowmobiles'\n",
       "\\item 'all-terrain vehicles'\n",
       "\\item 'cross-country scooters'\n",
       "\\item 'trailers'\n",
       "\\end{enumerate*}\n"
      ],
      "text/markdown": [
       "1. 'passenger cars'\n",
       "2. 'light lorries'\n",
       "3. 'heavy lorries'\n",
       "4. 'towing vehicles'\n",
       "5. 'buses'\n",
       "6. 'motorcycles'\n",
       "7. 'mopeds class 1'\n",
       "8. 'tractors'\n",
       "9. 'snowmobiles'\n",
       "10. 'all-terrain vehicles'\n",
       "11. 'cross-country scooters'\n",
       "12. 'trailers'\n",
       "\n",
       "\n"
      ],
      "text/plain": [
       " [1] \"passenger cars\"         \"light lorries\"          \"heavy lorries\"         \n",
       " [4] \"towing vehicles\"        \"buses\"                  \"motorcycles\"           \n",
       " [7] \"mopeds class 1\"         \"tractors\"               \"snowmobiles\"           \n",
       "[10] \"all-terrain vehicles\"   \"cross-country scooters\" \"trailers\"              "
      ]
     },
     "metadata": {},
     "output_type": "display_data"
    }
   ],
   "source": [
    "unique(jonkoping$Vehicle_Type)\n"
   ]
  },
  {
   "cell_type": "code",
   "execution_count": 104,
   "id": "55898166",
   "metadata": {},
   "outputs": [
    {
     "name": "stderr",
     "output_type": "stream",
     "text": [
      "\u001B[1m\u001B[22m`geom_smooth()` using formula = 'y ~ x'\n"
     ]
    },
    {
     "data": {
      "image/png": "[encoded data removed]",
      "text/plain": [
       "plot without title"
      ]
     },
     "metadata": {
      "image/png": {
       "height": 420,
       "width": 420
      }
     },
     "output_type": "display_data"
    }
   ],
   "source": [
    "ggplot(jonkoping, aes(x = Year, y = Number_of_Vehicles, color = Vehicle_Type)) +\n",
    "  geom_point() +\n",
    "  geom_smooth(method = \"lm\", se = FALSE) +\n",
    "  labs(x = \"Year\", y = \"Number of Vehicles\", title = \"Number of Vehicles by Year in Jonkoping\") +\n",
    "  scale_color_discrete(name = \"Vehicle Type\")"
   ]
  },
  {
   "cell_type": "code",
   "execution_count": 105,
   "id": "13d0e7ba",
   "metadata": {},
   "outputs": [],
   "source": [
    "library(randomForest)\n",
    "library(caret)\n",
    "library(Metrics)"
   ]
  },
  {
   "cell_type": "markdown",
   "id": "c1e782c4",
   "metadata": {},
   "source": [
    "## Train a linear regression model"
   ]
  },
  {
   "cell_type": "code",
   "execution_count": 106,
   "id": "7df10557",
   "metadata": {},
   "outputs": [
    {
     "name": "stdout",
     "output_type": "stream",
     "text": [
      "[1] \"Root Mean Squared Error (RMSE): 53148.967126601\"\n"
     ]
    }
   ],
   "source": [
    "data <- data %>%\n",
    "  select(Year, Region, Vehicle_Type, Number_of_Vehicles) \n",
    "data <- na.omit(data)  # Remove rows with missing values\n",
    "\n",
    "# Convert categorical variables to factors\n",
    "data$Region <- as.factor(data$Region)\n",
    "data$Vehicle_Type <- as.factor(data$Vehicle_Type)\n",
    "\n",
    "# Split the data into training and testing sets\n",
    "set.seed(123)  # Set random seed for reproducibility\n",
    "train_indices <- createDataPartition(data$Number_of_Vehicles, p = 0.7, list = FALSE)\n",
    "train_data <- data[train_indices, ]\n",
    "test_data <- data[-train_indices, ]\n",
    "\n",
    "# Train the linear regression model\n",
    "model <- lm(Number_of_Vehicles ~ Year + Region + Vehicle_Type, data = train_data)\n",
    "\n",
    "predictions <- predict(model, newdata = test_data)\n",
    "\n",
    "accuracy <- caret::RMSE(predictions, test_data$Number_of_Vehicles)\n",
    "print(paste(\"Root Mean Squared Error (RMSE):\", accuracy))"
   ]
  },
  {
   "cell_type": "markdown",
   "id": "fcebaea9",
   "metadata": {},
   "source": [
    "## we predict the number of vehicles given a year, region, and vehicle type"
   ]
  },
  {
   "cell_type": "code",
   "execution_count": 107,
   "id": "ecad5e7d",
   "metadata": {},
   "outputs": [
    {
     "name": "stdout",
     "output_type": "stream",
     "text": [
      "[1] \"Predicted number of vehicles: 270837.777208403\"\n"
     ]
    }
   ],
   "source": [
    "model <- lm(Number_of_Vehicles ~ Year + Region + Vehicle_Type, data = data)\n",
    "\n",
    "# Define the input values for prediction\n",
    "year <- 2023\n",
    "region <- \"Stockholms län\"\n",
    "vehicle_type <- \"passenger cars\"\n",
    "\n",
    "# Create a new data frame with the input values\n",
    "new_data <- data.frame(Year = year, Region = region, Vehicle_Type = vehicle_type)\n",
    "\n",
    "prediction <- predict(model, newdata = new_data)\n",
    "\n",
    "print(paste(\"Predicted number of vehicles:\", prediction))"
   ]
  }
 ],
 "metadata": {
  "kernelspec": {
   "display_name": "R",
   "language": "R",
   "name": "ir"
  },
  "language_info": {
   "codemirror_mode": "r",
   "file_extension": ".r",
   "mimetype": "text/x-r-source",
   "name": "R",
   "pygments_lexer": "r",
   "version": "4.3.0"
  }
 },
 "nbformat": 4,
 "nbformat_minor": 5
}
