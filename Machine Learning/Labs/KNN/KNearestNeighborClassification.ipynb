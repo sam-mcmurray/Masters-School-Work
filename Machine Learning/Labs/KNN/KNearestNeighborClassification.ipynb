{
 "cells": [
  {
   "cell_type": "code",
   "execution_count": 5,
   "metadata": {
    "collapsed": true
   },
   "outputs": [],
   "source": [
    "import pandas as pd\n",
    "import numpy as np"
   ]
  },
  {
   "cell_type": "code",
   "execution_count": 6,
   "outputs": [],
   "source": [
    "dataset = pd.read_csv(\"../NaiveBayes/iris.tmls\")\n",
    "dataset = dataset.iloc[1:, :]\n",
    "size = dataset.shape.__getitem__(0)\n",
    "test_size = size // 10\n",
    "train_size = size - test_size\n",
    "dataset = dataset.sample(frac=1)\n",
    "dataset = dataset.sample(frac=1)\n",
    "parts = []\n",
    "start = 0\n",
    "end = test_size\n",
    "for i in range(10):\n",
    "    parts.append(dataset.iloc[start:end, :])\n",
    "    start += test_size\n",
    "    end += test_size\n"
   ],
   "metadata": {
    "collapsed": false
   }
  },
  {
   "cell_type": "code",
   "execution_count": 7,
   "outputs": [
    {
     "name": "stdout",
     "output_type": "stream",
     "text": [
      "Setosa Accuracy fold  0 :  1.0\n",
      "Versicolor Accuracy fold  0 :  1.0\n",
      "Virginica Accuracy fold  0 :  1.0\n",
      "Fold Accuracy fold  0 :  1.0\n",
      "Setosa Accuracy fold  1 :  1.0\n",
      "Versicolor Accuracy fold  1 :  1.0\n",
      "Virginica Accuracy fold  1 :  1.0\n",
      "Fold Accuracy fold  1 :  1.0\n",
      "Setosa Accuracy fold  2 :  0.9375\n",
      "Versicolor Accuracy fold  2 :  0.9333333333333333\n",
      "Virginica Accuracy fold  2 :  0.9333333333333333\n",
      "Fold Accuracy fold  2 :  0.9347222222222222\n",
      "Setosa Accuracy fold  3 :  0.9375\n",
      "Versicolor Accuracy fold  3 :  0.8\n",
      "Virginica Accuracy fold  3 :  0.8\n",
      "Fold Accuracy fold  3 :  0.8458333333333333\n",
      "Setosa Accuracy fold  4 :  0.9375\n",
      "Versicolor Accuracy fold  4 :  0.9333333333333333\n",
      "Virginica Accuracy fold  4 :  0.9333333333333333\n",
      "Fold Accuracy fold  4 :  0.9347222222222222\n",
      "Setosa Accuracy fold  5 :  1.0\n",
      "Versicolor Accuracy fold  5 :  0.9333333333333333\n",
      "Virginica Accuracy fold  5 :  0.9333333333333333\n",
      "Fold Accuracy fold  5 :  0.9555555555555556\n",
      "Setosa Accuracy fold  6 :  1.0\n",
      "Versicolor Accuracy fold  6 :  1.0\n",
      "Virginica Accuracy fold  6 :  1.0\n",
      "Fold Accuracy fold  6 :  1.0\n",
      "Setosa Accuracy fold  7 :  0.9375\n",
      "Versicolor Accuracy fold  7 :  0.9333333333333333\n",
      "Virginica Accuracy fold  7 :  0.9333333333333333\n",
      "Fold Accuracy fold  7 :  0.9347222222222222\n",
      "Setosa Accuracy fold  8 :  1.0\n",
      "Versicolor Accuracy fold  8 :  1.0\n",
      "Virginica Accuracy fold  8 :  1.0\n",
      "Fold Accuracy fold  8 :  1.0\n",
      "Setosa Accuracy fold  9 :  1.0\n",
      "Versicolor Accuracy fold  9 :  1.0\n",
      "Virginica Accuracy fold  9 :  1.0\n",
      "Fold Accuracy fold  9 :  1.0\n"
     ]
    }
   ],
   "source": [
    "accuracy = []\n",
    "for cv in range(10):\n",
    "    n_neighbors = 5\n",
    "    test = parts[cv]\n",
    "    train_list  = [parts[train_part] for train_part in range(10) if cv != train_part]\n",
    "    train = pd.concat(train_list)\n",
    "    x_test = test.iloc[:, :-1]\n",
    "    y_test = test.iloc[:, -1]\n",
    "    x_train = train.iloc[:, :-1]\n",
    "    y_train = train.iloc[:, -1]\n",
    "    x_train = x_train.astype(float)\n",
    "    x_test = x_test.astype(float)\n",
    "    cm = [[0,0,0],[0,0,0],[0,0,0]]\n",
    "    for i in range(test_size):\n",
    "        x = x_test.iloc[[i]].values\n",
    "        y = y_test.iloc[[i]].values\n",
    "        distances = []\n",
    "        for instance in range(train_size):\n",
    "            X_train = x_train.iloc[[instance]].values\n",
    "            Y_train = y_train.iloc[[instance]].values\n",
    "            distances.append([np.sqrt(np.sum(np.square(x - X_train))), str(Y_train[0])])\n",
    "\n",
    "        distances.sort()\n",
    "        virginica = 0\n",
    "        setosa = 0\n",
    "        versicolor = 0\n",
    "        for n in range(n_neighbors):\n",
    "            distance = distances[n]\n",
    "            if distance[1] == 'Iris-versicolor':\n",
    "                versicolor += 1\n",
    "            elif distance[1] == 'Iris-virginica':\n",
    "                virginica += 1\n",
    "            elif distance[1] == 'Iris-setosa':\n",
    "                setosa += 1\n",
    "        if virginica > n_neighbors//2:\n",
    "            if y[0] == 'Iris-virginica':\n",
    "                cm[2][2] += 1\n",
    "            elif y[0] == 'Iris-setosa':\n",
    "                cm[2][0] += 1\n",
    "            else:\n",
    "                cm[2][1] += 1\n",
    "        elif versicolor > n_neighbors//2:\n",
    "            if y[0] == 'Iris-virginica':\n",
    "                cm[1][2] += 1\n",
    "            elif y[0] == 'Iris-setosa':\n",
    "                cm[1][0] += 1\n",
    "            else:\n",
    "                cm[1][1] += 1\n",
    "\n",
    "        elif setosa > n_neighbors//2:\n",
    "            if y[0] == 'Iris-virginica':\n",
    "                cm[0][2] += 1\n",
    "            elif y[0] == 'Iris-setosa':\n",
    "                cm[0][0] += 1\n",
    "            else:\n",
    "                cm[0][1] += 1\n",
    "\n",
    "    tp_setosa = cm[0][0]\n",
    "    fn_setosa = cm[0][1] + cm[0][2]\n",
    "    fp_setosa = cm[1][0] + cm[2][1]\n",
    "    tn_setosa = cm[1][1] + cm[1][2] + cm[2][1] + cm[2][2]\n",
    "    setosa_accuracy = (tp_setosa + tn_setosa)/(tp_setosa + fn_setosa + fp_setosa + tn_setosa)\n",
    "    tp_versicolor = cm[1][1]\n",
    "    fn_versicolor = cm[1][0] + cm[1][2]\n",
    "    fp_versicolor = cm[0][1] + cm[2][1]\n",
    "    tn_versicolor = cm[0][0] + cm[0][2] + cm[2][0] + cm[2][2]\n",
    "    versicolor_accuracy = (tp_versicolor + tn_versicolor)/(tp_versicolor + fn_versicolor + fp_versicolor + tn_versicolor)\n",
    "    tp_virginica = cm[2][2]\n",
    "    fn_virginica = cm[2][0] + cm[2][1]\n",
    "    fp_virginica = cm[1][2] + cm[0][2]\n",
    "    tn_virginica = cm[0][0] + cm[0][1] + cm[1][0] + cm[1][1]\n",
    "    virginica_accuracy = (tp_virginica + tn_virginica)/(tp_virginica + fn_virginica + fp_virginica + tn_virginica)\n",
    "    print(\"Setosa Accuracy fold \", cv , \": \", setosa_accuracy)\n",
    "    print(\"Versicolor Accuracy fold \", cv, \": \", versicolor_accuracy)\n",
    "    print(\"Virginica Accuracy fold \", cv, \": \", virginica_accuracy)\n",
    "    fold_accuracy = (setosa_accuracy + versicolor_accuracy + virginica_accuracy) / 3\n",
    "    print(\"Fold Accuracy fold \", cv, \": \", fold_accuracy)\n",
    "    accuracy.append(fold_accuracy)\n",
    "\n"
   ],
   "metadata": {
    "collapsed": false
   }
  },
  {
   "cell_type": "code",
   "execution_count": 8,
   "outputs": [
    {
     "name": "stdout",
     "output_type": "stream",
     "text": [
      "Average accuracy:  0.9605555555555556\n"
     ]
    }
   ],
   "source": [
    "average_accuracy = 0\n",
    "for fold in accuracy:\n",
    "    average_accuracy += fold\n",
    "average_accuracy = average_accuracy / 10\n",
    "print(\"Average accuracy: \", average_accuracy)"
   ],
   "metadata": {
    "collapsed": false
   }
  }
 ],
 "metadata": {
  "kernelspec": {
   "display_name": "Python 3",
   "language": "python",
   "name": "python3"
  },
  "language_info": {
   "codemirror_mode": {
    "name": "ipython",
    "version": 2
   },
   "file_extension": ".py",
   "mimetype": "text/x-python",
   "name": "python",
   "nbconvert_exporter": "python",
   "pygments_lexer": "ipython2",
   "version": "2.7.6"
  }
 },
 "nbformat": 4,
 "nbformat_minor": 0
}
