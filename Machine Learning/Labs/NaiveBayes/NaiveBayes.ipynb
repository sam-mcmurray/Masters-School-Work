{
 "cells": [
  {
   "cell_type": "markdown",
   "metadata": {},
   "source": [
    "## IMPORT PACKAGES"
   ]
  },
  {
   "cell_type": "code",
   "execution_count": 15,
   "metadata": {},
   "outputs": [],
   "source": [
    "import numpy as np\n",
    "import matplotlib.pyplot as plt\n",
    "import pandas as pd"
   ]
  },
  {
   "cell_type": "markdown",
   "metadata": {},
   "source": [
    "## READ DATA FROM THE IRIS DATASET AND REMOVE FIRST ROW"
   ]
  },
  {
   "cell_type": "code",
   "execution_count": 16,
   "metadata": {},
   "outputs": [],
   "source": [
    "dataset = pd.read_csv(\"iris.tmls\")\n",
    "dataset = dataset.iloc[1:, :]\n",
    "cv = 10"
   ]
  },
  {
   "cell_type": "markdown",
   "metadata": {},
   "source": [
    "## SPLIT BY CLASS"
   ]
  },
  {
   "cell_type": "code",
   "execution_count": 17,
   "metadata": {},
   "outputs": [],
   "source": [
    "setosa_set = dataset.loc[dataset['class'] == 'Iris-setosa']\n",
    "virginica_set = dataset.loc[dataset['class'] == 'Iris-virginica']\n",
    "versicolor_set =dataset.loc[dataset['class'] == 'Iris-versicolor']"
   ]
  },
  {
   "cell_type": "markdown",
   "metadata": {},
   "source": [
    "## COMBINE 2 OF EACH TO 3 TOTAL DATASETS"
   ]
  },
  {
   "cell_type": "code",
   "execution_count": 18,
   "metadata": {},
   "outputs": [],
   "source": [
    "versicolor_virginica_set = pd.concat([versicolor_set, virginica_set], axis=0)\n",
    "setosa_virginica_set = pd.concat([setosa_set, virginica_set], axis=0)\n",
    "setosa_versicolor_set = pd.concat([setosa_set, versicolor_set], axis=0)"
   ]
  },
  {
   "cell_type": "markdown",
   "metadata": {},
   "source": [
    "## GET THE SAMPLE SIZE AND FEATURES FOR EACH DATASET (SHOULD BE THE SAME FOR EACH)"
   ]
  },
  {
   "cell_type": "code",
   "execution_count": 19,
   "metadata": {},
   "outputs": [],
   "source": [
    "versicolor_virginica_set_samples, versicolor_virginica_set_features = versicolor_virginica_set.iloc[:, :-1].shape\n",
    "setosa_virginica_set_samples, setosa_virginica_set_features = setosa_virginica_set.iloc[:, :-1].shape\n",
    "setosa_versicolor_set_samples, setosa_versicolor_set_features = setosa_versicolor_set.iloc[:, :-1].shape\n",
    "# print(\"SET versi-virgin Shape: \", versicolor_virginica_set_samples, \", \", versicolor_virginica_set_features)\n",
    "# print(\"SET setos-virgin Shape: \", setosa_virginica_set_samples, \", \", setosa_virginica_set_features)\n",
    "# print(\"SET setos-versi Shape: \", setosa_versicolor_set_samples, \", \", setosa_versicolor_set_features)"
   ]
  },
  {
   "cell_type": "markdown",
   "metadata": {},
   "source": [
    "## CROSS VALIDATOR IS THE METHOD THAT SPLITS THE INSTANCES INTO EQUAL PARTS BASED OF THE NUMBER OF FOLDS THAT WILL BE USED"
   ]
  },
  {
   "cell_type": "code",
   "execution_count": 20,
   "metadata": {},
   "outputs": [],
   "source": [
    "def cross_validator(number: int, size: int, dataset):\n",
    "    parts = []\n",
    "    start = 0\n",
    "    end = size\n",
    "    for i in range(number):\n",
    "        parts.append(dataset.iloc[start:end, :])\n",
    "        start += size\n",
    "        end += size\n",
    "    return parts"
   ]
  },
  {
   "cell_type": "markdown",
   "metadata": {},
   "source": [
    "## SHUFFLE INSTANCES CREATE THE DIFFERENT SECTIONS OR PARTS FOR THE 10-FOLD CROSS VALIDATION"
   ]
  },
  {
   "cell_type": "code",
   "execution_count": 21,
   "metadata": {},
   "outputs": [],
   "source": [
    "test_size = versicolor_virginica_set_samples // cv\n",
    "train_size = versicolor_virginica_set_samples - test_size\n",
    "# setosa versicolor dataset shuffle\n",
    "s_versi = setosa_versicolor_set.sample(frac=1)\n",
    "s_versi = s_versi.sample(frac=1)\n",
    "# setosa virginica dataset shuffle\n",
    "s_vir = setosa_virginica_set.sample(frac=1)\n",
    "s_vir = s_vir.sample(frac=1)\n",
    "# virginica versicolor dataset shuffle\n",
    "vir_versi = versicolor_virginica_set.sample(frac=1)\n",
    "vir_versi = vir_versi.sample(frac=1)\n",
    "# sections or parts for splits\n",
    "s_versi_parts = cross_validator(cv, test_size, s_versi)\n",
    "# print(s_versi_parts)\n",
    "s_vir_parts = cross_validator(cv, test_size, s_vir)\n",
    "# print(s_vir_parts)\n",
    "vir_versi_parts = cross_validator(cv, test_size, vir_versi)\n",
    "# print(vir_versi_parts)"
   ]
  },
  {
   "cell_type": "markdown",
   "metadata": {},
   "source": [
    "## FUNCTION TO TRAIN THE NAIVE BAYES CLASSIFIER RETURNING THE PRIOR CLASS PROBABILITY, MEANS FOR THE FEATURES OF THE CLASSES, AND THE VARIANCES FOR THE FEATURES OF EACH CLASS\n",
    "Getting the values for the different classes of the mean variance and priors made the most sense especially returning these values to make use of them within the prediction function which actually didn't predict but returned the predicted probability of the positive class."
   ]
  },
  {
   "cell_type": "code",
   "execution_count": 22,
   "metadata": {},
   "outputs": [],
   "source": [
    "def nb_train(trainset):\n",
    "    # classes in the current dataset\n",
    "    classes = np.unique(trainset.iloc[:, -1])\n",
    "    n_classes = len(classes)\n",
    "    n_features = setosa_virginica_set_features\n",
    "    # create an dataframe for the mean, variance, and prior\n",
    "    # priors for the classes initializing values to zero\n",
    "    priors = np.zeros(n_classes, dtype=float)\n",
    "    # means for each of the features for the classes initializing values to zero\n",
    "    means = np.zeros((n_classes, n_features), dtype=float)\n",
    "    # variances for each of the features for the classes initializing values to zero\n",
    "    variances = np.zeros((n_classes, n_features), dtype=float)\n",
    "    # calculate mean, variance, and priors for each of the classes\n",
    "    for index in range(len(classes)):\n",
    "        # get the instances that are present in the fold for the training set\n",
    "        samples = trainset.loc[trainset['class'] == classes[index]]\n",
    "        # remove the class feature and set the instances values for the other features to type float\n",
    "        X = samples.iloc[:, :-1].astype(float)\n",
    "        # adding the mean for each of the features for the current class\n",
    "        # (The average value for each of the features in the train set for this class)\n",
    "        means[index, :] = X.mean(axis=0)\n",
    "        #print(\"Mean class: \", classes[index], \" means: \", means[index, :])\n",
    "        # adding the variance for each of the features of the current class\n",
    "        # (The spread of the values for the features within the train dataset for this class)\n",
    "        variances[index, :] = X.var(axis=0)\n",
    "        #print(\"Variance class: \", classes[index], \" variances: \", variances[index, :] )\n",
    "        # adding the prior probability in the train set for the current class\n",
    "        # (The probability that if you picked an instance at random from the train set that it would be this classes.)\n",
    "        priors[index] = X.shape[0] / float(train_size)\n",
    "        #print(\"Prior class: \", classes[index], \" prior: \", priors[index])\n",
    "\n",
    "    return priors, means, variances, classes"
   ]
  },
  {
   "cell_type": "markdown",
   "metadata": {},
   "source": [
    "## GET THE PREDICTIVE PROBABILITY FOR THE TEST SET USING THE GAUSSIAN PREDICTION DISTRIBUTION FUNCTION\n",
    "The choice of Naive Bayes using the normal distrubution or Gaussian distribution was due to the condinous nature of the values although they can be grouped between classes fairly well it could be any value within a range. Additionally there were a few variations of examples found that used this distribution although I attempted to make use of it in my own manner."
   ]
  },
  {
   "cell_type": "code",
   "execution_count": 23,
   "metadata": {},
   "outputs": [],
   "source": [
    "def nb_predict(x_test, means, priors, variances, classes):\n",
    "    # Posterior_values are the values that are calculated from the\n",
    "    prediction_proba_values = []\n",
    "    for i in range(test_size):\n",
    "        x = x_test.iloc[[i]].values\n",
    "        posteriors = []\n",
    "        # gaussian calculation for the conditional class probabiltiy\n",
    "        for index, cl in enumerate(classes):\n",
    "            # probability density function g(x) = (1/(standard deviation * sqrt(2pi))) * exp(-1/2 * ((x_i - mean_y)^2 / (variance)))\n",
    "            # the numerator represenst exp(-1/2 * ((x_i - mean_y)^2 / (variance)))\n",
    "            num = np.exp(-.5 * ((x - means[index]) ** 2) / (variances[index]))\n",
    "            # the denominator represents (standard deviation * sqrt(2 * pi))\n",
    "            # print(num)\n",
    "            den = np.sqrt(variances[index]) * np.sqrt(2 * np.pi)\n",
    "            # print(den)\n",
    "            # sum the values for each of the P(x_1|Y) + P(x_2|Y) + ... + P(x_n|Y)\n",
    "            df = np.sum(np.log(num/den))\n",
    "            # The prior probability of the current class\n",
    "            prior = np.log(priors[index])\n",
    "            # calculate posterior probabibilty for the class and add to the list\n",
    "            posterior = prior + df\n",
    "            posteriors.append(posterior)\n",
    "        # calculate predicted probability for classes[0]\n",
    "        pred_proba = 1 - (posteriors[0] / (posteriors[1] + posteriors[0]))\n",
    "        # add to list to use in the confusion matrix with the thresholds\n",
    "        prediction_proba_values.append(pred_proba)\n",
    "\n",
    "    return prediction_proba_values"
   ]
  },
  {
   "cell_type": "markdown",
   "metadata": {},
   "source": [
    "## FUNCTION FOR CALULATING THE TRUE POSITVE RATE AND FALSE POSITIVE RATE FOR EACH FOLD\n",
    "It made the most sense for me to create a function that could take the predicted probability with the y_test values as well as the threshold to create the confusion matrix returning to tpr and fpr for the current threshold in the fold."
   ]
  },
  {
   "cell_type": "code",
   "execution_count": 24,
   "metadata": {},
   "outputs": [],
   "source": [
    "def tpr_fpr(threshold, pred_proba_values, y_test, classes):\n",
    "    # create the confusion matrix to store the results\n",
    "    cm = [[0,0],[0,0]]\n",
    "    for i in range(len(y_test)):\n",
    "        # get the y value for the current instance and store it in a variable as actual\n",
    "        y = y_test.iloc[[i]].values\n",
    "        actual = str(y[0])\n",
    "        # classes[0] is the positive class check if the positive class has a predictive probability higher than threshold\n",
    "        if pred_proba_values[i] >= threshold:\n",
    "            # store the value of the class ie Iris-setosa\n",
    "            prediction = classes[0]\n",
    "            # print(\"PRED >= THRESH: \", pred_proba_values[i], prediction, actual)\n",
    "            if actual == prediction:\n",
    "                # true positive (tp)\n",
    "                cm[0][0] += 1\n",
    "                # print(cm)\n",
    "            else:\n",
    "                # false positive (fp)\n",
    "                cm[0][1] += 1\n",
    "                # print(cm)\n",
    "        # if threshold is greater than the predictive probabiltiy of the positive class\n",
    "        elif pred_proba_values[i] < threshold:\n",
    "            # store the value of the class ie Iris-versicolor\n",
    "            prediction = classes[1]\n",
    "            # print(\"PRED < THRESH: \", pred_proba_values[i], prediction, actual)\n",
    "            if actual == prediction:\n",
    "                # true negative (tn)\n",
    "                cm[1][1] += 1\n",
    "                # print(cm)\n",
    "            else:\n",
    "                # false negative (fn)\n",
    "                cm[1][0] += 1\n",
    "                # print(cm)\n",
    "    # true positive rate (tpr) = tp / (tp + fn)\n",
    "    tp = cm[0][0]\n",
    "    tp_fn = cm[0][0] + cm[1][0]\n",
    "    tpr = 0\n",
    "    # check if denominator is not 0 to calculate tpr\n",
    "    if tp > 0 and tp_fn > 0:\n",
    "        tpr = tp / tp_fn\n",
    "    # print(\"TPR: \", tpr)\n",
    "    # false positive rate (fpr) = fp / (fp + tn)\n",
    "    fp = cm[0][1]\n",
    "    fp_tn = cm[0][1] + cm[1][1]\n",
    "    fpr = 0\n",
    "    # check if denominator is not 0 to calculate fpr\n",
    "    if fp > 0 and fp_tn > 0:\n",
    "        fpr =  fp / fp_tn\n",
    "    # print(\"FPR:\", fpr)\n",
    "\n",
    "    return tpr, fpr"
   ]
  },
  {
   "cell_type": "markdown",
   "metadata": {},
   "source": [
    "## DO THE CROSS-VALIDATION ON THE DATASET RETURNING THE TPR_AVERAGES AND THE FPR_AVERAGES FOR EACH OF THE THRESHOLDS"
   ]
  },
  {
   "cell_type": "code",
   "execution_count": 25,
   "metadata": {},
   "outputs": [],
   "source": [
    "def cross_validation(dataset):\n",
    "    tpr_set = []\n",
    "    fpr_set = []\n",
    "    for fold in range(cv):\n",
    "        # test part for the set on particular fold\n",
    "        test = dataset[fold]\n",
    "        # combine all parts except for the test part\n",
    "        train_list  = [dataset[train_part] for train_part in range(cv) if fold != train_part]\n",
    "        # train set\n",
    "        train = pd.concat(train_list)\n",
    "        # split into X for the features and y for target class for both test and train sets\n",
    "        X_test = test.iloc[:, :-1]\n",
    "        y_test = test.iloc[:, -1]\n",
    "        # both X train and X test sets have the datatype set to float so that numpy can operate\n",
    "        X_test = X_test.astype(float)\n",
    "        # train the naive bayes classifier ie get these values for the prior, means, and variances for the train set\n",
    "        priors, means, variances, classes = nb_train(train)\n",
    "        # predict with the naive bayes classifier ie use the train values to predict the class of the instances in the test set\n",
    "        prediction_proba_values = nb_predict(X_test, means, priors, variances, classes)\n",
    "        # creates a list of thresholds ranging from 0.05 to 0.95 with a step of approximatly of 0.05\n",
    "        thresholds = np.linspace(0.05, 0.95, 19)\n",
    "        # append the endpoint for the ROC\n",
    "        tpr_thresholds = [1]\n",
    "        fpr_thresholds = [1]\n",
    "        # get the tpr and fpr for each threshold on the current fold\n",
    "        for threshold in thresholds:\n",
    "            tpr, fpr = tpr_fpr(threshold, prediction_proba_values, y_test, classes)\n",
    "            # append the values for the tpr and fpr of the current threshold to list\n",
    "            tpr_thresholds.append(tpr)\n",
    "            fpr_thresholds.append(fpr)\n",
    "            # print(threshold, tpr, fpr)\n",
    "        # append the starting point of the ROC\n",
    "        tpr_thresholds.append(0)\n",
    "        fpr_thresholds.append(0)\n",
    "        # add the list of thresholds for this fold to the tpr and fpr for all folds in the ccross validation\n",
    "        tpr_set.append(tpr_thresholds)\n",
    "        fpr_set.append(fpr_thresholds)\n",
    "    # convert the tpr and fpr for all folds to a np array inorder to easily calculate the averages\n",
    "    tpr_set = np.array(tpr_set)\n",
    "    fpr_set = np.array(fpr_set)\n",
    "    # calculate the averages for the tpr and fpr on all folds\n",
    "    tpr_averages = np.array(tpr_set.mean(axis=0))\n",
    "    # print(tpr_averages)\n",
    "    fpr_averages = np.array(fpr_set.mean(axis=0))\n",
    "    # print(fpr_averages)\n",
    "\n",
    "    return tpr_averages, fpr_averages"
   ]
  },
  {
   "cell_type": "markdown",
   "metadata": {},
   "source": [
    "## CALCULATE AUC FROM THE TPR AND FPR VALUES BY FIRST ESTABLISHING THE TRIANGLE AREA THEN ADDING THE AREA TO THE AREA OF THE RECTANGLE BELOW IT"
   ]
  },
  {
   "cell_type": "code",
   "execution_count": 26,
   "metadata": {},
   "outputs": [],
   "source": [
    "def calculate_auc(tpr, fpr):\n",
    "    # the area of the triangle that exists between the points of tpr and fpr\n",
    "    triangle = 0\n",
    "    # below the triangle is the remaining area under that curve\n",
    "    rectangle = 0\n",
    "    for index in range(len(tpr) - 1):\n",
    "        tpr0 = tpr[index]\n",
    "        tpr1 = tpr[index + 1]\n",
    "        fpr0 = fpr[index]\n",
    "        fpr1 = fpr[index + 1]\n",
    "        # the current area of the triangles\n",
    "        triangle = (tpr0 - tpr1) * (fpr0 - fpr1) / 2\n",
    "        # the current area under the triangle\n",
    "        rectangle = rectangle + (fpr0 - fpr1) * tpr0\n",
    "    return triangle + rectangle"
   ]
  },
  {
   "cell_type": "markdown",
   "metadata": {},
   "source": [
    "## RUN THE EXPERIMENT ON THE DIFFERENT DATASETS WITH THE CROSS VALIDATION FUNCTION THEN PRESENTING THE RESULTS IN THE AUC-ROC CURVE"
   ]
  },
  {
   "cell_type": "code",
   "execution_count": 27,
   "metadata": {},
   "outputs": [
    {
     "data": {
      "image/png": "[encoded data removed]",
      "text/plain": [
       "<Figure size 2000x500 with 3 Axes>"
      ]
     },
     "metadata": {},
     "output_type": "display_data"
    }
   ],
   "source": [
    "# cross validation cv is set to 10 and each dataset tested on each fold\n",
    "figure, axis = plt.subplots(1, 3, figsize=(20, 5))\n",
    "# Setosa Versicolor\n",
    "tpr_sv, fpr_sv = cross_validation(s_versi_parts)\n",
    "auc_sv = calculate_auc(tpr_sv, fpr_sv)\n",
    "auc_sv = \"AUC: \" + str(auc_sv)\n",
    "axis[0].set(xlabel='FPR', ylabel='TPR')\n",
    "axis[0].set_title(\"Setosa vs. Versicolor AUC-ROC Curve\")\n",
    "axis[0].plot(fpr_sv, tpr_sv)\n",
    "axis[0].plot([0,1], [0,1], linestyle='dashed')\n",
    "axis[0].legend([auc_sv])\n",
    "# Setosa Virginica\n",
    "tpr_svir, fpr_svir = cross_validation(s_vir_parts)\n",
    "auc_svir = calculate_auc(tpr_svir, fpr_svir)\n",
    "auc_svir = \"AUC: \" + str(auc_svir)\n",
    "axis[1].set(xlabel='FPR', ylabel='TPR')\n",
    "axis[1].set_title(\"Setosa vs. Virginica AUC-ROC Curve\")\n",
    "axis[1].plot(fpr_svir, tpr_svir)\n",
    "axis[1].plot([0,1], [0,1], linestyle='dashed')\n",
    "axis[1].legend([auc_svir])\n",
    "# Virginica Versicolor\n",
    "tpr_vv, fpr_vv = cross_validation(vir_versi_parts)\n",
    "auc_vv = calculate_auc(tpr_vv, fpr_vv)\n",
    "auc_vv = \"AUC: \" + str(auc_vv)\n",
    "axis[2].set(xlabel='FPR', ylabel='TPR')\n",
    "axis[2].set_title(\"Versicolor vs. Virginica AUC-ROC Curve\")\n",
    "axis[2].plot(fpr_vv, tpr_vv)\n",
    "axis[2].plot([0,1], [0,1], linestyle='dashed')\n",
    "axis[2].legend([auc_vv])\n",
    "plt.show()"
   ]
  }
 ],
 "metadata": {
  "kernelspec": {
   "display_name": "Python 3 (ipykernel)",
   "language": "python",
   "name": "python3"
  },
  "language_info": {
   "codemirror_mode": {
    "name": "ipython",
    "version": 3
   },
   "file_extension": ".py",
   "mimetype": "text/x-python",
   "name": "python",
   "nbconvert_exporter": "python",
   "pygments_lexer": "ipython3",
   "version": "3.10.0"
  }
 },
 "nbformat": 4,
 "nbformat_minor": 1
}
