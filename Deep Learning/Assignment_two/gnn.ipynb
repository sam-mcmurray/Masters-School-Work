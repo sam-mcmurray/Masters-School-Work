{
 "cells": [
  {
   "cell_type": "code",
   "execution_count": null,
   "metadata": {},
   "outputs": [
    {
     "name": "stderr",
     "output_type": "stream",
     "text": [
      "C:\\Users\\SamuelMcmurray\\.conda\\envs\\tf\\lib\\site-packages\\requests\\__init__.py:109: RequestsDependencyWarning: urllib3 (1.26.15) or chardet (None)/charset_normalizer (3.1.0) doesn't match a supported version!\n",
      "  warnings.warn(\n",
      "C:\\Users\\SamuelMcmurray\\.conda\\envs\\tf\\lib\\site-packages\\torchvision\\io\\image.py:13: UserWarning: Failed to load image Python extension: 'Could not find module 'C:\\Users\\SamuelMcmurray\\.conda\\envs\\tf\\Lib\\site-packages\\torchvision\\image.pyd' (or one of its dependencies). Try using the full path with constructor syntax.'If you don't plan on using image functionality from `torchvision.io`, you can ignore this warning. Otherwise, there might be something wrong with your environment. Did you have `libjpeg` or `libpng` installed before building `torchvision` from source?\n",
      "  warn(\n"
     ]
    }
   ],
   "source": [
    "from typing import Any, ClassVar, Mapping, List\n",
    "import pandas as pd\n",
    "import numpy as np\n",
    "import torch\n",
    "import re\n",
    "from pykeen.pipeline import pipeline\n",
    "from pykeen.constants import DEFAULT_EMBEDDING_HPO_EMBEDDING_DIM_RANGE\n",
    "from pykeen.typing import HeadRepresentation, RelationRepresentation, TailRepresentation\n",
    "from pykeen.triples.triples_factory import TriplesFactory\n",
    "from pykeen.triples.triples_factory import EntityMapping, RelationMapping\n",
    "from pykeen.evaluation import RankBasedEvaluator\n",
    "from pykeen.nn import Embedding, Interaction, Representation\n",
    "from pykeen.models import ERModel\n",
    "from pykeen.utils import negative_norm\n",
    "from pykeen.metrics.ranking import InverseHarmonicMeanRank\n",
    "from pykeen.training.callbacks import TrackerTrainingCallback\n",
    "from torch.utils.tensorboard import SummaryWriter\n"
   ]
  },
  {
   "cell_type": "code",
   "execution_count": null,
   "metadata": {},
   "outputs": [],
   "source": [
    "INVERSE_SUFFIX = '_inverse'\n",
    "\n",
    "train_path = \"data\\\\train.tsv\"\n",
    "valid_path = \"data\\\\valid.tsv\"\n",
    "test_path = \"data\\\\test.tsv\"\n",
    "\n",
    "_num_entities = 7601\n",
    "_num_relations = 28\n",
    "\n",
    "writer = SummaryWriter()"
   ]
  },
  {
   "cell_type": "code",
   "execution_count": null,
   "metadata": {},
   "outputs": [],
   "source": [
    "def create_entity_mapping(triples) -> EntityMapping:\n",
    "    \"\"\"Create mapping from entity labels to IDs.\n",
    "\n",
    "    :param triples: shape: (n, 3), dtype: str\n",
    "    \"\"\"\n",
    "    # Split triples\n",
    "    heads, tails = triples[:, 0], triples[:, 2]\n",
    "    # Sorting ensures consistent results when the triples are permuted\n",
    "    entity_labels = sorted(set(heads).union(tails))\n",
    "    # Create mapping\n",
    "    return {\n",
    "        str(label): i\n",
    "        for (i, label) in enumerate(entity_labels)\n",
    "    }"
   ]
  },
  {
   "cell_type": "code",
   "execution_count": null,
   "metadata": {},
   "outputs": [],
   "source": [
    "def create_relation_mapping(relations: set) -> RelationMapping:\n",
    "    \"\"\"Create mapping from relation labels to IDs.\n",
    "\n",
    "    :param relations: set\n",
    "    \"\"\"\n",
    "    # Sorting ensures consistent results when the triples are permuted\n",
    "    relation_labels = sorted(\n",
    "        set(relations),\n",
    "        key=lambda x: (re.sub(f'{INVERSE_SUFFIX}$', '', x), x.endswith(f'{INVERSE_SUFFIX}')),\n",
    "    )\n",
    "    # Create mapping\n",
    "    return {\n",
    "        str(label): i\n",
    "        for (i, label) in enumerate(relation_labels)\n",
    "    }"
   ]
  },
  {
   "cell_type": "code",
   "execution_count": null,
   "metadata": {},
   "outputs": [],
   "source": [
    "def get_triples_and_relations():\n",
    "    names = ['head', 'relation', 'tail']\n",
    "    train = pd.read_csv(train_path, sep='\\t', header=None, names=names)\n",
    "    valid = pd.read_csv(valid_path, sep='\\t', header=None, names=names)\n",
    "    test = pd.read_csv(test_path, sep='\\t', header=None, names=names)\n",
    "\n",
    "    df = pd.concat([train, valid, test],axis=0).reset_index(drop=True)\n",
    "    return df.values, set(df['relation'])"
   ]
  },
  {
   "cell_type": "code",
   "execution_count": null,
   "metadata": {},
   "outputs": [],
   "source": [
    "triples, relations = get_triples_and_relations()\n",
    "\n",
    "entity_to_id = create_entity_mapping(triples)\n",
    "relation_to_id = create_relation_mapping(relations)"
   ]
  },
  {
   "cell_type": "code",
   "execution_count": null,
   "metadata": {},
   "outputs": [],
   "source": [
    "names = ['head', 'relation', 'tail']\n",
    "\n",
    "train = TriplesFactory.from_path(path=train_path,entity_to_id=entity_to_id, relation_to_id=relation_to_id)\n",
    "train._num_entities = _num_entities\n",
    "train._num_relations = _num_relations\n",
    "\n",
    "valid = TriplesFactory.from_path(path=valid_path, entity_to_id=entity_to_id, relation_to_id=relation_to_id)\n",
    "valid._num_entities = _num_entities\n",
    "valid._num_relations = _num_relations\n",
    "\n",
    "test = TriplesFactory.from_path(path=test_path, entity_to_id=entity_to_id, relation_to_id=relation_to_id)\n",
    "test._num_entities = _num_entities\n",
    "test._num_relations = _num_relations\n",
    "evaluator = RankBasedEvaluator(metrics=InverseHarmonicMeanRank)"
   ]
  },
  {
   "cell_type": "code",
   "execution_count": null,
   "metadata": {},
   "outputs": [],
   "source": [
    "class MyTrainingCallback(TrackerTrainingCallback):\n",
    "    def post_epoch(self, epoch: int, epoch_loss: float, **kwargs: Any) -> None:\n",
    "        vocab = train.entity_labeling.all_labels()\n",
    "        entity_representation_modules: List['Representation'] = self.model.entity_representations\n",
    "        relation_representation_modules: List['Representation'] = self.model.relation_representations\n",
    "\n",
    "        entity_embeddings: Embedding = entity_representation_modules[0]\n",
    "        relation_embeddings: Embedding = relation_representation_modules[0]\n",
    "\n",
    "        entity_embedding_tensor: torch.FloatTensor = entity_embeddings()\n",
    "        relation_embedding_tensor: torch.FloatTensor = relation_embeddings()\n",
    "\n",
    "        writer.add_embedding(entity_embedding_tensor, vocab, global_step=epoch)\n",
    "        writer.close()\n",
    "        # import io\n",
    "        # out_v = io.open('vectors.tsv', 'w', encoding='utf-8')\n",
    "        # out_m = io.open('metadata.tsv', 'w', encoding='utf-8')\n",
    "        # for index, word in enumerate(vocab):\n",
    "        #     vec = entity_embedding_tensor[index]\n",
    "        #     out_v.write('\\t'.join([str(x) for x in vec]) + \"\\n\")\n",
    "        #     out_m.write(word + \"\\n\")\n",
    "        # out_v.close()\n",
    "        # out_m.close()"
   ]
  },
  {
   "cell_type": "code",
   "execution_count": null,
   "metadata": {},
   "outputs": [
    {
     "name": "stderr",
     "output_type": "stream",
     "text": [
      "No cuda devices were available. The model runs on CPU\n",
      "INFO:pykeen.training.training_loop:=> loading checkpoint 'transe_base_checkpoints\\chkpt_dir\\transe_base.pt'\n",
      "INFO:pykeen.training.training_loop:=> loaded checkpoint 'transe_base_checkpoints\\chkpt_dir\\transe_base.pt' stopped after having finished epoch 30\n",
      "INFO:pykeen.stoppers.stopper:=> loading stopper summary dict from training loop checkpoint in 'transe_base_checkpoints\\chkpt_dir\\transe_base.pt'\n",
      "INFO:pykeen.stoppers.stopper:=> loaded stopper summary dictionary from checkpoint in 'transe_base_checkpoints\\chkpt_dir\\transe_base.pt'\n"
     ]
    },
    {
     "data": {
      "application/vnd.jupyter.widget-view+json": {
       "model_id": "abad109da13c4b98afe743bcbded2de0",
       "version_major": 2,
       "version_minor": 0
      },
      "text/plain": [
       "Evaluating on cpu:   0%|          | 0.00/49.8k [00:00<?, ?triple/s]"
      ]
     },
     "metadata": {},
     "output_type": "display_data"
    },
    {
     "name": "stderr",
     "output_type": "stream",
     "text": [
      "INFO:pykeen.evaluation.evaluator:Evaluation took 285.42s seconds\n",
      "INFO:pykeen.triples.triples_factory:Stored TriplesFactory(num_entities=7262, num_relations=28, create_inverse_triples=False, num_triples=386768, path=\"C:\\Users\\SamuelMcmurray\\Documents\\SchoolStuff\\JU\\DeepLearning\\Assignment2\\data\\train.tsv\") to file:///C:/Users/SamuelMcmurray/Documents/SchoolStuff/JU/DeepLearning/Assignment2/pharmaKG_TransE_Base/training_triples\n",
      "INFO:pykeen.pipeline.api:Saved to directory: file:///C:/Users/SamuelMcmurray/Documents/SchoolStuff/JU/DeepLearning/Assignment2/pharmaKG_TransE_Base\n"
     ]
    }
   ],
   "source": [
    "model = \"TransE\"\n",
    "dir_name = f'pharmaKG_{model}_Base'\n",
    "\n",
    "result_base = pipeline(\n",
    "    model=model,\n",
    "    model_kwargs=dict(embedding_dim= 300),\n",
    "    training=train,\n",
    "    validation=valid,\n",
    "    testing=test,\n",
    "    random_seed=42,\n",
    "    training_kwargs=dict(\n",
    "        num_epochs= 300,\n",
    "        batch_size=32,\n",
    "        callbacks=MyTrainingCallback,\n",
    "        checkpoint_frequency=0,\n",
    "        checkpoint_name=\"transe_base.pt\",\n",
    "        checkpoint_directory=\"transe_base_checkpoints/chkpt_dir\",\n",
    "        checkpoint_on_failure=True,),# 30\n",
    "    stopper='early',\n",
    "    stopper_kwargs={'frequency': 10, 'patience': 1},\n",
    "    result_tracker='tensorboard',\n",
    "    result_tracker_kwargs=dict(experiment_path='tb-logs/transe_base'),\n",
    "    evaluation_kwargs={\"batch_size\": 32},\n",
    "    optimizer_kwargs={'lr': 0.1},\n",
    "    evaluator=evaluator,\n",
    ")\n",
    "result_base.save_to_directory(dir_name)"
   ]
  },
  {
   "cell_type": "code",
   "execution_count": null,
   "metadata": {},
   "outputs": [
    {
     "name": "stdout",
     "output_type": "stream",
     "text": [
      "MRR:  0.0032195772510021925\n",
      "{('inverse_harmonic_mean_rank', 'head', 'optimistic'): 0.004630310882862159, ('inverse_harmonic_mean_rank', 'tail', 'optimistic'): 0.004831444107404305, ('inverse_harmonic_mean_rank', 'both', 'optimistic'): 0.004730877495133233, ('inverse_harmonic_mean_rank', 'head', 'realistic'): 0.003115967847406864, ('inverse_harmonic_mean_rank', 'tail', 'realistic'): 0.0033231868874281645, ('inverse_harmonic_mean_rank', 'both', 'realistic'): 0.0032195772510021925, ('inverse_harmonic_mean_rank', 'head', 'pessimistic'): 0.002728697428337269, ('inverse_harmonic_mean_rank', 'tail', 'pessimistic'): 0.0029327034270404465, ('inverse_harmonic_mean_rank', 'both', 'pessimistic'): 0.002830700427688857, ('median_rank', 'head', 'optimistic'): 3050.0, ('median_rank', 'tail', 'optimistic'): 2902.0, ('median_rank', 'both', 'optimistic'): 2976.0, ('median_rank', 'head', 'realistic'): 3063.0, ('median_rank', 'tail', 'realistic'): 2929.0, ('median_rank', 'both', 'realistic'): 2997.0, ('median_rank', 'head', 'pessimistic'): 3084.0, ('median_rank', 'tail', 'pessimistic'): 2949.0, ('median_rank', 'both', 'pessimistic'): 3020.0, ('count', 'head', 'optimistic'): 49771.0, ('count', 'tail', 'optimistic'): 49771.0, ('count', 'both', 'optimistic'): 99542.0, ('count', 'head', 'realistic'): 49771.0, ('count', 'tail', 'realistic'): 49771.0, ('count', 'both', 'realistic'): 99542.0, ('count', 'head', 'pessimistic'): 49771.0, ('count', 'tail', 'pessimistic'): 49771.0, ('count', 'both', 'pessimistic'): 99542.0, ('variance', 'head', 'optimistic'): 5556330.628945398, ('variance', 'tail', 'optimistic'): 5274390.399762047, ('variance', 'both', 'optimistic'): 5417087.706603562, ('variance', 'head', 'realistic'): 5563518.5, ('variance', 'tail', 'realistic'): 5273868.0, ('variance', 'both', 'realistic'): 5420453.0, ('variance', 'head', 'pessimistic'): 5573880.24520278, ('variance', 'tail', 'pessimistic'): 5276475.377421335, ('variance', 'both', 'pessimistic'): 5426970.406709319, ('z_geometric_mean_rank', 'head', 'optimistic'): 70.25489736287363, ('z_geometric_mean_rank', 'tail', 'optimistic'): 74.52642999333278, ('z_geometric_mean_rank', 'both', 'optimistic'): 102.39907309600665, ('z_geometric_mean_rank', 'head', 'realistic'): 64.21324951095883, ('z_geometric_mean_rank', 'tail', 'realistic'): 67.78516171748484, ('z_geometric_mean_rank', 'both', 'realistic'): 93.35291412949863, ('z_geometric_mean_rank', 'head', 'pessimistic'): 60.78862087451412, ('z_geometric_mean_rank', 'tail', 'pessimistic'): 64.1205713876873, ('z_geometric_mean_rank', 'both', 'pessimistic'): 88.3377375261766, ('adjusted_inverse_harmonic_mean_rank', 'head', 'optimistic'): 0.003318417755915828, ('adjusted_inverse_harmonic_mean_rank', 'tail', 'optimistic'): 0.003513988268456358, ('adjusted_inverse_harmonic_mean_rank', 'both', 'optimistic'): 0.0034162027262437727, ('adjusted_inverse_harmonic_mean_rank', 'head', 'realistic'): 0.0018020788226129562, ('adjusted_inverse_harmonic_mean_rank', 'tail', 'realistic'): 0.002003734339209886, ('adjusted_inverse_harmonic_mean_rank', 'both', 'realistic'): 0.0019029061695031587, ('adjusted_inverse_harmonic_mean_rank', 'head', 'pessimistic'): 0.0014142979827352915, ('adjusted_inverse_harmonic_mean_rank', 'tail', 'pessimistic'): 0.0016127339365294739, ('adjusted_inverse_harmonic_mean_rank', 'both', 'pessimistic'): 0.0015135156695005184, ('harmonic_mean_rank', 'head', 'optimistic'): 215.96822012561384, ('harmonic_mean_rank', 'tail', 'optimistic'): 206.9774538977851, ('harmonic_mean_rank', 'both', 'optimistic'): 211.3772764204366, ('harmonic_mean_rank', 'head', 'realistic'): 320.92757338051763, ('harmonic_mean_rank', 'tail', 'realistic'): 300.915968278241, ('harmonic_mean_rank', 'both', 'realistic'): 310.5997843936558, ('harmonic_mean_rank', 'head', 'pessimistic'): 366.475223531599, ('harmonic_mean_rank', 'tail', 'pessimistic'): 340.9823137176729, ('harmonic_mean_rank', 'both', 'pessimistic'): 353.2694559333699, ('adjusted_arithmetic_mean_rank_index', 'head', 'optimistic'): 0.10191888834909879, ('adjusted_arithmetic_mean_rank_index', 'tail', 'optimistic'): 0.12188367575786818, ('adjusted_arithmetic_mean_rank_index', 'both', 'optimistic'): 0.11188322633041514, ('adjusted_arithmetic_mean_rank_index', 'head', 'realistic'): 0.09722481678146055, ('adjusted_arithmetic_mean_rank_index', 'tail', 'realistic'): 0.11739026069303404, ('adjusted_arithmetic_mean_rank_index', 'both', 'realistic'): 0.10728933558372344, ('adjusted_arithmetic_mean_rank_index', 'head', 'pessimistic'): 0.092530567507625, ('adjusted_arithmetic_mean_rank_index', 'tail', 'pessimistic'): 0.11289686954270095, ('adjusted_arithmetic_mean_rank_index', 'both', 'pessimistic'): 0.10269529968092772, ('inverse_geometric_mean_rank', 'head', 'optimistic'): 0.0005509407131107514, ('inverse_geometric_mean_rank', 'tail', 'optimistic'): 0.0005691201217025326, ('inverse_geometric_mean_rank', 'both', 'optimistic'): 0.0005599566462651118, ('inverse_geometric_mean_rank', 'head', 'realistic'): 0.0005300872144289315, ('inverse_geometric_mean_rank', 'tail', 'realistic'): 0.0005445342394523323, ('inverse_geometric_mean_rank', 'both', 'realistic'): 0.0005372622981667519, ('inverse_geometric_mean_rank', 'head', 'pessimistic'): 0.0005189529710509512, ('inverse_geometric_mean_rank', 'tail', 'pessimistic'): 0.0005320400176497798, ('inverse_geometric_mean_rank', 'both', 'pessimistic'): 0.0005254557525399774, ('arithmetic_mean_rank', 'head', 'optimistic'): 3227.5187559020314, ('arithmetic_mean_rank', 'tail', 'optimistic'): 3144.399750858934, ('arithmetic_mean_rank', 'both', 'optimistic'): 3185.9592533804826, ('arithmetic_mean_rank', 'head', 'realistic'): 3244.383056640625, ('arithmetic_mean_rank', 'tail', 'realistic'): 3160.48486328125, ('arithmetic_mean_rank', 'both', 'realistic'): 3202.433837890625, ('arithmetic_mean_rank', 'head', 'pessimistic'): 3261.2479958208596, ('arithmetic_mean_rank', 'tail', 'pessimistic'): 3176.5698900966427, ('arithmetic_mean_rank', 'both', 'pessimistic'): 3218.908942958751, ('median_absolute_deviation', 'head', 'optimistic'): 3291.376925082436, ('median_absolute_deviation', 'tail', 'optimistic'): 3057.1257745585513, ('median_absolute_deviation', 'both', 'optimistic'): 3180.1817586945162, ('median_absolute_deviation', 'head', 'realistic'): 3294.3421295194476, ('median_absolute_deviation', 'tail', 'realistic'): 3072.69309785286, ('median_absolute_deviation', 'both', 'realistic'): 3190.559974224055, ('median_absolute_deviation', 'head', 'pessimistic'): 3300.27253839347, ('median_absolute_deviation', 'tail', 'pessimistic'): 3085.2952167101575, ('median_absolute_deviation', 'both', 'pessimistic'): 3196.490383098078, ('inverse_arithmetic_mean_rank', 'head', 'optimistic'): 0.00030983553485826874, ('inverse_arithmetic_mean_rank', 'tail', 'optimistic'): 0.0003180257216744903, ('inverse_arithmetic_mean_rank', 'both', 'optimistic'): 0.00031387720949002836, ('inverse_arithmetic_mean_rank', 'head', 'realistic'): 0.00030822501867078245, ('inverse_arithmetic_mean_rank', 'tail', 'realistic'): 0.00031640715315006673, ('inverse_arithmetic_mean_rank', 'both', 'realistic'): 0.00031226250575855374, ('inverse_arithmetic_mean_rank', 'head', 'pessimistic'): 0.00030663108150053427, ('inverse_arithmetic_mean_rank', 'tail', 'pessimistic'): 0.00031480497347709116, ('inverse_arithmetic_mean_rank', 'both', 'pessimistic'): 0.00031066427094418575, ('standard_deviation', 'head', 'optimistic'): 2357.1870161159036, ('standard_deviation', 'tail', 'optimistic'): 2296.6041016601116, ('standard_deviation', 'both', 'optimistic'): 2327.4637927588824, ('standard_deviation', 'head', 'realistic'): 2358.711181640625, ('standard_deviation', 'tail', 'realistic'): 2296.490478515625, ('standard_deviation', 'both', 'realistic'): 2328.1865234375, ('standard_deviation', 'head', 'pessimistic'): 2360.90665745234, ('standard_deviation', 'tail', 'pessimistic'): 2297.057983034241, ('standard_deviation', 'both', 'pessimistic'): 2329.5858873862794, ('z_inverse_harmonic_mean_rank', 'head', 'optimistic'): 49.05054091378132, ('z_inverse_harmonic_mean_rank', 'tail', 'optimistic'): 51.81099859562139, ('z_inverse_harmonic_mean_rank', 'both', 'optimistic'): 71.32226877683583, ('z_inverse_harmonic_mean_rank', 'head', 'realistic'): 26.63707450963801, ('z_inverse_harmonic_mean_rank', 'tail', 'realistic'): 29.543489933279247, ('z_inverse_harmonic_mean_rank', 'both', 'realistic'): 39.72820003795019, ('z_inverse_harmonic_mean_rank', 'head', 'pessimistic'): 20.905168115968646, ('z_inverse_harmonic_mean_rank', 'tail', 'pessimistic'): 23.778495924616458, ('z_inverse_harmonic_mean_rank', 'both', 'pessimistic'): 31.59864329736669, ('adjusted_geometric_mean_rank_index', 'head', 'optimistic'): 0.3139934556595405, ('adjusted_geometric_mean_rank_index', 'tail', 'optimistic'): 0.33308074885758876, ('adjusted_geometric_mean_rank_index', 'both', 'optimistic'): 0.3236010016460581, ('adjusted_geometric_mean_rank_index', 'head', 'realistic'): 0.286991240040288, ('adjusted_geometric_mean_rank_index', 'tail', 'realistic'): 0.3029520188785704, ('adjusted_geometric_mean_rank_index', 'both', 'realistic'): 0.29501337859338783, ('adjusted_geometric_mean_rank_index', 'head', 'pessimistic'): 0.271685389198975, ('adjusted_geometric_mean_rank_index', 'tail', 'pessimistic'): 0.28657387636705556, ('adjusted_geometric_mean_rank_index', 'both', 'pessimistic'): 0.27916444438726185, ('geometric_mean_rank', 'head', 'optimistic'): 1815.0773326475469, ('geometric_mean_rank', 'tail', 'optimistic'): 1757.09830291799, ('geometric_mean_rank', 'both', 'optimistic'): 1785.8525417457934, ('geometric_mean_rank', 'head', 'realistic'): 1886.4820556640625, ('geometric_mean_rank', 'tail', 'realistic'): 1836.4317626953125, ('geometric_mean_rank', 'both', 'realistic'): 1861.288330078125, ('geometric_mean_rank', 'head', 'pessimistic'): 1926.9568839250742, ('geometric_mean_rank', 'tail', 'pessimistic'): 1879.5578656232944, ('geometric_mean_rank', 'both', 'pessimistic'): 1903.1098149865982, ('z_arithmetic_mean_rank', 'head', 'optimistic'): 39.37256389941666, ('z_arithmetic_mean_rank', 'tail', 'optimistic'): 47.059797752688894, ('z_arithmetic_mean_rank', 'both', 'optimistic'): 61.10847238733578, ('z_arithmetic_mean_rank', 'head', 'realistic'): 37.55918430178775, ('z_arithmetic_mean_rank', 'tail', 'realistic'): 45.32487137427819, ('z_arithmetic_mean_rank', 'both', 'realistic'): 58.59937736878845, ('z_arithmetic_mean_rank', 'head', 'pessimistic'): 35.7457360539928, ('z_arithmetic_mean_rank', 'tail', 'pessimistic'): 43.58995422935652, ('z_arithmetic_mean_rank', 'both', 'pessimistic'): 56.09020306876107, ('adjusted_arithmetic_mean_rank', 'head', 'optimistic'): 0.8981094722355945, ('adjusted_arithmetic_mean_rank', 'tail', 'optimistic'): 0.8781503632329154, ('adjusted_arithmetic_mean_rank', 'both', 'optimistic'): 0.8881479632899436, ('adjusted_arithmetic_mean_rank', 'head', 'realistic'): 0.9028022376016404, ('adjusted_arithmetic_mean_rank', 'tail', 'realistic'): 0.8826425234019398, ('adjusted_arithmetic_mean_rank', 'both', 'realistic'): 0.8927405734004483, ('adjusted_arithmetic_mean_rank', 'head', 'pessimistic'): 0.9074951806244339, ('adjusted_arithmetic_mean_rank', 'tail', 'pessimistic'): 0.8871346596631419, ('adjusted_arithmetic_mean_rank', 'both', 'pessimistic'): 0.897333328626592, ('inverse_median_rank', 'head', 'optimistic'): 0.0003278688524590164, ('inverse_median_rank', 'tail', 'optimistic'): 0.00034458993797381116, ('inverse_median_rank', 'both', 'optimistic'): 0.0003360215053763441, ('inverse_median_rank', 'head', 'realistic'): 0.00032647731131874025, ('inverse_median_rank', 'tail', 'realistic'): 0.0003414134553167969, ('inverse_median_rank', 'both', 'realistic'): 0.0003336670051794499, ('inverse_median_rank', 'head', 'pessimistic'): 0.00032425421530479895, ('inverse_median_rank', 'tail', 'pessimistic'): 0.00033909799932180403, ('inverse_median_rank', 'both', 'pessimistic'): 0.00033112582781456954, ('hits_at_1', 'head', 'optimistic'): 0.0010648771372887827, ('hits_at_1', 'tail', 'optimistic'): 0.0008639569227059935, ('hits_at_1', 'both', 'optimistic'): 0.000964417029997388, ('hits_at_1', 'head', 'realistic'): 0.0003415643647907416, ('hits_at_1', 'tail', 'realistic'): 0.0004621164935404151, ('hits_at_1', 'both', 'realistic'): 0.00040184042916557833, ('hits_at_1', 'head', 'pessimistic'): 0.0003415643647907416, ('hits_at_1', 'tail', 'pessimistic'): 0.0004621164935404151, ('hits_at_1', 'both', 'pessimistic'): 0.00040184042916557833, ('hits_at_3', 'head', 'optimistic'): 0.0027325149183259328, ('hits_at_3', 'tail', 'optimistic'): 0.0027927909827007696, ('hits_at_3', 'both', 'optimistic'): 0.002762652950513351, ('hits_at_3', 'head', 'realistic'): 0.00148680958791264, ('hits_at_3', 'tail', 'realistic'): 0.00148680958791264, ('hits_at_3', 'both', 'realistic'): 0.00148680958791264, ('hits_at_3', 'head', 'pessimistic'): 0.0012657973518715717, ('hits_at_3', 'tail', 'pessimistic'): 0.0012858893733298507, ('hits_at_3', 'both', 'pessimistic'): 0.0012758433626007112, ('hits_at_5', 'head', 'optimistic'): 0.004219324506238573, ('hits_at_5', 'tail', 'optimistic'): 0.004621164935404151, ('hits_at_5', 'both', 'optimistic'): 0.004420244720821362, ('hits_at_5', 'head', 'realistic'): 0.0023105824677020757, ('hits_at_5', 'tail', 'realistic'): 0.0025918707681179803, ('hits_at_5', 'both', 'realistic'): 0.0024512266179100278, ('hits_at_5', 'head', 'pessimistic'): 0.0020292941672861707, ('hits_at_5', 'tail', 'pessimistic'): 0.002210122360410681, ('hits_at_5', 'both', 'pessimistic'): 0.002119708263848426, ('hits_at_10', 'head', 'optimistic'): 0.007655060175604267, ('hits_at_10', 'tail', 'optimistic'): 0.008961041570392398, ('hits_at_10', 'both', 'optimistic'): 0.008308050872998332, ('hits_at_10', 'head', 'realistic'): 0.004259508549155131, ('hits_at_10', 'tail', 'realistic'): 0.004842177171445219, ('hits_at_10', 'both', 'realistic'): 0.004550842860300175, ('hits_at_10', 'head', 'pessimistic'): 0.003455827690823974, ('hits_at_10', 'tail', 'pessimistic'): 0.004058588334572341, ('hits_at_10', 'both', 'pessimistic'): 0.0037572080126981574, ('z_hits_at_k', 'head', 'optimistic'): 37.47914204466166, ('z_hits_at_k', 'tail', 'optimistic'): 45.137977187199226, ('z_hits_at_k', 'both', 'optimistic'): 58.42590815863742, ('z_hits_at_k', 'head', 'realistic'): 17.16008460299025, ('z_hits_at_k', 'tail', 'realistic'): 20.552684704187612, ('z_hits_at_k', 'both', 'realistic'): 26.669958881260584, ('z_hits_at_k', 'head', 'pessimistic'): 12.350840238097607, ('z_hits_at_k', 'tail', 'pessimistic'): 15.875482719614679, ('z_hits_at_k', 'both', 'pessimistic'): 19.962151413579377, ('adjusted_hits_at_k', 'head', 'optimistic'): 0.0062719316648386985, ('adjusted_hits_at_k', 'tail', 'optimistic'): 0.007572724760371209, ('adjusted_hits_at_k', 'both', 'optimistic'): 0.006922325916029513, ('adjusted_hits_at_k', 'head', 'realistic'): 0.002871647324918831, ('adjusted_hits_at_k', 'tail', 'realistic'): 0.003448090367586131, ('adjusted_hits_at_k', 'both', 'realistic'): 0.003159867828531109, ('adjusted_hits_at_k', 'head', 'pessimistic'): 0.0020668462977188624, ('adjusted_hits_at_k', 'tail', 'pessimistic'): 0.002663403824568483, ('adjusted_hits_at_k', 'both', 'pessimistic'): 0.002365124007909788}\n"
     ]
    }
   ],
   "source": [
    "print(\"MRR: \", result_base.metric_results.get_metric(\"inverse_harmonic_mean_rank\"))\n",
    "print(result_base.metric_results.data)"
   ]
  },
  {
   "cell_type": "code",
   "execution_count": 13,
   "metadata": {},
   "outputs": [],
   "source": [
    "# import io\n",
    "# best_embedding_dim = 50\n",
    "# best_batch_size = 32\n",
    "# best_lr = 0.1\n",
    "# best_mrr = -0.1\n",
    "# lr_array = [ 0.00001, 0.0001, 0.001, 0.01, 0.1]\n",
    "#\n",
    "# for embedding_dim in range(200, 800, 100):\n",
    "#     for batch_size in range(32,128,32):\n",
    "#         for lr in lr_array:\n",
    "#             print(embedding_dim, batch_size, lr)\n",
    "#             result_hyper_tune = pipeline(\n",
    "#                 model=\"TransE\",\n",
    "#                 model_kwargs={\"embedding_dim\": embedding_dim},\n",
    "#                 training=train,\n",
    "#                 validation=valid,\n",
    "#                 testing=test,\n",
    "#                 random_seed=42,\n",
    "#                 optimizer_kwargs={'lr': lr},\n",
    "#                 training_kwargs=dict(\n",
    "#                     num_epochs=1,\n",
    "#                     batch_size=batch_size,\n",
    "#                     ),  # 30\n",
    "#                 evaluation_kwargs={'batch_size': 256},\n",
    "#                 evaluator=evaluator,\n",
    "#             )\n",
    "#             mrr = result_hyper_tune.metric_results.get_metric(\"inverse_harmonic_mean_rank\")\n",
    "#             if mrr > best_mrr:\n",
    "#                 best_embedding_dim = embedding_dim\n",
    "#                 best_batch_size = batch_size\n",
    "#                 best_lr = lr\n",
    "#                 best_mrr = mrr\n",
    "#                 out_h = io.open('Best_hyper_params.tsv', 'w', encoding='utf-8')\n",
    "#\n",
    "#                 out_h.write('\\t' + str(best_embedding_dim) +'\\t' + str(best_batch_size) + '\\t' + str(best_lr) +\"\\n\")\n",
    "#\n",
    "#                 out_h.close()\n",
    "#\n",
    "#\n",
    "# print(f\"Best embedding dim = {best_embedding_dim}, Best batch size = {best_batch_size}, Best learning rate = {best_lr}\")\n"
   ]
  },
  {
   "cell_type": "code",
   "execution_count": 14,
   "metadata": {},
   "outputs": [
    {
     "name": "stderr",
     "output_type": "stream",
     "text": [
      "INFO:pykeen.pipeline.api:loaded random seed 42 from checkpoint.\n",
      "WARNING:pykeen.utils:No cuda devices were available. The model runs on CPU\n",
      "INFO:pykeen.pipeline.api:Using device: None\n",
      "INFO:pykeen.stoppers.early_stopping:Inferred checkpoint path for best model weights: C:\\Users\\SamuelMcmurray\\.data\\pykeen\\checkpoints\\best-model-weights-fd95d5b1-dc71-4c1a-a877-239dd6237c65.pt\n",
      "INFO:pykeen.training.training_loop:=> loading checkpoint 'transe_hyper_checkpoints\\chkpt_dir\\transe_hyper.pt'\n",
      "INFO:pykeen.training.training_loop:=> loaded checkpoint 'transe_hyper_checkpoints\\chkpt_dir\\transe_hyper.pt' stopped after having finished epoch 30\n",
      "INFO:pykeen.stoppers.stopper:=> loading stopper summary dict from training loop checkpoint in 'transe_hyper_checkpoints\\chkpt_dir\\transe_hyper.pt'\n",
      "INFO:pykeen.stoppers.stopper:=> loaded stopper summary dictionary from checkpoint in 'transe_hyper_checkpoints\\chkpt_dir\\transe_hyper.pt'\n"
     ]
    },
    {
     "data": {
      "application/vnd.jupyter.widget-view+json": {
       "model_id": "d29fd5a31ad04b819f23cd45952e0850",
       "version_major": 2,
       "version_minor": 0
      },
      "text/plain": [
       "Evaluating on cpu:   0%|          | 0.00/49.8k [00:00<?, ?triple/s]"
      ]
     },
     "metadata": {},
     "output_type": "display_data"
    },
    {
     "name": "stderr",
     "output_type": "stream",
     "text": [
      "INFO:pykeen.evaluation.evaluator:Evaluation took 214.11s seconds\n"
     ]
    }
   ],
   "source": [
    "result_hyper = pipeline(\n",
    "    model='TransE',\n",
    "    model_kwargs={\"embedding_dim\": 200},\n",
    "    training=train,\n",
    "    validation=valid,\n",
    "    testing=test,\n",
    "    random_seed=42,\n",
    "    optimizer_kwargs={'lr': 0.001},\n",
    "    training_kwargs=dict(\n",
    "        callbacks=MyTrainingCallback,\n",
    "        num_epochs=300,\n",
    "        batch_size= 96,\n",
    "        checkpoint_frequency=0,\n",
    "        checkpoint_name=\"transe_hyper.pt\",\n",
    "        checkpoint_directory=\"transe_hyper_checkpoints/chkpt_dir\",\n",
    "        checkpoint_on_failure=True,),  # 30\n",
    "    stopper='early',\n",
    "    stopper_kwargs={'frequency': 10, 'patience': 1},\n",
    "    evaluation_kwargs={'batch_size': 32},\n",
    "    evaluator=evaluator,\n",
    ")"
   ]
  },
  {
   "cell_type": "code",
   "execution_count": 15,
   "metadata": {},
   "outputs": [
    {
     "name": "stdout",
     "output_type": "stream",
     "text": [
      "0.055973369628190994\n",
      "{('inverse_harmonic_mean_rank', 'head', 'optimistic'): 0.055014938090823515, ('inverse_harmonic_mean_rank', 'tail', 'optimistic'): 0.0569318077254276, ('inverse_harmonic_mean_rank', 'both', 'optimistic'): 0.05597337290812557, ('inverse_harmonic_mean_rank', 'head', 'realistic'): 0.05501493811607361, ('inverse_harmonic_mean_rank', 'tail', 'realistic'): 0.05693180114030839, ('inverse_harmonic_mean_rank', 'both', 'realistic'): 0.055973369628190994, ('inverse_harmonic_mean_rank', 'head', 'pessimistic'): 0.05501492043350243, ('inverse_harmonic_mean_rank', 'tail', 'pessimistic'): 0.05693179490562237, ('inverse_harmonic_mean_rank', 'both', 'pessimistic'): 0.05597335766956239, ('median_rank', 'head', 'optimistic'): 158.0, ('median_rank', 'tail', 'optimistic'): 129.0, ('median_rank', 'both', 'optimistic'): 143.0, ('median_rank', 'head', 'realistic'): 158.0, ('median_rank', 'tail', 'realistic'): 129.0, ('median_rank', 'both', 'realistic'): 143.0, ('median_rank', 'head', 'pessimistic'): 158.0, ('median_rank', 'tail', 'pessimistic'): 129.0, ('median_rank', 'both', 'pessimistic'): 143.0, ('count', 'head', 'optimistic'): 49771.0, ('count', 'tail', 'optimistic'): 49771.0, ('count', 'both', 'optimistic'): 99542.0, ('count', 'head', 'realistic'): 49771.0, ('count', 'tail', 'realistic'): 49771.0, ('count', 'both', 'realistic'): 99542.0, ('count', 'head', 'pessimistic'): 49771.0, ('count', 'tail', 'pessimistic'): 49771.0, ('count', 'both', 'pessimistic'): 99542.0, ('variance', 'head', 'optimistic'): 701025.1736109953, ('variance', 'tail', 'optimistic'): 586105.5490452831, ('variance', 'both', 'optimistic'): 644691.5172544294, ('variance', 'head', 'realistic'): 701025.75, ('variance', 'tail', 'realistic'): 586106.625, ('variance', 'both', 'realistic'): 644692.375, ('variance', 'head', 'pessimistic'): 701026.2728775787, ('variance', 'tail', 'pessimistic'): 586107.645552248, ('variance', 'both', 'pessimistic'): 644693.105701681, ('z_geometric_mean_rank', 'head', 'optimistic'): 213.11664324339932, ('z_geometric_mean_rank', 'tail', 'optimistic'): 214.558246347984, ('z_geometric_mean_rank', 'both', 'optimistic'): 302.45730099310674, ('z_geometric_mean_rank', 'head', 'realistic'): 213.1166386267238, ('z_geometric_mean_rank', 'tail', 'realistic'): 214.5582373354602, ('z_geometric_mean_rank', 'both', 'realistic'): 302.45729063625885, ('z_geometric_mean_rank', 'head', 'pessimistic'): 213.11662918241842, ('z_geometric_mean_rank', 'tail', 'pessimistic'): 214.5582282938431, ('z_geometric_mean_rank', 'both', 'pessimistic'): 302.4572780206892, ('adjusted_inverse_harmonic_mean_rank', 'head', 'optimistic'): 0.05376945169381941, ('adjusted_inverse_harmonic_mean_rank', 'tail', 'optimistic'): 0.055683325054746914, ('adjusted_inverse_harmonic_mean_rank', 'both', 'optimistic'): 0.05472638557602189, ('adjusted_inverse_harmonic_mean_rank', 'head', 'realistic'): 0.05376945171910278, ('adjusted_inverse_harmonic_mean_rank', 'tail', 'realistic'): 0.05568331846090998, ('adjusted_inverse_harmonic_mean_rank', 'both', 'realistic'): 0.05472638229175478, ('adjusted_inverse_harmonic_mean_rank', 'head', 'pessimistic'): 0.05376943401322605, ('adjusted_inverse_harmonic_mean_rank', 'tail', 'pessimistic'): 0.05568331221797016, ('adjusted_inverse_harmonic_mean_rank', 'both', 'pessimistic'): 0.054726370317329735, ('harmonic_mean_rank', 'head', 'optimistic'): 18.17688131083801, ('harmonic_mean_rank', 'tail', 'optimistic'): 17.564873485536054, ('harmonic_mean_rank', 'both', 'optimistic'): 17.8656376781402, ('harmonic_mean_rank', 'head', 'realistic'): 18.176881302495403, ('harmonic_mean_rank', 'tail', 'realistic'): 17.56487551720875, ('harmonic_mean_rank', 'both', 'realistic'): 17.86563872503309, ('harmonic_mean_rank', 'head', 'pessimistic'): 18.17688714480136, ('harmonic_mean_rank', 'tail', 'pessimistic'): 17.56487744076454, ('harmonic_mean_rank', 'both', 'pessimistic'): 17.865642542001503, ('adjusted_arithmetic_mean_rank_index', 'head', 'optimistic'): 0.8667272597745639, ('adjusted_arithmetic_mean_rank_index', 'tail', 'optimistic'): 0.8849934250225847, ('adjusted_arithmetic_mean_rank_index', 'both', 'optimistic'): 0.8758438228727468, ('adjusted_arithmetic_mean_rank_index', 'head', 'realistic'): 0.8667271795317246, ('adjusted_arithmetic_mean_rank_index', 'tail', 'realistic'): 0.8849932996437692, ('adjusted_arithmetic_mean_rank_index', 'both', 'realistic'): 0.875843711593, ('adjusted_arithmetic_mean_rank_index', 'head', 'pessimistic'): 0.8667270919999467, ('adjusted_arithmetic_mean_rank_index', 'tail', 'pessimistic'): 0.8849931780613737, ('adjusted_arithmetic_mean_rank_index', 'both', 'pessimistic'): 0.8758436155764473, ('inverse_geometric_mean_rank', 'head', 'optimistic'): 0.007897014501628663, ('inverse_geometric_mean_rank', 'tail', 'optimistic'): 0.00916104241388315, ('inverse_geometric_mean_rank', 'both', 'optimistic'): 0.008505579627072483, ('inverse_geometric_mean_rank', 'head', 'realistic'): 0.007897011004388332, ('inverse_geometric_mean_rank', 'tail', 'realistic'): 0.009161033667623997, ('inverse_geometric_mean_rank', 'both', 'realistic'): 0.008505573496222496, ('inverse_geometric_mean_rank', 'head', 'pessimistic'): 0.007897004137985528, ('inverse_geometric_mean_rank', 'tail', 'pessimistic'): 0.009161024582683846, ('inverse_geometric_mean_rank', 'both', 'pessimistic'): 0.008505565768227375, ('arithmetic_mean_rank', 'head', 'optimistic'): 479.8064133732495, ('arithmetic_mean_rank', 'tail', 'optimistic'): 412.6899198328344, ('arithmetic_mean_rank', 'both', 'optimistic'): 446.2481666030419, ('arithmetic_mean_rank', 'head', 'realistic'): 479.80670166015625, ('arithmetic_mean_rank', 'tail', 'realistic'): 412.69036865234375, ('arithmetic_mean_rank', 'both', 'realistic'): 446.2485656738281, ('arithmetic_mean_rank', 'head', 'pessimistic'): 479.8070161338932, ('arithmetic_mean_rank', 'tail', 'pessimistic'): 412.69080388177855, ('arithmetic_mean_rank', 'both', 'pessimistic'): 446.2489100078359, ('median_absolute_deviation', 'head', 'optimistic'): 213.49471946480668, ('median_absolute_deviation', 'tail', 'optimistic'): 171.98185734664983, ('median_absolute_deviation', 'both', 'optimistic'): 192.73828840572824, ('median_absolute_deviation', 'head', 'realistic'): 213.49471946480668, ('median_absolute_deviation', 'tail', 'realistic'): 171.98185734664983, ('median_absolute_deviation', 'both', 'realistic'): 192.73828840572824, ('median_absolute_deviation', 'head', 'pessimistic'): 213.49471946480668, ('median_absolute_deviation', 'tail', 'pessimistic'): 171.98185734664983, ('median_absolute_deviation', 'both', 'pessimistic'): 192.73828840572824, ('inverse_arithmetic_mean_rank', 'head', 'optimistic'): 0.0020841738920694317, ('inverse_arithmetic_mean_rank', 'tail', 'optimistic'): 0.0024231267882798384, ('inverse_arithmetic_mean_rank', 'both', 'optimistic'): 0.0022409055651976396, ('inverse_arithmetic_mean_rank', 'head', 'realistic'): 0.0020841725636273623, ('inverse_arithmetic_mean_rank', 'tail', 'realistic'): 0.0024231241550296545, ('inverse_arithmetic_mean_rank', 'both', 'realistic'): 0.002240903675556183, ('inverse_arithmetic_mean_rank', 'head', 'pessimistic'): 0.002084171273812602, ('inverse_arithmetic_mean_rank', 'tail', 'pessimistic'): 0.002423121597559186, ('inverse_arithmetic_mean_rank', 'both', 'pessimistic'): 0.002240901832079412, ('standard_deviation', 'head', 'optimistic'): 837.2724607981534, ('standard_deviation', 'tail', 'optimistic'): 765.5753059270414, ('standard_deviation', 'both', 'optimistic'): 802.9268442731438, ('standard_deviation', 'head', 'realistic'): 837.2728271484375, ('standard_deviation', 'tail', 'realistic'): 765.5759887695312, ('standard_deviation', 'both', 'realistic'): 802.9273681640625, ('standard_deviation', 'head', 'pessimistic'): 837.2731172548051, ('standard_deviation', 'tail', 'pessimistic'): 765.5766751620951, ('standard_deviation', 'both', 'pessimistic'): 802.9278334331678, ('z_inverse_harmonic_mean_rank', 'head', 'optimistic'): 794.7825994835881, ('z_inverse_harmonic_mean_rank', 'tail', 'optimistic'): 821.0069174415211, ('z_inverse_harmonic_mean_rank', 'both', 'optimistic'): 1142.5580663737403, ('z_inverse_harmonic_mean_rank', 'head', 'realistic'): 794.7825998573093, ('z_inverse_harmonic_mean_rank', 'tail', 'realistic'): 821.0068202205715, ('z_inverse_harmonic_mean_rank', 'both', 'realistic'): 1142.5579978059764, ('z_inverse_harmonic_mean_rank', 'head', 'pessimistic'): 794.7823381413666, ('z_inverse_harmonic_mean_rank', 'tail', 'pessimistic'): 821.0067281733244, ('z_inverse_harmonic_mean_rank', 'both', 'pessimistic'): 1142.5577478081777, ('adjusted_geometric_mean_rank_index', 'head', 'optimistic'): 0.9524920508377109, ('adjusted_geometric_mean_rank_index', 'tail', 'optimistic'): 0.9589245234683977, ('adjusted_geometric_mean_rank_index', 'both', 'optimistic'): 0.9558239405621101, ('adjusted_geometric_mean_rank_index', 'head', 'realistic'): 0.95249203020419, ('adjusted_geometric_mean_rank_index', 'tail', 'realistic'): 0.9589244831887522, ('adjusted_geometric_mean_rank_index', 'both', 'realistic'): 0.955823907832455, ('adjusted_geometric_mean_rank_index', 'head', 'pessimistic'): 0.95249198799432, ('adjusted_geometric_mean_rank_index', 'tail', 'pessimistic'): 0.9589244427790801, ('adjusted_geometric_mean_rank_index', 'both', 'pessimistic'): 0.9558238679647993, ('geometric_mean_rank', 'head', 'optimistic'): 126.63013342494966, ('geometric_mean_rank', 'tail', 'optimistic'): 109.15788343961215, ('geometric_mean_rank', 'both', 'optimistic'): 117.56988281164182, ('geometric_mean_rank', 'head', 'realistic'): 126.63018798828125, ('geometric_mean_rank', 'tail', 'realistic'): 109.15798950195312, ('geometric_mean_rank', 'both', 'realistic'): 117.5699691772461, ('geometric_mean_rank', 'head', 'pessimistic'): 126.63029960816168, ('geometric_mean_rank', 'tail', 'pessimistic'): 109.15809590667385, ('geometric_mean_rank', 'both', 'pessimistic'): 117.57007437829824, ('z_arithmetic_mean_rank', 'head', 'optimistic'): 334.8277730615771, ('z_arithmetic_mean_rank', 'tail', 'optimistic'): 341.69966843434116, ('z_arithmetic_mean_rank', 'both', 'optimistic'): 478.3690980413581, ('z_arithmetic_mean_rank', 'head', 'realistic'): 334.8277420627469, ('z_arithmetic_mean_rank', 'tail', 'realistic'): 341.6996200250553, ('z_arithmetic_mean_rank', 'both', 'realistic'): 478.36903726249466, ('z_arithmetic_mean_rank', 'head', 'pessimistic'): 334.8277082481069, ('z_arithmetic_mean_rank', 'tail', 'pessimistic'): 341.69957308158314, ('z_arithmetic_mean_rank', 'both', 'pessimistic'): 478.3689848200951, ('adjusted_arithmetic_mean_rank', 'head', 'optimistic'): 0.1335139211513176, ('adjusted_arithmetic_mean_rank', 'tail', 'optimistic'): 0.11525373098785258, ('adjusted_arithmetic_mean_rank', 'both', 'optimistic'): 0.12440033558804305, ('adjusted_arithmetic_mean_rank', 'head', 'realistic'): 0.13351400137182795, ('adjusted_arithmetic_mean_rank', 'tail', 'realistic'): 0.11525385633165311, ('adjusted_arithmetic_mean_rank', 'both', 'realistic'): 0.12440044683676842, ('adjusted_arithmetic_mean_rank', 'head', 'pessimistic'): 0.13351408887924876, ('adjusted_arithmetic_mean_rank', 'tail', 'pessimistic'): 0.11525397788009367, ('adjusted_arithmetic_mean_rank', 'both', 'pessimistic'): 0.12440054282655465, ('inverse_median_rank', 'head', 'optimistic'): 0.006329113924050633, ('inverse_median_rank', 'tail', 'optimistic'): 0.007751937984496124, ('inverse_median_rank', 'both', 'optimistic'): 0.006993006993006993, ('inverse_median_rank', 'head', 'realistic'): 0.006329114083200693, ('inverse_median_rank', 'tail', 'realistic'): 0.007751937955617905, ('inverse_median_rank', 'both', 'realistic'): 0.00699300691485405, ('inverse_median_rank', 'head', 'pessimistic'): 0.006329113924050633, ('inverse_median_rank', 'tail', 'pessimistic'): 0.007751937984496124, ('inverse_median_rank', 'both', 'pessimistic'): 0.006993006993006993, ('hits_at_1', 'head', 'optimistic'): 0.02023266560848687, ('hits_at_1', 'tail', 'optimistic'): 0.020071929436820637, ('hits_at_1', 'both', 'optimistic'): 0.020152297522653753, ('hits_at_1', 'head', 'realistic'): 0.02023266560848687, ('hits_at_1', 'tail', 'realistic'): 0.020071929436820637, ('hits_at_1', 'both', 'realistic'): 0.020152297522653753, ('hits_at_1', 'head', 'pessimistic'): 0.02023266560848687, ('hits_at_1', 'tail', 'pessimistic'): 0.020071929436820637, ('hits_at_1', 'both', 'pessimistic'): 0.020152297522653753, ('hits_at_3', 'head', 'optimistic'): 0.04916517650840851, ('hits_at_3', 'tail', 'optimistic'): 0.05199815153402584, ('hits_at_3', 'both', 'optimistic'): 0.05058166402121717, ('hits_at_3', 'head', 'realistic'): 0.04916517650840851, ('hits_at_3', 'tail', 'realistic'): 0.05199815153402584, ('hits_at_3', 'both', 'realistic'): 0.05058166402121717, ('hits_at_3', 'head', 'pessimistic'): 0.04916517650840851, ('hits_at_3', 'tail', 'pessimistic'): 0.05199815153402584, ('hits_at_3', 'both', 'pessimistic'): 0.05058166402121717, ('hits_at_5', 'head', 'optimistic'): 0.07295412991501075, ('hits_at_5', 'tail', 'optimistic'): 0.0742400192883406, ('hits_at_5', 'both', 'optimistic'): 0.07359707460167568, ('hits_at_5', 'head', 'realistic'): 0.07295412991501075, ('hits_at_5', 'tail', 'realistic'): 0.0742400192883406, ('hits_at_5', 'both', 'realistic'): 0.07359707460167568, ('hits_at_5', 'head', 'pessimistic'): 0.07295412991501075, ('hits_at_5', 'tail', 'pessimistic'): 0.0742400192883406, ('hits_at_5', 'both', 'pessimistic'): 0.07359707460167568, ('hits_at_10', 'head', 'optimistic'): 0.11695565690864158, ('hits_at_10', 'tail', 'optimistic'): 0.11890458299009464, ('hits_at_10', 'both', 'optimistic'): 0.11793011994936811, ('hits_at_10', 'head', 'realistic'): 0.11695565690864158, ('hits_at_10', 'tail', 'realistic'): 0.11890458299009464, ('hits_at_10', 'both', 'realistic'): 0.11793011994936811, ('hits_at_10', 'head', 'pessimistic'): 0.11695565690864158, ('hits_at_10', 'tail', 'pessimistic'): 0.11890458299009464, ('hits_at_10', 'both', 'pessimistic'): 0.11793011994936811, ('z_hits_at_k', 'head', 'optimistic'): 691.5363756700609, ('z_hits_at_k', 'tail', 'optimistic'): 701.385394099587, ('z_hits_at_k', 'both', 'optimistic'): 984.9524282515147, ('z_hits_at_k', 'head', 'realistic'): 691.5363756700609, ('z_hits_at_k', 'tail', 'realistic'): 701.385394099587, ('z_hits_at_k', 'both', 'realistic'): 984.9524282515147, ('z_hits_at_k', 'head', 'pessimistic'): 691.5363756700609, ('z_hits_at_k', 'tail', 'pessimistic'): 701.385394099587, ('z_hits_at_k', 'both', 'pessimistic'): 984.9524282515147, ('adjusted_hits_at_k', 'head', 'optimistic'): 0.11572487136403445, ('adjusted_hits_at_k', 'tail', 'optimistic'): 0.11767028279607823, ('adjusted_hits_at_k', 'both', 'optimistic'): 0.11669757364539474, ('adjusted_hits_at_k', 'head', 'realistic'): 0.11572487136403445, ('adjusted_hits_at_k', 'tail', 'realistic'): 0.11767028279607823, ('adjusted_hits_at_k', 'both', 'realistic'): 0.11669757364539474, ('adjusted_hits_at_k', 'head', 'pessimistic'): 0.11572487136403445, ('adjusted_hits_at_k', 'tail', 'pessimistic'): 0.11767028279607823, ('adjusted_hits_at_k', 'both', 'pessimistic'): 0.11669757364539474}\n"
     ]
    },
    {
     "name": "stderr",
     "output_type": "stream",
     "text": [
      "INFO:pykeen.triples.triples_factory:Stored TriplesFactory(num_entities=7262, num_relations=28, create_inverse_triples=False, num_triples=386768, path=\"C:\\Users\\SamuelMcmurray\\Documents\\SchoolStuff\\JU\\DeepLearning\\Assignment2\\data\\train.tsv\") to file:///C:/Users/SamuelMcmurray/Documents/SchoolStuff/JU/DeepLearning/Assignment2/TransE_hyper/training_triples\n",
      "INFO:pykeen.pipeline.api:Saved to directory: file:///C:/Users/SamuelMcmurray/Documents/SchoolStuff/JU/DeepLearning/Assignment2/TransE_hyper\n"
     ]
    }
   ],
   "source": [
    "print(result_hyper.metric_results.get_metric(\"inverse_harmonic_mean_rank\"))\n",
    "print(result_hyper.metric_results.data)\n",
    "result_hyper.save_to_directory('TransE_hyper')"
   ]
  },
  {
   "cell_type": "code",
   "execution_count": 16,
   "metadata": {},
   "outputs": [],
   "source": [
    "def stranse_interaction(\n",
    "        h: torch.FloatTensor,\n",
    "        r: torch.FloatTensor,\n",
    "        r_h: torch.FloatTensor,\n",
    "        r_t: torch.FloatTensor,\n",
    "        t: torch.FloatTensor,\n",
    ") -> torch.FloatTensor:\n",
    "    r\"\"\"Evaluate the STransE interaction function.\n",
    "\n",
    "    .. math ::\n",
    "        f(h, r, t) = -\\|R_h h - R_t t\\|\n",
    "\n",
    "    :param h: shape: (`*batch_dims`, dim)\n",
    "        The head representations.\n",
    "    :param r: shape: (`*batch_dims`, dim)\n",
    "        The relation representations.\n",
    "    :param r_h: shape: (`*batch_dims`, rel_dim, dim)\n",
    "        The relation-specific head projection.\n",
    "    :param r_t: shape: (`*batch_dims`, rel_dim, dim)\n",
    "        The relation-specific tail projection.\n",
    "    :param t: shape: (`*batch_dims`, dim)\n",
    "        The tail representations.\n",
    "    :param p:\n",
    "        The p for the norm. cf. :func:`torch.linalg.vector_norm`.\n",
    "    :param power_norm:\n",
    "        Whether to return the powered norm.\n",
    "\n",
    "    :return: shape: batch_dims\n",
    "        The scores.\n",
    "    \"\"\"\n",
    "\n",
    "    # SE interaction function\n",
    "    # ||Wr,1h − Wr,2t||l1/2; Wr,1, Wr,2 ∈ R k×k\n",
    "    # negative_norm(einsum(\"...rd,...d->...r\", r_h, h) - einsum(\"...rd,...d->...r\", r_t, t),p=p,power_norm=power_norm,)\n",
    "\n",
    "    # TransE interaction function\n",
    "    # ||h + r − t||l1/2; r ∈ R^k\n",
    "    # negative_norm_of_sum(h, r, -t, p=p, power_norm=power_norm)\n",
    "    # STranse ineteraction function\n",
    "    # ||Wr,1h + r − Wr,2t||l1/2 ; Wr,1, Wr,2 ∈ R k×k; r ∈ R\n",
    "    # print(einsum(\"j, ik->ik\", r_h, h))\n",
    "    return negative_norm((torch.einsum(\"...j, ...ij->...ij\", r_h, h) + r) - torch.einsum(\"...j, ...ij->...ij\", r_t, t), p=1,power_norm=False)\n",
    "\n",
    "def prepare_hrt_for_functional(\n",
    "    h: HeadRepresentation,\n",
    "    r: RelationRepresentation,\n",
    "    t: TailRepresentation,\n",
    "):\n",
    "    return h, t, r, r[0], r[1]"
   ]
  },
  {
   "cell_type": "code",
   "execution_count": 17,
   "metadata": {},
   "outputs": [],
   "source": [
    "class STransEInteraction(Interaction):\n",
    "\n",
    "    def forward(\n",
    "        self,\n",
    "        h: HeadRepresentation,\n",
    "        r: RelationRepresentation,\n",
    "        t: TailRepresentation,\n",
    "    ) -> torch.FloatTensor:\n",
    "        h, t, r, r_h, r_t = prepare_hrt_for_functional(h,r,t)\n",
    "        result = stranse_interaction(h,r, r_h, r_t, t)\n",
    "\n",
    "        return result\n",
    "\n",
    "\n",
    "\n",
    "class STransE(ERModel):\n",
    "    hpo_default: ClassVar[Mapping[str, Any]] = dict(\n",
    "        embedding_dim=DEFAULT_EMBEDDING_HPO_EMBEDDING_DIM_RANGE,\n",
    "        scoring_fct_norm=dict(type=int, low=1, high=2),\n",
    "    )\n",
    "\n",
    "    def __init__(\n",
    "            self,\n",
    "            *,\n",
    "            embedding_dim: int = 50,\n",
    "            scoring_fct_norm: int = 1,\n",
    "            **kwargs,\n",
    "    ) -> None:\n",
    "        super().__init__(\n",
    "            interaction=STransEInteraction(),\n",
    "            interaction_kwargs=dict(p=scoring_fct_norm),\n",
    "            entity_representations=Embedding,\n",
    "            entity_representations_kwargs=dict(\n",
    "                embedding_dim=embedding_dim,\n",
    "            ),\n",
    "            # Define the relation representations the same as the entities\n",
    "            relation_representations=Embedding,\n",
    "            relation_representations_kwargs=dict(\n",
    "                embedding_dim=embedding_dim,\n",
    "            ),\n",
    "            **kwargs,\n",
    "        )"
   ]
  },
  {
   "cell_type": "code",
   "execution_count": 18,
   "metadata": {},
   "outputs": [
    {
     "name": "stderr",
     "output_type": "stream",
     "text": [
      "INFO:pykeen.pipeline.api:loaded random seed 42 from checkpoint.\n",
      "WARNING:pykeen.utils:No cuda devices were available. The model runs on CPU\n",
      "INFO:pykeen.pipeline.api:Using device: None\n",
      "INFO:pykeen.stoppers.early_stopping:Inferred checkpoint path for best model weights: C:\\Users\\SamuelMcmurray\\.data\\pykeen\\checkpoints\\best-model-weights-85f45dbd-624b-4886-b840-ba14f82bbd69.pt\n",
      "INFO:pykeen.training.training_loop:=> loading checkpoint 'stranse_base_checkpoints\\chkpt_dir\\stranse_base.pt'\n",
      "INFO:pykeen.training.training_loop:=> loaded checkpoint 'stranse_base_checkpoints\\chkpt_dir\\stranse_base.pt' stopped after having finished epoch 140\n",
      "INFO:pykeen.stoppers.stopper:=> loading stopper summary dict from training loop checkpoint in 'stranse_base_checkpoints\\chkpt_dir\\stranse_base.pt'\n",
      "INFO:pykeen.stoppers.stopper:=> loaded stopper summary dictionary from checkpoint in 'stranse_base_checkpoints\\chkpt_dir\\stranse_base.pt'\n",
      "INFO:pykeen.evaluation.evaluator:Currently automatic memory optimization only supports GPUs, but you're using a CPU. Therefore, the batch_size will be set to the default value.\n",
      "INFO:pykeen.evaluation.evaluator:No evaluation batch_size provided. Setting batch_size to '32'.\n"
     ]
    },
    {
     "data": {
      "application/vnd.jupyter.widget-view+json": {
       "model_id": "42d5f91d83ad498585130bb4ad3c5360",
       "version_major": 2,
       "version_minor": 0
      },
      "text/plain": [
       "Evaluating on cpu:   0%|          | 0.00/49.8k [00:00<?, ?triple/s]"
      ]
     },
     "metadata": {},
     "output_type": "display_data"
    },
    {
     "name": "stderr",
     "output_type": "stream",
     "text": [
      "INFO:pykeen.evaluation.evaluator:Evaluation took 372.49s seconds\n"
     ]
    }
   ],
   "source": [
    "result_stranse = pipeline(\n",
    "    model=STransE,\n",
    "    model_kwargs=dict(embedding_dim=300),\n",
    "    training=train,\n",
    "    validation=valid,\n",
    "    testing=test,\n",
    "    random_seed=42,\n",
    "    training_kwargs=dict(\n",
    "        num_epochs= 300,\n",
    "        callbacks=MyTrainingCallback,\n",
    "        batch_size=32,\n",
    "        checkpoint_frequency=0,\n",
    "        checkpoint_name=\"stranse_base.pt\",\n",
    "        checkpoint_directory=\"stranse_base_checkpoints/chkpt_dir\",\n",
    "        checkpoint_on_failure=True,),  # 30\n",
    "    stopper='early',\n",
    "    stopper_kwargs=dict(frequency= 10, patience= 1),\n",
    "    optimizer_kwargs={'lr': 0.1},\n",
    "    evaluator=evaluator,\n",
    ")"
   ]
  },
  {
   "cell_type": "code",
   "execution_count": 19,
   "metadata": {},
   "outputs": [
    {
     "name": "stdout",
     "output_type": "stream",
     "text": [
      "0.027064232155680656\n",
      "{('inverse_harmonic_mean_rank', 'head', 'optimistic'): 0.02649018209103006, ('inverse_harmonic_mean_rank', 'tail', 'optimistic'): 0.02763829357930074, ('inverse_harmonic_mean_rank', 'both', 'optimistic'): 0.0270642378351654, ('inverse_harmonic_mean_rank', 'head', 'realistic'): 0.026490174233913418, ('inverse_harmonic_mean_rank', 'tail', 'realistic'): 0.027638288214802742, ('inverse_harmonic_mean_rank', 'both', 'realistic'): 0.027064232155680656, ('inverse_harmonic_mean_rank', 'head', 'pessimistic'): 0.026490164144528962, ('inverse_harmonic_mean_rank', 'tail', 'pessimistic'): 0.027638282558967425, ('inverse_harmonic_mean_rank', 'both', 'pessimistic'): 0.02706422335174819, ('median_rank', 'head', 'optimistic'): 521.0, ('median_rank', 'tail', 'optimistic'): 463.0, ('median_rank', 'both', 'optimistic'): 490.5, ('median_rank', 'head', 'realistic'): 521.0, ('median_rank', 'tail', 'realistic'): 463.0, ('median_rank', 'both', 'realistic'): 490.5, ('median_rank', 'head', 'pessimistic'): 521.0, ('median_rank', 'tail', 'pessimistic'): 463.0, ('median_rank', 'both', 'pessimistic'): 490.5, ('count', 'head', 'optimistic'): 49771.0, ('count', 'tail', 'optimistic'): 49771.0, ('count', 'both', 'optimistic'): 99542.0, ('count', 'head', 'realistic'): 49771.0, ('count', 'tail', 'realistic'): 49771.0, ('count', 'both', 'realistic'): 99542.0, ('count', 'head', 'pessimistic'): 49771.0, ('count', 'tail', 'pessimistic'): 49771.0, ('count', 'both', 'pessimistic'): 99542.0, ('variance', 'head', 'optimistic'): 1702087.78836571, ('variance', 'tail', 'optimistic'): 1479707.7035135878, ('variance', 'both', 'optimistic'): 1593020.4917386654, ('variance', 'head', 'realistic'): 1702088.875, ('variance', 'tail', 'realistic'): 1479709.125, ('variance', 'both', 'realistic'): 1593021.75, ('variance', 'head', 'pessimistic'): 1702089.9240286895, ('variance', 'tail', 'pessimistic'): 1479710.5104314308, ('variance', 'both', 'pessimistic'): 1593022.9639547816, ('z_geometric_mean_rank', 'head', 'optimistic'): 191.77905454848724, ('z_geometric_mean_rank', 'tail', 'optimistic'): 194.79977490676146, ('z_geometric_mean_rank', 'both', 'optimistic'): 273.41308441822446, ('z_geometric_mean_rank', 'head', 'realistic'): 191.77901062221764, ('z_geometric_mean_rank', 'tail', 'realistic'): 194.79973849447964, ('z_geometric_mean_rank', 'both', 'realistic'): 273.41303903324916, ('z_geometric_mean_rank', 'head', 'pessimistic'): 191.77896436209602, ('z_geometric_mean_rank', 'tail', 'pessimistic'): 194.79970606135976, ('z_geometric_mean_rank', 'both', 'pessimistic'): 273.4129725708684, ('adjusted_inverse_harmonic_mean_rank', 'head', 'optimistic'): 0.025207100183781774, ('adjusted_inverse_harmonic_mean_rank', 'tail', 'optimistic'): 0.026351030632629023, ('adjusted_inverse_harmonic_mean_rank', 'both', 'optimistic'): 0.025779063735672438, ('adjusted_inverse_harmonic_mean_rank', 'head', 'realistic'): 0.025207092316309486, ('adjusted_inverse_harmonic_mean_rank', 'tail', 'realistic'): 0.026351025261029223, ('adjusted_inverse_harmonic_mean_rank', 'both', 'realistic'): 0.02577905804868552, ('adjusted_inverse_harmonic_mean_rank', 'head', 'pessimistic'): 0.02520708221362726, ('adjusted_inverse_harmonic_mean_rank', 'tail', 'pessimistic'): 0.026351019597706415, ('adjusted_inverse_harmonic_mean_rank', 'both', 'pessimistic'): 0.025779049233123734, ('harmonic_mean_rank', 'head', 'optimistic'): 37.74983488462368, ('harmonic_mean_rank', 'tail', 'optimistic'): 36.18168383408931, ('harmonic_mean_rank', 'both', 'optimistic'): 36.94912844361237, ('harmonic_mean_rank', 'head', 'realistic'): 37.749846081411334, ('harmonic_mean_rank', 'tail', 'realistic'): 36.18169085683142, ('harmonic_mean_rank', 'both', 'realistic'): 36.94913619746292, ('harmonic_mean_rank', 'head', 'pessimistic'): 37.749860459303, ('harmonic_mean_rank', 'tail', 'pessimistic'): 36.18169826097039, ('harmonic_mean_rank', 'both', 'pessimistic'): 36.94914821693584, ('adjusted_arithmetic_mean_rank_index', 'head', 'optimistic'): 0.7093288092274004, ('adjusted_arithmetic_mean_rank_index', 'tail', 'optimistic'): 0.7340167532087039, ('adjusted_arithmetic_mean_rank_index', 'both', 'optimistic'): 0.7216504539740636, ('adjusted_arithmetic_mean_rank_index', 'head', 'realistic'): 0.7093285670307865, ('adjusted_arithmetic_mean_rank_index', 'tail', 'realistic'): 0.7340165311787576, ('adjusted_arithmetic_mean_rank_index', 'both', 'realistic'): 0.7216502048230666, ('adjusted_arithmetic_mean_rank_index', 'head', 'pessimistic'): 0.709328356235934, ('adjusted_arithmetic_mean_rank_index', 'tail', 'pessimistic'): 0.7340163041883201, ('adjusted_arithmetic_mean_rank_index', 'both', 'pessimistic'): 0.7216500029645472, ('inverse_geometric_mean_rank', 'head', 'optimistic'): 0.00263981969427996, ('inverse_geometric_mean_rank', 'tail', 'optimistic'): 0.0029266973532872127, ('inverse_geometric_mean_rank', 'both', 'optimistic'): 0.002779559913440372, ('inverse_geometric_mean_rank', 'head', 'realistic'): 0.002639816142618656, ('inverse_geometric_mean_rank', 'tail', 'realistic'): 0.0029266937635838985, ('inverse_geometric_mean_rank', 'both', 'realistic'): 0.002779556903988123, ('inverse_geometric_mean_rank', 'head', 'pessimistic'): 0.002639812266486022, ('inverse_geometric_mean_rank', 'tail', 'pessimistic'): 0.0029266904135292807, ('inverse_geometric_mean_rank', 'both', 'pessimistic'): 0.002779552707512782, ('arithmetic_mean_rank', 'head', 'optimistic'): 1045.2888027164413, ('arithmetic_mean_rank', 'tail', 'optimistic'): 953.142271603946, ('arithmetic_mean_rank', 'both', 'optimistic'): 999.2155371601937, ('arithmetic_mean_rank', 'head', 'realistic'): 1045.2896728515625, ('arithmetic_mean_rank', 'tail', 'realistic'): 953.14306640625, ('arithmetic_mean_rank', 'both', 'realistic'): 999.2164306640625, ('arithmetic_mean_rank', 'head', 'pessimistic'): 1045.2904301701794, ('arithmetic_mean_rank', 'tail', 'pessimistic'): 953.1438789656627, ('arithmetic_mean_rank', 'both', 'pessimistic'): 999.217154567921, ('median_absolute_deviation', 'head', 'optimistic'): 679.0318160755656, ('median_absolute_deviation', 'tail', 'optimistic'): 603.41910293178, ('median_absolute_deviation', 'both', 'optimistic'): 639.7428572851672, ('median_absolute_deviation', 'head', 'realistic'): 679.0318160755656, ('median_absolute_deviation', 'tail', 'realistic'): 603.41910293178, ('median_absolute_deviation', 'both', 'realistic'): 639.7428572851672, ('median_absolute_deviation', 'head', 'pessimistic'): 679.0318160755656, ('median_absolute_deviation', 'tail', 'pessimistic'): 603.41910293178, ('median_absolute_deviation', 'both', 'pessimistic'): 639.7428572851672, ('inverse_arithmetic_mean_rank', 'head', 'optimistic'): 0.0009566734068147031, ('inverse_arithmetic_mean_rank', 'tail', 'optimistic'): 0.0010491613159882226, ('inverse_arithmetic_mean_rank', 'both', 'optimistic'): 0.0010007850787048767, ('inverse_arithmetic_mean_rank', 'head', 'realistic'): 0.0009566725930199027, ('inverse_arithmetic_mean_rank', 'tail', 'realistic'): 0.0010491604916751385, ('inverse_arithmetic_mean_rank', 'both', 'realistic'): 0.0010007842211052775, ('inverse_arithmetic_mean_rank', 'head', 'pessimistic'): 0.0009566719173322903, ('inverse_arithmetic_mean_rank', 'tail', 'pessimistic'): 0.001049159546704727, ('inverse_arithmetic_mean_rank', 'both', 'pessimistic'): 0.0010007834587591898, ('standard_deviation', 'head', 'optimistic'): 1304.6408656659924, ('standard_deviation', 'tail', 'optimistic'): 1216.4323670116592, ('standard_deviation', 'both', 'optimistic'): 1262.1491558998348, ('standard_deviation', 'head', 'realistic'): 1304.6412353515625, ('standard_deviation', 'tail', 'realistic'): 1216.4329833984375, ('standard_deviation', 'both', 'realistic'): 1262.149658203125, ('standard_deviation', 'head', 'pessimistic'): 1304.6416841526602, ('standard_deviation', 'tail', 'pessimistic'): 1216.4335207611762, ('standard_deviation', 'both', 'pessimistic'): 1262.1501352671091, ('z_inverse_harmonic_mean_rank', 'head', 'optimistic'): 372.5938051886841, ('z_inverse_harmonic_mean_rank', 'tail', 'optimistic'): 388.52526155417775, ('z_inverse_harmonic_mean_rank', 'both', 'optimistic'): 538.20614872948, ('z_inverse_harmonic_mean_rank', 'head', 'realistic'): 372.59368889718627, ('z_inverse_harmonic_mean_rank', 'tail', 'realistic'): 388.52518235415533, ('z_inverse_harmonic_mean_rank', 'both', 'realistic'): 538.2060299985844, ('z_inverse_harmonic_mean_rank', 'head', 'pessimistic'): 372.5935395663713, ('z_inverse_harmonic_mean_rank', 'tail', 'pessimistic'): 388.5250988529062, ('z_inverse_harmonic_mean_rank', 'both', 'pessimistic'): 538.2058459504123, ('adjusted_geometric_mean_rank_index', 'head', 'optimistic'): 0.8571269807679062, ('adjusted_geometric_mean_rank_index', 'tail', 'optimistic'): 0.870618046631758, ('adjusted_geometric_mean_rank_index', 'both', 'optimistic'): 0.8640385631022482, ('adjusted_geometric_mean_rank_index', 'head', 'realistic'): 0.857126784446202, ('adjusted_geometric_mean_rank_index', 'tail', 'realistic'): 0.8706178838944567, ('adjusted_geometric_mean_rank_index', 'both', 'realistic'): 0.8640384196768929, ('adjusted_geometric_mean_rank_index', 'head', 'pessimistic'): 0.857126577693705, ('adjusted_geometric_mean_rank_index', 'tail', 'pessimistic'): 0.8706177389412117, ('adjusted_geometric_mean_rank_index', 'both', 'pessimistic'): 0.8640382096428336, ('geometric_mean_rank', 'head', 'optimistic'): 378.8137508659511, ('geometric_mean_rank', 'tail', 'optimistic'): 341.6820666054925, ('geometric_mean_rank', 'both', 'optimistic'): 359.76918330292807, ('geometric_mean_rank', 'head', 'realistic'): 378.81427001953125, ('geometric_mean_rank', 'tail', 'realistic'): 341.6824951171875, ('geometric_mean_rank', 'both', 'realistic'): 359.7695617675781, ('geometric_mean_rank', 'head', 'pessimistic'): 378.81481675632443, ('geometric_mean_rank', 'tail', 'pessimistic'): 341.6828768007974, ('geometric_mean_rank', 'both', 'pessimistic'): 359.77011599640673, ('z_arithmetic_mean_rank', 'head', 'optimistic'): 274.0227480831806, ('z_arithmetic_mean_rank', 'tail', 'optimistic'): 283.4069430405826, ('z_arithmetic_mean_rank', 'both', 'optimistic'): 394.1516372592679, ('z_arithmetic_mean_rank', 'head', 'realistic'): 274.02265451954577, ('z_arithmetic_mean_rank', 'tail', 'realistic'): 283.40685731389027, ('z_arithmetic_mean_rank', 'both', 'realistic'): 394.15150117777193, ('z_arithmetic_mean_rank', 'head', 'pessimistic'): 274.022573086811, ('z_arithmetic_mean_rank', 'tail', 'pessimistic'): 283.40676967193156, ('z_arithmetic_mean_rank', 'both', 'pessimistic'): 394.1513909265201, ('adjusted_arithmetic_mean_rank', 'head', 'optimistic'): 0.2908685730252455, ('adjusted_arithmetic_mean_rank', 'tail', 'optimistic'): 0.2661882388818448, ('adjusted_arithmetic_mean_rank', 'both', 'optimistic'): 0.2785507200931265, ('adjusted_arithmetic_mean_rank', 'head', 'realistic'): 0.2908688151544641, ('adjusted_arithmetic_mean_rank', 'tail', 'realistic'): 0.26618846084978376, ('adjusted_arithmetic_mean_rank', 'both', 'realistic'): 0.27855096917466776, ('adjusted_arithmetic_mean_rank', 'head', 'pessimistic'): 0.29086902589065955, ('adjusted_arithmetic_mean_rank', 'tail', 'pessimistic'): 0.26618868777682864, ('adjusted_arithmetic_mean_rank', 'both', 'pessimistic'): 0.2785511709769152, ('inverse_median_rank', 'head', 'optimistic'): 0.0019193857965451055, ('inverse_median_rank', 'tail', 'optimistic'): 0.0021598272138228943, ('inverse_median_rank', 'both', 'optimistic'): 0.0020387359836901123, ('inverse_median_rank', 'head', 'realistic'): 0.0019193857442587614, ('inverse_median_rank', 'tail', 'realistic'): 0.0021598271559923887, ('inverse_median_rank', 'both', 'realistic'): 0.0020387358963489532, ('inverse_median_rank', 'head', 'pessimistic'): 0.0019193857965451055, ('inverse_median_rank', 'tail', 'pessimistic'): 0.0021598272138228943, ('inverse_median_rank', 'both', 'pessimistic'): 0.0020387359836901123, ('hits_at_1', 'head', 'optimistic'): 0.011573004359968657, ('hits_at_1', 'tail', 'optimistic'): 0.01169355648871833, ('hits_at_1', 'both', 'optimistic'): 0.011633280424343494, ('hits_at_1', 'head', 'realistic'): 0.011573004359968657, ('hits_at_1', 'tail', 'realistic'): 0.01169355648871833, ('hits_at_1', 'both', 'realistic'): 0.011633280424343494, ('hits_at_1', 'head', 'pessimistic'): 0.011573004359968657, ('hits_at_1', 'tail', 'pessimistic'): 0.01169355648871833, ('hits_at_1', 'both', 'pessimistic'): 0.011633280424343494, ('hits_at_3', 'head', 'optimistic'): 0.02248297201181411, ('hits_at_3', 'tail', 'optimistic'): 0.023166100741395593, ('hits_at_3', 'both', 'optimistic'): 0.02282453637660485, ('hits_at_3', 'head', 'realistic'): 0.02248297201181411, ('hits_at_3', 'tail', 'realistic'): 0.023166100741395593, ('hits_at_3', 'both', 'realistic'): 0.02282453637660485, ('hits_at_3', 'head', 'pessimistic'): 0.02248297201181411, ('hits_at_3', 'tail', 'pessimistic'): 0.023166100741395593, ('hits_at_3', 'both', 'pessimistic'): 0.02282453637660485, ('hits_at_5', 'head', 'optimistic'): 0.030379136444917722, ('hits_at_5', 'tail', 'optimistic'): 0.03172530188262241, ('hits_at_5', 'both', 'optimistic'): 0.031052219163770066, ('hits_at_5', 'head', 'realistic'): 0.030379136444917722, ('hits_at_5', 'tail', 'realistic'): 0.03172530188262241, ('hits_at_5', 'both', 'realistic'): 0.031052219163770066, ('hits_at_5', 'head', 'pessimistic'): 0.030379136444917722, ('hits_at_5', 'tail', 'pessimistic'): 0.03172530188262241, ('hits_at_5', 'both', 'pessimistic'): 0.031052219163770066, ('hits_at_10', 'head', 'optimistic'): 0.0471760663840389, ('hits_at_10', 'tail', 'optimistic'): 0.048984348315284, ('hits_at_10', 'both', 'optimistic'): 0.04808020734966145, ('hits_at_10', 'head', 'realistic'): 0.0471760663840389, ('hits_at_10', 'tail', 'realistic'): 0.048984348315284, ('hits_at_10', 'both', 'realistic'): 0.04808020734966145, ('hits_at_10', 'head', 'pessimistic'): 0.0471760663840389, ('hits_at_10', 'tail', 'pessimistic'): 0.048984348315284, ('hits_at_10', 'both', 'pessimistic'): 0.04808020734966145, ('z_hits_at_k', 'head', 'optimistic'): 273.97373368825737, ('z_hits_at_k', 'tail', 'optimistic'): 284.0350631684632, ('z_hits_at_k', 'both', 'optimistic'): 394.58046214028155, ('z_hits_at_k', 'head', 'realistic'): 273.97373368825737, ('z_hits_at_k', 'tail', 'realistic'): 284.0350631684632, ('z_hits_at_k', 'both', 'realistic'): 394.58046214028155, ('z_hits_at_k', 'head', 'pessimistic'): 273.97373368825737, ('z_hits_at_k', 'tail', 'pessimistic'): 284.0350631684632, ('z_hits_at_k', 'both', 'pessimistic'): 394.58046214028155, ('adjusted_hits_at_k', 'head', 'optimistic'): 0.04584802217739717, ('adjusted_hits_at_k', 'tail', 'optimistic'): 0.04765209895758034, ('adjusted_hits_at_k', 'both', 'optimistic'): 0.046750057382356214, ('adjusted_hits_at_k', 'head', 'realistic'): 0.04584802217739717, ('adjusted_hits_at_k', 'tail', 'realistic'): 0.04765209895758034, ('adjusted_hits_at_k', 'both', 'realistic'): 0.046750057382356214, ('adjusted_hits_at_k', 'head', 'pessimistic'): 0.04584802217739717, ('adjusted_hits_at_k', 'tail', 'pessimistic'): 0.04765209895758034, ('adjusted_hits_at_k', 'both', 'pessimistic'): 0.046750057382356214}\n"
     ]
    },
    {
     "name": "stderr",
     "output_type": "stream",
     "text": [
      "INFO:pykeen.triples.triples_factory:Stored TriplesFactory(num_entities=7262, num_relations=28, create_inverse_triples=False, num_triples=386768, path=\"C:\\Users\\SamuelMcmurray\\Documents\\SchoolStuff\\JU\\DeepLearning\\Assignment2\\data\\train.tsv\") to file:///C:/Users/SamuelMcmurray/Documents/SchoolStuff/JU/DeepLearning/Assignment2/pharmaKG_STransE_base/training_triples\n",
      "INFO:pykeen.pipeline.api:Saved to directory: file:///C:/Users/SamuelMcmurray/Documents/SchoolStuff/JU/DeepLearning/Assignment2/pharmaKG_STransE_base\n"
     ]
    }
   ],
   "source": [
    "print(result_stranse.metric_results.get_metric(\"inverse_harmonic_mean_rank\"))\n",
    "print(result_stranse.metric_results.data)\n",
    "result_stranse.save_to_directory(f'pharmaKG_STransE_base')"
   ]
  },
  {
   "cell_type": "code",
   "execution_count": 20,
   "metadata": {},
   "outputs": [
    {
     "name": "stderr",
     "output_type": "stream",
     "text": [
      "INFO:pykeen.pipeline.api:loaded random seed 42 from checkpoint.\n",
      "WARNING:pykeen.utils:No cuda devices were available. The model runs on CPU\n",
      "INFO:pykeen.pipeline.api:Using device: None\n",
      "INFO:pykeen.stoppers.early_stopping:Inferred checkpoint path for best model weights: C:\\Users\\SamuelMcmurray\\.data\\pykeen\\checkpoints\\best-model-weights-dd3b39c4-e6d0-4de1-bed2-ef438a82027d.pt\n",
      "INFO:pykeen.training.training_loop:=> loading checkpoint 'stranse_hyper_checkpoints\\chkpt_dir\\stranse_hyper.pt'\n",
      "INFO:pykeen.training.training_loop:=> loaded checkpoint 'stranse_hyper_checkpoints\\chkpt_dir\\stranse_hyper.pt' stopped after having finished epoch 100\n",
      "INFO:pykeen.stoppers.stopper:=> loading stopper summary dict from training loop checkpoint in 'stranse_hyper_checkpoints\\chkpt_dir\\stranse_hyper.pt'\n",
      "INFO:pykeen.stoppers.stopper:=> loaded stopper summary dictionary from checkpoint in 'stranse_hyper_checkpoints\\chkpt_dir\\stranse_hyper.pt'\n",
      "INFO:pykeen.evaluation.evaluator:Currently automatic memory optimization only supports GPUs, but you're using a CPU. Therefore, the batch_size will be set to the default value.\n",
      "INFO:pykeen.evaluation.evaluator:No evaluation batch_size provided. Setting batch_size to '32'.\n"
     ]
    },
    {
     "data": {
      "application/vnd.jupyter.widget-view+json": {
       "model_id": "52bb23cd42ed463f8f39883fd261b566",
       "version_major": 2,
       "version_minor": 0
      },
      "text/plain": [
       "Evaluating on cpu:   0%|          | 0.00/49.8k [00:00<?, ?triple/s]"
      ]
     },
     "metadata": {},
     "output_type": "display_data"
    },
    {
     "name": "stderr",
     "output_type": "stream",
     "text": [
      "INFO:pykeen.evaluation.evaluator:Evaluation took 276.68s seconds\n"
     ]
    }
   ],
   "source": [
    "result_stranse_hyper = pipeline(\n",
    "    model=STransE,\n",
    "    model_kwargs=dict(embedding_dim=200),\n",
    "    training=train,\n",
    "    validation=valid,\n",
    "    testing=test,\n",
    "    random_seed=42,\n",
    "    training_kwargs=dict(\n",
    "        num_epochs= 300,\n",
    "        callbacks=MyTrainingCallback,\n",
    "        batch_size=96,\n",
    "        checkpoint_frequency=0,\n",
    "        checkpoint_name=\"stranse_hyper.pt\",\n",
    "        checkpoint_directory=\"stranse_hyper_checkpoints/chkpt_dir\",\n",
    "        checkpoint_on_failure=True,),  # 30\n",
    "    stopper='early',\n",
    "    stopper_kwargs=dict(frequency= 10, patience= 1),\n",
    "    optimizer_kwargs={'lr': 0.001},\n",
    "    evaluator=evaluator,\n",
    ")"
   ]
  },
  {
   "cell_type": "code",
   "execution_count": 21,
   "metadata": {},
   "outputs": [
    {
     "name": "stdout",
     "output_type": "stream",
     "text": [
      "0.04369758442044258\n",
      "{('inverse_harmonic_mean_rank', 'head', 'optimistic'): 0.04132072333810905, ('inverse_harmonic_mean_rank', 'tail', 'optimistic'): 0.046074458525835096, ('inverse_harmonic_mean_rank', 'both', 'optimistic'): 0.04369759093197207, ('inverse_harmonic_mean_rank', 'head', 'realistic'): 0.04132070764899254, ('inverse_harmonic_mean_rank', 'tail', 'realistic'): 0.04607445374131203, ('inverse_harmonic_mean_rank', 'both', 'realistic'): 0.04369758442044258, ('inverse_harmonic_mean_rank', 'head', 'pessimistic'): 0.04132069200917406, ('inverse_harmonic_mean_rank', 'tail', 'pessimistic'): 0.04607445047675227, ('inverse_harmonic_mean_rank', 'both', 'pessimistic'): 0.04369757124296316, ('median_rank', 'head', 'optimistic'): 242.0, ('median_rank', 'tail', 'optimistic'): 190.0, ('median_rank', 'both', 'optimistic'): 214.0, ('median_rank', 'head', 'realistic'): 242.0, ('median_rank', 'tail', 'realistic'): 190.0, ('median_rank', 'both', 'realistic'): 214.0, ('median_rank', 'head', 'pessimistic'): 242.0, ('median_rank', 'tail', 'pessimistic'): 190.0, ('median_rank', 'both', 'pessimistic'): 214.0, ('count', 'head', 'optimistic'): 49771.0, ('count', 'tail', 'optimistic'): 49771.0, ('count', 'both', 'optimistic'): 99542.0, ('count', 'head', 'realistic'): 49771.0, ('count', 'tail', 'realistic'): 49771.0, ('count', 'both', 'realistic'): 99542.0, ('count', 'head', 'pessimistic'): 49771.0, ('count', 'tail', 'pessimistic'): 49771.0, ('count', 'both', 'pessimistic'): 99542.0, ('variance', 'head', 'optimistic'): 1111559.348557383, ('variance', 'tail', 'optimistic'): 896131.9575785939, ('variance', 'both', 'optimistic'): 1006071.4513732735, ('variance', 'head', 'realistic'): 1111561.375, ('variance', 'tail', 'realistic'): 896133.125, ('variance', 'both', 'realistic'): 1006073.125, ('variance', 'head', 'pessimistic'): 1111563.4160683919, ('variance', 'tail', 'pessimistic'): 896134.1492736936, ('variance', 'both', 'pessimistic'): 1006074.6122574268, ('z_geometric_mean_rank', 'head', 'optimistic'): 207.60855922299606, ('z_geometric_mean_rank', 'tail', 'optimistic'): 210.54216515284472, ('z_geometric_mean_rank', 'both', 'optimistic'): 295.78895904607174, ('z_geometric_mean_rank', 'head', 'realistic'): 207.6085341503378, ('z_geometric_mean_rank', 'tail', 'realistic'): 210.5421539654625, ('z_geometric_mean_rank', 'both', 'realistic'): 295.7889329517213, ('z_geometric_mean_rank', 'head', 'pessimistic'): 207.60850068070593, ('z_geometric_mean_rank', 'tail', 'pessimistic'): 210.54213544945736, ('z_geometric_mean_rank', 'both', 'pessimistic'): 295.7888983699537, ('adjusted_inverse_harmonic_mean_rank', 'head', 'optimistic'): 0.04005718802278903, ('adjusted_inverse_harmonic_mean_rank', 'tail', 'optimistic'): 0.04481160233218305, ('adjusted_inverse_harmonic_mean_rank', 'both', 'optimistic'): 0.04243438822608907, ('adjusted_inverse_harmonic_mean_rank', 'head', 'realistic'): 0.04005717231299433, ('adjusted_inverse_harmonic_mean_rank', 'tail', 'realistic'): 0.04481159754132598, ('adjusted_inverse_harmonic_mean_rank', 'both', 'realistic'): 0.04243438170595835, ('adjusted_inverse_harmonic_mean_rank', 'head', 'pessimistic'): 0.04005715665256264, ('adjusted_inverse_harmonic_mean_rank', 'tail', 'pessimistic'): 0.04481159427244443, ('adjusted_inverse_harmonic_mean_rank', 'both', 'pessimistic'): 0.042434368511072476, ('harmonic_mean_rank', 'head', 'optimistic'): 24.200931620132735, ('harmonic_mean_rank', 'tail', 'optimistic'): 21.70399896157814, ('harmonic_mean_rank', 'both', 'optimistic'): 22.884556760961697, ('harmonic_mean_rank', 'head', 'realistic'): 24.20094080901786, ('harmonic_mean_rank', 'tail', 'realistic'): 21.704001215392896, ('harmonic_mean_rank', 'both', 'realistic'): 22.88456017106933, ('harmonic_mean_rank', 'head', 'pessimistic'): 24.200949969036795, ('harmonic_mean_rank', 'tail', 'pessimistic'): 21.7040027532085, ('harmonic_mean_rank', 'both', 'pessimistic'): 22.88456707215816, ('adjusted_arithmetic_mean_rank_index', 'head', 'optimistic'): 0.8118902883413996, ('adjusted_arithmetic_mean_rank_index', 'tail', 'optimistic'): 0.8375673476552837, ('adjusted_arithmetic_mean_rank_index', 'both', 'optimistic'): 0.8247055962197828, ('adjusted_arithmetic_mean_rank_index', 'head', 'realistic'): 0.8118900253948287, ('adjusted_arithmetic_mean_rank_index', 'tail', 'realistic'): 0.8375671736578296, ('adjusted_arithmetic_mean_rank_index', 'both', 'realistic'): 0.8247053776673265, ('adjusted_arithmetic_mean_rank_index', 'head', 'pessimistic'): 0.8118897458701376, ('adjusted_arithmetic_mean_rank_index', 'tail', 'pessimistic'): 0.8375669884389767, ('adjusted_arithmetic_mean_rank_index', 'both', 'pessimistic'): 0.8247051452102664, ('inverse_geometric_mean_rank', 'head', 'optimistic'): 0.0052157005339300054, ('inverse_geometric_mean_rank', 'tail', 'optimistic'): 0.006393026125159611, ('inverse_geometric_mean_rank', 'both', 'optimistic'): 0.0057744358836533515, ('inverse_geometric_mean_rank', 'head', 'realistic'): 0.005215692333877087, ('inverse_geometric_mean_rank', 'tail', 'realistic'): 0.00639302097260952, ('inverse_geometric_mean_rank', 'both', 'realistic'): 0.005774428602308035, ('inverse_geometric_mean_rank', 'head', 'pessimistic'): 0.005215681711964763, ('inverse_geometric_mean_rank', 'tail', 'pessimistic'): 0.006393011838432457, ('inverse_geometric_mean_rank', 'both', 'pessimistic'): 0.0057744190123410945, ('arithmetic_mean_rank', 'head', 'optimistic'): 676.8181471137812, ('arithmetic_mean_rank', 'tail', 'optimistic'): 582.4614132727894, ('arithmetic_mean_rank', 'both', 'optimistic'): 629.6397801932852, ('arithmetic_mean_rank', 'head', 'realistic'): 676.819091796875, ('arithmetic_mean_rank', 'tail', 'realistic'): 582.4620361328125, ('arithmetic_mean_rank', 'both', 'realistic'): 629.6405639648438, ('arithmetic_mean_rank', 'head', 'pessimistic'): 676.8200960398626, ('arithmetic_mean_rank', 'tail', 'pessimistic'): 582.4626991621627, ('arithmetic_mean_rank', 'both', 'pessimistic'): 629.6413976010126, ('median_absolute_deviation', 'head', 'optimistic'): 326.1724880712324, ('median_absolute_deviation', 'tail', 'optimistic'): 257.97278601997476, ('median_absolute_deviation', 'both', 'optimistic'): 290.590034827098, ('median_absolute_deviation', 'head', 'realistic'): 326.1724880712324, ('median_absolute_deviation', 'tail', 'realistic'): 257.97278601997476, ('median_absolute_deviation', 'both', 'realistic'): 290.590034827098, ('median_absolute_deviation', 'head', 'pessimistic'): 326.1724880712324, ('median_absolute_deviation', 'tail', 'pessimistic'): 257.97278601997476, ('median_absolute_deviation', 'both', 'pessimistic'): 290.590034827098, ('inverse_arithmetic_mean_rank', 'head', 'optimistic'): 0.0014775017547392802, ('inverse_arithmetic_mean_rank', 'tail', 'optimistic'): 0.0017168519273767942, ('inverse_arithmetic_mean_rank', 'both', 'optimistic'): 0.0015882096898214128, ('inverse_arithmetic_mean_rank', 'head', 'realistic'): 0.0014774997252970934, ('inverse_arithmetic_mean_rank', 'tail', 'realistic'): 0.0017168500926345587, ('inverse_arithmetic_mean_rank', 'both', 'realistic'): 0.001588207669556141, ('inverse_arithmetic_mean_rank', 'head', 'pessimistic'): 0.001477497500223609, ('inverse_arithmetic_mean_rank', 'tail', 'pessimistic'): 0.0017168481371226678, ('inverse_arithmetic_mean_rank', 'both', 'pessimistic'): 0.0015882056100664367, ('standard_deviation', 'head', 'optimistic'): 1054.3051496399812, ('standard_deviation', 'tail', 'optimistic'): 946.642465547893, ('standard_deviation', 'both', 'optimistic'): 1003.0311318066222, ('standard_deviation', 'head', 'realistic'): 1054.30615234375, ('standard_deviation', 'tail', 'realistic'): 946.64306640625, ('standard_deviation', 'both', 'realistic'): 1003.031982421875, ('standard_deviation', 'head', 'pessimistic'): 1054.3070786390424, ('standard_deviation', 'tail', 'pessimistic'): 946.6436231622191, ('standard_deviation', 'both', 'pessimistic'): 1003.0327074714098, ('z_inverse_harmonic_mean_rank', 'head', 'optimistic'): 592.0974646727637, ('z_inverse_harmonic_mean_rank', 'tail', 'optimistic'): 660.7119000201396, ('z_inverse_harmonic_mean_rank', 'both', 'optimistic'): 885.9301057257446, ('z_inverse_harmonic_mean_rank', 'head', 'realistic'): 592.097232461516, ('z_inverse_harmonic_mean_rank', 'tail', 'realistic'): 660.711829382713, ('z_inverse_harmonic_mean_rank', 'both', 'realistic'): 885.9299696007681, ('z_inverse_harmonic_mean_rank', 'head', 'pessimistic'): 592.0970009799179, ('z_inverse_harmonic_mean_rank', 'tail', 'pessimistic'): 660.7117811856205, ('z_inverse_harmonic_mean_rank', 'both', 'pessimistic'): 885.9296941226212, ('adjusted_geometric_mean_rank_index', 'head', 'optimistic'): 0.9278745166792529, ('adjusted_geometric_mean_rank_index', 'tail', 'optimistic'): 0.940975463892224, ('adjusted_geometric_mean_rank_index', 'both', 'optimistic'): 0.9347506821024776, ('adjusted_geometric_mean_rank_index', 'head', 'realistic'): 0.9278744046208639, ('adjusted_geometric_mean_rank_index', 'tail', 'realistic'): 0.9409754138924902, ('adjusted_geometric_mean_rank_index', 'both', 'realistic'): 0.9347505996392512, ('adjusted_geometric_mean_rank_index', 'head', 'pessimistic'): 0.9278742550334933, ('adjusted_geometric_mean_rank_index', 'tail', 'pessimistic'): 0.9409753311389644, ('adjusted_geometric_mean_rank_index', 'both', 'pessimistic'): 0.9347504903541348, ('geometric_mean_rank', 'head', 'optimistic'): 191.7287991315147, ('geometric_mean_rank', 'tail', 'optimistic'): 156.42044634613995, ('geometric_mean_rank', 'both', 'optimistic'): 173.17708952849662, ('geometric_mean_rank', 'head', 'realistic'): 191.72909545898438, ('geometric_mean_rank', 'tail', 'realistic'): 156.4205780029297, ('geometric_mean_rank', 'both', 'realistic'): 173.17730712890625, ('geometric_mean_rank', 'head', 'pessimistic'): 191.72949102818183, ('geometric_mean_rank', 'tail', 'pessimistic'): 156.420795905361, ('geometric_mean_rank', 'both', 'pessimistic'): 173.17759550576412, ('z_arithmetic_mean_rank', 'head', 'optimistic'): 313.64355297464533, ('z_arithmetic_mean_rank', 'tail', 'optimistic'): 323.3882613059384, ('z_arithmetic_mean_rank', 'both', 'optimistic'): 450.43837943541416, ('z_arithmetic_mean_rank', 'head', 'realistic'): 313.6434513950379, ('z_arithmetic_mean_rank', 'tail', 'realistic'): 323.3881941247925, ('z_arithmetic_mean_rank', 'both', 'realistic'): 450.4382600662542, ('z_arithmetic_mean_rank', 'head', 'pessimistic'): 313.6433434110916, ('z_arithmetic_mean_rank', 'tail', 'pessimistic'): 323.3881226110176, ('z_arithmetic_mean_rank', 'both', 'pessimistic'): 450.4381331026663, ('adjusted_arithmetic_mean_rank', 'head', 'optimistic'): 0.1883356333072482, ('adjusted_arithmetic_mean_rank', 'tail', 'optimistic'): 0.1626665634657099, ('adjusted_arithmetic_mean_rank', 'both', 'optimistic'): 0.17552430646802442, ('adjusted_arithmetic_mean_rank', 'head', 'realistic'): 0.18833589618065003, ('adjusted_arithmetic_mean_rank', 'tail', 'realistic'): 0.16266673741457102, ('adjusted_arithmetic_mean_rank', 'both', 'realistic'): 0.17552452495955492, ('adjusted_arithmetic_mean_rank', 'head', 'pessimistic'): 0.1883361756275589, ('adjusted_arithmetic_mean_rank', 'tail', 'pessimistic'): 0.162666922581697, ('adjusted_arithmetic_mean_rank', 'both', 'pessimistic'): 0.17552475735181314, ('inverse_median_rank', 'head', 'optimistic'): 0.004132231404958678, ('inverse_median_rank', 'tail', 'optimistic'): 0.005263157894736842, ('inverse_median_rank', 'both', 'optimistic'): 0.004672897196261682, ('inverse_median_rank', 'head', 'realistic'): 0.00413223123177886, ('inverse_median_rank', 'tail', 'realistic'): 0.005263158120214939, ('inverse_median_rank', 'both', 'realistic'): 0.004672897048294544, ('inverse_median_rank', 'head', 'pessimistic'): 0.004132231404958678, ('inverse_median_rank', 'tail', 'pessimistic'): 0.005263157894736842, ('inverse_median_rank', 'both', 'pessimistic'): 0.004672897196261682, ('hits_at_1', 'head', 'optimistic'): 0.014084507042253521, ('hits_at_1', 'tail', 'optimistic'): 0.014164875128086637, ('hits_at_1', 'both', 'optimistic'): 0.01412469108517008, ('hits_at_1', 'head', 'realistic'): 0.014084507042253521, ('hits_at_1', 'tail', 'realistic'): 0.014164875128086637, ('hits_at_1', 'both', 'realistic'): 0.01412469108517008, ('hits_at_1', 'head', 'pessimistic'): 0.014084507042253521, ('hits_at_1', 'tail', 'pessimistic'): 0.014164875128086637, ('hits_at_1', 'both', 'pessimistic'): 0.01412469108517008, ('hits_at_3', 'head', 'optimistic'): 0.03696931948323321, ('hits_at_3', 'tail', 'optimistic'): 0.0415503003757208, ('hits_at_3', 'both', 'optimistic'): 0.039259809929477, ('hits_at_3', 'head', 'realistic'): 0.03696931948323321, ('hits_at_3', 'tail', 'realistic'): 0.0415503003757208, ('hits_at_3', 'both', 'realistic'): 0.039259809929477, ('hits_at_3', 'head', 'pessimistic'): 0.03696931948323321, ('hits_at_3', 'tail', 'pessimistic'): 0.0415503003757208, ('hits_at_3', 'both', 'pessimistic'): 0.039259809929477, ('hits_at_5', 'head', 'optimistic'): 0.05394707761547889, ('hits_at_5', 'tail', 'optimistic'): 0.061461493640875206, ('hits_at_5', 'both', 'optimistic'): 0.05770428562817705, ('hits_at_5', 'head', 'realistic'): 0.05394707761547889, ('hits_at_5', 'tail', 'realistic'): 0.061461493640875206, ('hits_at_5', 'both', 'realistic'): 0.05770428562817705, ('hits_at_5', 'head', 'pessimistic'): 0.05394707761547889, ('hits_at_5', 'tail', 'pessimistic'): 0.061461493640875206, ('hits_at_5', 'both', 'pessimistic'): 0.05770428562817705, ('hits_at_10', 'head', 'optimistic'): 0.085290631090394, ('hits_at_10', 'tail', 'optimistic'): 0.10050029133431114, ('hits_at_10', 'both', 'optimistic'): 0.09289546121235258, ('hits_at_10', 'head', 'realistic'): 0.085290631090394, ('hits_at_10', 'tail', 'realistic'): 0.10050029133431114, ('hits_at_10', 'both', 'realistic'): 0.09289546121235258, ('hits_at_10', 'head', 'pessimistic'): 0.085290631090394, ('hits_at_10', 'tail', 'pessimistic'): 0.10050029133431114, ('hits_at_10', 'both', 'pessimistic'): 0.09289546121235258, ('z_hits_at_k', 'head', 'optimistic'): 502.05214769329086, ('z_hits_at_k', 'tail', 'optimistic'): 591.5311115901302, ('z_hits_at_k', 'both', 'optimistic'): 773.3593116760519, ('z_hits_at_k', 'head', 'realistic'): 502.05214769329086, ('z_hits_at_k', 'tail', 'realistic'): 591.5311115901302, ('z_hits_at_k', 'both', 'realistic'): 773.3593116760519, ('z_hits_at_k', 'head', 'pessimistic'): 502.05214769329086, ('z_hits_at_k', 'tail', 'pessimistic'): 591.5311115901302, ('z_hits_at_k', 'both', 'pessimistic'): 773.3593116760519, ('adjusted_hits_at_k', 'head', 'optimistic'): 0.08401571089235567, ('adjusted_hits_at_k', 'tail', 'optimistic'): 0.09924020911904831, ('adjusted_hits_at_k', 'both', 'optimistic'): 0.0916279331265551, ('adjusted_hits_at_k', 'head', 'realistic'): 0.08401571089235567, ('adjusted_hits_at_k', 'tail', 'realistic'): 0.09924020911904831, ('adjusted_hits_at_k', 'both', 'realistic'): 0.0916279331265551, ('adjusted_hits_at_k', 'head', 'pessimistic'): 0.08401571089235567, ('adjusted_hits_at_k', 'tail', 'pessimistic'): 0.09924020911904831, ('adjusted_hits_at_k', 'both', 'pessimistic'): 0.0916279331265551}\n"
     ]
    },
    {
     "name": "stderr",
     "output_type": "stream",
     "text": [
      "INFO:pykeen.triples.triples_factory:Stored TriplesFactory(num_entities=7262, num_relations=28, create_inverse_triples=False, num_triples=386768, path=\"C:\\Users\\SamuelMcmurray\\Documents\\SchoolStuff\\JU\\DeepLearning\\Assignment2\\data\\train.tsv\") to file:///C:/Users/SamuelMcmurray/Documents/SchoolStuff/JU/DeepLearning/Assignment2/pharmaKG_STransE_hyper/training_triples\n",
      "INFO:pykeen.pipeline.api:Saved to directory: file:///C:/Users/SamuelMcmurray/Documents/SchoolStuff/JU/DeepLearning/Assignment2/pharmaKG_STransE_hyper\n"
     ]
    }
   ],
   "source": [
    "print(result_stranse_hyper.metric_results.get_metric(\"inverse_harmonic_mean_rank\"))\n",
    "print(result_stranse_hyper.metric_results.data)\n",
    "result_stranse_hyper.save_to_directory(f'pharmaKG_STransE_hyper')"
   ]
  },
  {
   "cell_type": "code",
   "execution_count": 25,
   "metadata": {},
   "outputs": [],
   "source": [
    "# log_dir = \"logs/fit/\" + datetime.now().strftime(\"%Y%m%d-%H%M%S\")\n",
    "# tensorboard_callback = tf.keras.callbacks.TensorBoard(log_dir=log_dir, update_freq=1)\n",
    "models = [result_base, result_hyper, result_stranse, result_stranse_hyper]\n",
    "for index, result_model in enumerate(models):\n",
    "    model = result_model.model\n",
    "\n",
    "    entity_representation_modules: List['Representation'] = model.entity_representations\n",
    "    relation_representation_modules: List['Representation'] = model.relation_representations\n",
    "\n",
    "    entity_embeddings: Embedding = entity_representation_modules[0]\n",
    "    relation_embeddings: Embedding = relation_representation_modules[0]\n",
    "\n",
    "    entity_embedding_tensor: torch.FloatTensor = entity_embeddings()\n",
    "    relation_embedding_tensor: torch.FloatTensor = relation_embeddings()\n",
    "\n",
    "    vocab = train.entity_labeling.all_labels()\n",
    "\n",
    "    writer.add_embedding(entity_embedding_tensor, vocab, global_step=index)\n",
    "    writer.close()\n",
    "# import io\n",
    "# out_v = io.open('runs/tensors.tsv', 'w', encoding='utf-8')\n",
    "# out_m = io.open('runs/metadata.tsv', 'w', encoding='utf-8')\n",
    "# for index, word in enumerate(vocab):\n",
    "#     vec = entity_embedding_tensor[index]\n",
    "#     out_v.write('\\t'.join([str(x) for x in vec]) + \"\\n\")\n",
    "#     out_m.write(word + \"\\n\")\n",
    "# out_v.close()\n",
    "# out_m.close()"
   ]
  },
  {
   "cell_type": "code",
   "execution_count": 2,
   "metadata": {},
   "outputs": [
    {
     "data": {
      "text/plain": [
       "Reusing TensorBoard on port 6006 (pid 992), started 0:09:00 ago. (Use '!kill 992' to kill it.)"
      ]
     },
     "metadata": {},
     "output_type": "display_data"
    },
    {
     "data": {
      "text/html": [
       "\n",
       "      <iframe id=\"tensorboard-frame-adf42ef206cd1f56\" width=\"100%\" height=\"800\" frameborder=\"0\">\n",
       "      </iframe>\n",
       "      <script>\n",
       "        (function() {\n",
       "          const frame = document.getElementById(\"tensorboard-frame-adf42ef206cd1f56\");\n",
       "          const url = new URL(\"/\", window.location);\n",
       "          const port = 6006;\n",
       "          if (port) {\n",
       "            url.port = port;\n",
       "          }\n",
       "          frame.src = url;\n",
       "        })();\n",
       "      </script>\n",
       "    "
      ],
      "text/plain": [
       "<IPython.core.display.HTML object>"
      ]
     },
     "metadata": {},
     "output_type": "display_data"
    }
   ],
   "source": [
    "%reload_ext tensorboard\n",
    "%tensorboard --logdir 'runs/Apr30_14-45-04_DESKTOP-1DMSUFS'"
   ]
  },
  {
   "cell_type": "code",
   "execution_count": null,
   "metadata": {},
   "outputs": [],
   "source": []
  }
 ],
 "metadata": {
  "kernelspec": {
   "display_name": "TensorFlowGPU",
   "language": "python",
   "name": "tf"
  },
  "language_info": {
   "codemirror_mode": {
    "name": "ipython",
    "version": 3
   },
   "file_extension": ".py",
   "mimetype": "text/x-python",
   "name": "python",
   "nbconvert_exporter": "python",
   "pygments_lexer": "ipython3",
   "version": "3.10.0"
  }
 },
 "nbformat": 4,
 "nbformat_minor": 1
}
