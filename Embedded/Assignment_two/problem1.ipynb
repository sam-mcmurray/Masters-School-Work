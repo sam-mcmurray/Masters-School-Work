{
 "cells": [
  {
   "cell_type": "code",
   "execution_count": 85,
   "metadata": {
    "ExecuteTime": {
     "end_time": "2023-11-19T12:50:04.998538200Z",
     "start_time": "2023-11-19T12:50:04.933683700Z"
    }
   },
   "outputs": [],
   "source": [
    "import os\n",
    "import numpy as np\n",
    "import matplotlib.pyplot as plt\n",
    "import tensorflow as tf\n",
    "from tensorflow import keras\n",
    "from keras import layers\n",
    "from keras.callbacks import EarlyStopping\n",
    "import tensorflow_hub as hub"
   ]
  },
  {
   "cell_type": "code",
   "execution_count": 86,
   "outputs": [
    {
     "name": "stdout",
     "output_type": "stream",
     "text": [
      "Num GPUs Available:  1\n",
      "2.10.0\n"
     ]
    }
   ],
   "source": [
    "physical_devices = tf.config.experimental.list_physical_devices('GPU')\n",
    "print(\"Num GPUs Available: \", len(physical_devices))\n",
    "tf.config.experimental.set_memory_growth(physical_devices[0], True)\n",
    "print(tf.__version__)"
   ],
   "metadata": {
    "collapsed": false,
    "ExecuteTime": {
     "end_time": "2023-11-19T12:50:05.022538300Z",
     "start_time": "2023-11-19T12:50:04.945684500Z"
    }
   }
  },
  {
   "cell_type": "code",
   "execution_count": 87,
   "metadata": {
    "ExecuteTime": {
     "end_time": "2023-11-19T12:50:05.022538300Z",
     "start_time": "2023-11-19T12:50:04.960683600Z"
    }
   },
   "outputs": [],
   "source": [
    "keras_cache_dir = os.path.join(os.getcwd(),'keras_cache')\n",
    "os.makedirs(keras_cache_dir, exist_ok = True)\n",
    "\n",
    "tfhub_cache_dir = os.path.join(os.getcwd(),'tfhub_cache')\n",
    "os.makedirs(tfhub_cache_dir, exist_ok = True)\n",
    "os.environ['TFHUB_CACHE_DIR'] = tfhub_cache_dir"
   ]
  },
  {
   "cell_type": "code",
   "execution_count": 88,
   "metadata": {
    "ExecuteTime": {
     "end_time": "2023-11-19T12:50:05.023538200Z",
     "start_time": "2023-11-19T12:50:04.975683400Z"
    }
   },
   "outputs": [],
   "source": [
    "# os.environ['CUDA_VISIBLE_DEVICES'] = '-1'\n",
    "# if tf.test.gpu_device_name():\n",
    "#     print('GPU found')\n",
    "# else:\n",
    "#     print('No GPU found')"
   ]
  },
  {
   "cell_type": "code",
   "execution_count": 89,
   "metadata": {
    "ExecuteTime": {
     "end_time": "2023-11-19T12:50:05.024538200Z",
     "start_time": "2023-11-19T12:50:04.989540800Z"
    }
   },
   "outputs": [],
   "source": [
    "classifier_model =\"https://www.kaggle.com/models/google/inception-v3/frameworks/TensorFlow2/variations/classification/versions/2\" #@param {type:\"string\"}"
   ]
  },
  {
   "cell_type": "code",
   "execution_count": 90,
   "metadata": {
    "ExecuteTime": {
     "end_time": "2023-11-19T12:50:05.024538200Z",
     "start_time": "2023-11-19T12:50:05.004540200Z"
    }
   },
   "outputs": [],
   "source": [
    "IMAGE_SHAPE = (299, 299)\n",
    "BATCH = 32"
   ]
  },
  {
   "cell_type": "code",
   "execution_count": 91,
   "metadata": {
    "ExecuteTime": {
     "end_time": "2023-11-19T12:50:05.064031300Z",
     "start_time": "2023-11-19T12:50:05.019539200Z"
    }
   },
   "outputs": [],
   "source": [
    "tf.compat.v1.logging.set_verbosity(tf.compat.v1.logging.ERROR)"
   ]
  },
  {
   "cell_type": "code",
   "execution_count": 92,
   "metadata": {
    "ExecuteTime": {
     "end_time": "2023-11-19T12:50:10.674031700Z",
     "start_time": "2023-11-19T12:50:05.034557700Z"
    }
   },
   "outputs": [
    {
     "name": "stdout",
     "output_type": "stream",
     "text": [
      "Found 39209 files belonging to 43 classes.\n",
      "Using 31368 files for training.\n",
      "Found 39209 files belonging to 43 classes.\n",
      "Using 7841 files for validation.\n"
     ]
    }
   ],
   "source": [
    "data_dir = './data/archive/Train/'\n",
    "train_ds = tf.keras.utils.image_dataset_from_directory(\n",
    "  data_dir,\n",
    "  validation_split=0.2,\n",
    "  subset=\"training\",\n",
    "  seed=123,\n",
    "  image_size=IMAGE_SHAPE,\n",
    "  batch_size=BATCH)\n",
    "\n",
    "val_ds = tf.keras.utils.image_dataset_from_directory(\n",
    "  data_dir,\n",
    "  validation_split=0.2,\n",
    "  subset=\"validation\",\n",
    "  seed=123,\n",
    "  image_size=IMAGE_SHAPE,\n",
    "  batch_size=BATCH)"
   ]
  },
  {
   "cell_type": "code",
   "execution_count": 93,
   "metadata": {
    "ExecuteTime": {
     "end_time": "2023-11-19T12:50:10.688030300Z",
     "start_time": "2023-11-19T12:50:10.670030200Z"
    }
   },
   "outputs": [],
   "source": [
    "# train_ds = train_ds.map(lambda x, y: (tf.image.resize(x, IMAGE_SHAPE), y))\n",
    "# val_ds = val_ds.map(lambda x, y: (tf.image.resize(x, IMAGE_SHAPE), y))"
   ]
  },
  {
   "cell_type": "code",
   "execution_count": 94,
   "metadata": {
    "ExecuteTime": {
     "end_time": "2023-11-19T12:50:10.710028200Z",
     "start_time": "2023-11-19T12:50:10.687029600Z"
    }
   },
   "outputs": [],
   "source": [
    "data_augmentation = tf.keras.Sequential([\n",
    "  tf.keras.layers.RandomFlip('horizontal'),\n",
    "  tf.keras.layers.RandomRotation(0.2),\n",
    "])"
   ]
  },
  {
   "cell_type": "code",
   "execution_count": 95,
   "metadata": {
    "ExecuteTime": {
     "end_time": "2023-11-19T12:50:10.725028300Z",
     "start_time": "2023-11-19T12:50:10.701030200Z"
    }
   },
   "outputs": [],
   "source": [
    "rescale = tf.keras.Sequential([\n",
    "  layers.Rescaling(1./255)\n",
    "])"
   ]
  },
  {
   "cell_type": "code",
   "execution_count": 96,
   "metadata": {
    "ExecuteTime": {
     "end_time": "2023-11-19T12:50:10.740028800Z",
     "start_time": "2023-11-19T12:50:10.716030200Z"
    }
   },
   "outputs": [],
   "source": [
    "AUTOTUNE = tf.data.AUTOTUNE\n",
    "train_ds = train_ds.cache().prefetch(buffer_size=AUTOTUNE)\n",
    "val_ds = val_ds.cache().prefetch(buffer_size=AUTOTUNE)"
   ]
  },
  {
   "cell_type": "code",
   "execution_count": 97,
   "metadata": {
    "ExecuteTime": {
     "end_time": "2023-11-19T12:50:12.876517200Z",
     "start_time": "2023-11-19T12:50:10.732029600Z"
    }
   },
   "outputs": [
    {
     "name": "stdout",
     "output_type": "stream",
     "text": [
      "Model: \"model_11\"\n",
      "_________________________________________________________________\n",
      " Layer (type)                Output Shape              Param #   \n",
      "=================================================================\n",
      " input_14 (InputLayer)       [(None, 299, 299, 3)]     0         \n",
      "                                                                 \n",
      " sequential_16 (Sequential)  (None, 299, 299, 3)       0         \n",
      "                                                                 \n",
      " sequential_17 (Sequential)  (None, 299, 299, 3)       0         \n",
      "                                                                 \n",
      " sequential_18 (Sequential)  (None, 1001)              23853833  \n",
      "                                                                 \n",
      " dense_9 (Dense)             (None, 43)                43086     \n",
      "                                                                 \n",
      "=================================================================\n",
      "Total params: 23,896,919\n",
      "Trainable params: 43,086\n",
      "Non-trainable params: 23,853,833\n",
      "_________________________________________________________________\n"
     ]
    }
   ],
   "source": [
    "classifier = tf.keras.Sequential([\n",
    "    hub.KerasLayer(classifier_model, input_shape=IMAGE_SHAPE+(3,), trainable=True, arguments=dict(batch_norm_momentum=0.997))\n",
    "])\n",
    "\n",
    "classifier.trainable = False\n",
    "\n",
    "inputs = keras.Input(shape=(IMAGE_SHAPE + (3,)))\n",
    "x = data_augmentation(inputs)\n",
    "x = rescale(x)\n",
    "\n",
    "x = classifier(x)\n",
    "outputs = layers.Dense(43, activation=\"softmax\")(x)\n",
    "\n",
    "model = keras.Model(inputs, outputs)\n",
    "\n",
    "assert classifier.trainable == False  # All layers in `model` are now frozen\n",
    "assert classifier.layers[0].trainable == False  # `trainable` is propagated recursively\n",
    "\n",
    "model.summary()"
   ]
  },
  {
   "cell_type": "code",
   "execution_count": 98,
   "metadata": {
    "ExecuteTime": {
     "end_time": "2023-11-19T12:50:12.917193800Z",
     "start_time": "2023-11-19T12:50:12.875517Z"
    }
   },
   "outputs": [],
   "source": [
    "tensorboard_logdir = os.path.join(os.getcwd(),'logs','tensorboard') # Let's log Tensorboard data to this folder\n",
    "tensorboard_callback = keras.callbacks.TensorBoard(log_dir=tensorboard_logdir) # Create a Tensorboard \"callback\"\n",
    "early_stopping = EarlyStopping()"
   ]
  },
  {
   "cell_type": "code",
   "execution_count": 99,
   "metadata": {
    "ExecuteTime": {
     "end_time": "2023-11-19T12:50:12.926193800Z",
     "start_time": "2023-11-19T12:50:12.889516700Z"
    }
   },
   "outputs": [],
   "source": [
    "model.compile(\n",
    "  optimizer=tf.keras.optimizers.Adam(learning_rate=0.01),\n",
    "  loss=tf.keras.losses.SparseCategoricalCrossentropy(),\n",
    "  metrics=['accuracy'])"
   ]
  },
  {
   "cell_type": "code",
   "execution_count": 100,
   "metadata": {
    "ExecuteTime": {
     "end_time": "2023-11-19T14:06:50.363830400Z",
     "start_time": "2023-11-19T12:50:12.904516400Z"
    }
   },
   "outputs": [
    {
     "name": "stdout",
     "output_type": "stream",
     "text": [
      "Epoch 1/25\n",
      "981/981 [==============================] - 204s 203ms/step - loss: 3.0965 - accuracy: 0.5539 - val_loss: 2.9138 - val_accuracy: 0.6091\n",
      "Epoch 2/25\n",
      "981/981 [==============================] - 209s 213ms/step - loss: 2.7930 - accuracy: 0.6468 - val_loss: 3.0141 - val_accuracy: 0.6370\n",
      "Epoch 3/25\n",
      "981/981 [==============================] - 195s 198ms/step - loss: 2.7045 - accuracy: 0.6786 - val_loss: 2.9545 - val_accuracy: 0.6676\n",
      "Epoch 4/25\n",
      "981/981 [==============================] - 188s 192ms/step - loss: 2.6910 - accuracy: 0.6954 - val_loss: 3.2086 - val_accuracy: 0.6572\n",
      "Epoch 5/25\n",
      "981/981 [==============================] - 186s 190ms/step - loss: 2.6797 - accuracy: 0.7067 - val_loss: 3.2640 - val_accuracy: 0.6735\n",
      "Epoch 6/25\n",
      "981/981 [==============================] - 181s 185ms/step - loss: 2.6435 - accuracy: 0.7177 - val_loss: 3.5583 - val_accuracy: 0.6557\n",
      "Epoch 7/25\n",
      "981/981 [==============================] - 183s 186ms/step - loss: 2.6275 - accuracy: 0.7253 - val_loss: 3.3921 - val_accuracy: 0.6852\n",
      "Epoch 8/25\n",
      "981/981 [==============================] - 183s 186ms/step - loss: 2.6676 - accuracy: 0.7307 - val_loss: 3.1791 - val_accuracy: 0.7005\n",
      "Epoch 9/25\n",
      "981/981 [==============================] - 182s 185ms/step - loss: 2.5545 - accuracy: 0.7409 - val_loss: 3.0294 - val_accuracy: 0.7143\n",
      "Epoch 10/25\n",
      "981/981 [==============================] - 182s 185ms/step - loss: 2.5852 - accuracy: 0.7413 - val_loss: 3.1609 - val_accuracy: 0.7053\n",
      "Epoch 11/25\n",
      "981/981 [==============================] - 181s 185ms/step - loss: 2.5581 - accuracy: 0.7454 - val_loss: 3.6986 - val_accuracy: 0.6837\n",
      "Epoch 12/25\n",
      "981/981 [==============================] - 182s 185ms/step - loss: 2.5205 - accuracy: 0.7489 - val_loss: 2.9490 - val_accuracy: 0.7296\n",
      "Epoch 13/25\n",
      "981/981 [==============================] - 181s 185ms/step - loss: 2.5434 - accuracy: 0.7540 - val_loss: 3.3731 - val_accuracy: 0.7016\n",
      "Epoch 14/25\n",
      "981/981 [==============================] - 181s 185ms/step - loss: 2.5900 - accuracy: 0.7555 - val_loss: 3.1084 - val_accuracy: 0.7187\n",
      "Epoch 15/25\n",
      "981/981 [==============================] - 181s 184ms/step - loss: 2.5288 - accuracy: 0.7595 - val_loss: 2.8235 - val_accuracy: 0.7443\n",
      "Epoch 16/25\n",
      "981/981 [==============================] - 180s 184ms/step - loss: 2.5881 - accuracy: 0.7550 - val_loss: 3.2235 - val_accuracy: 0.7263\n",
      "Epoch 17/25\n",
      "981/981 [==============================] - 181s 184ms/step - loss: 2.4811 - accuracy: 0.7640 - val_loss: 3.4896 - val_accuracy: 0.7208\n",
      "Epoch 18/25\n",
      "981/981 [==============================] - 181s 185ms/step - loss: 2.4275 - accuracy: 0.7690 - val_loss: 3.0994 - val_accuracy: 0.7370\n",
      "Epoch 19/25\n",
      "981/981 [==============================] - 182s 185ms/step - loss: 2.4528 - accuracy: 0.7688 - val_loss: 2.7035 - val_accuracy: 0.7581\n",
      "Epoch 20/25\n",
      "981/981 [==============================] - 184s 187ms/step - loss: 2.5065 - accuracy: 0.7725 - val_loss: 2.9724 - val_accuracy: 0.7440\n",
      "Epoch 21/25\n",
      "981/981 [==============================] - 178s 182ms/step - loss: 2.4978 - accuracy: 0.7712 - val_loss: 3.0938 - val_accuracy: 0.7349\n",
      "Epoch 22/25\n",
      "981/981 [==============================] - 175s 178ms/step - loss: 2.5293 - accuracy: 0.7751 - val_loss: 2.7749 - val_accuracy: 0.7544\n",
      "Epoch 23/25\n",
      "981/981 [==============================] - 177s 181ms/step - loss: 2.3930 - accuracy: 0.7803 - val_loss: 2.7603 - val_accuracy: 0.7597\n",
      "Epoch 24/25\n",
      "981/981 [==============================] - 181s 184ms/step - loss: 2.4530 - accuracy: 0.7783 - val_loss: 3.1913 - val_accuracy: 0.7393\n",
      "Epoch 25/25\n",
      "981/981 [==============================] - 181s 184ms/step - loss: 2.4488 - accuracy: 0.7798 - val_loss: 3.1117 - val_accuracy: 0.7387\n"
     ]
    }
   ],
   "source": [
    "history = model.fit(train_ds, validation_data=val_ds, callbacks=[tensorboard_callback], epochs=25, batch_size=BATCH)"
   ]
  },
  {
   "cell_type": "code",
   "execution_count": 101,
   "metadata": {
    "ExecuteTime": {
     "end_time": "2023-11-19T14:06:50.495968200Z",
     "start_time": "2023-11-19T14:06:50.411427Z"
    }
   },
   "outputs": [
    {
     "name": "stdout",
     "output_type": "stream",
     "text": [
      "Model: \"model_11\"\n",
      "_________________________________________________________________\n",
      " Layer (type)                Output Shape              Param #   \n",
      "=================================================================\n",
      " input_14 (InputLayer)       [(None, 299, 299, 3)]     0         \n",
      "                                                                 \n",
      " sequential_16 (Sequential)  (None, 299, 299, 3)       0         \n",
      "                                                                 \n",
      " sequential_17 (Sequential)  (None, 299, 299, 3)       0         \n",
      "                                                                 \n",
      " sequential_18 (Sequential)  (None, 1001)              23853833  \n",
      "                                                                 \n",
      " dense_9 (Dense)             (None, 43)                43086     \n",
      "                                                                 \n",
      "=================================================================\n",
      "Total params: 23,896,919\n",
      "Trainable params: 23,862,487\n",
      "Non-trainable params: 34,432\n",
      "_________________________________________________________________\n"
     ]
    }
   ],
   "source": [
    "classifier.trainable = True\n",
    "assert classifier.trainable == True\n",
    "assert classifier.layers[0].trainable == True\n",
    "model.summary()"
   ]
  },
  {
   "cell_type": "code",
   "execution_count": 102,
   "metadata": {
    "ExecuteTime": {
     "end_time": "2023-11-19T14:06:50.577146600Z",
     "start_time": "2023-11-19T14:06:50.493968600Z"
    }
   },
   "outputs": [],
   "source": [
    "model.compile(\n",
    "    optimizer=keras.optimizers.Adam(learning_rate=1e-5),  # Low learning rate\n",
    "    loss=tf.keras.losses.SparseCategoricalCrossentropy(),\n",
    "    metrics=['accuracy'],\n",
    ")"
   ]
  },
  {
   "cell_type": "code",
   "execution_count": null,
   "metadata": {
    "is_executing": true,
    "ExecuteTime": {
     "start_time": "2023-11-19T14:45:30.809613Z"
    }
   },
   "outputs": [
    {
     "name": "stdout",
     "output_type": "stream",
     "text": [
      "Epoch 1/10\n",
      "981/981 [==============================] - 389s 396ms/step - loss: 0.3979 - accuracy: 0.9642 - val_loss: 0.3299 - val_accuracy: 0.9834\n",
      "Epoch 2/10\n",
      "981/981 [==============================] - 398s 406ms/step - loss: 0.3644 - accuracy: 0.9732 - val_loss: 0.3239 - val_accuracy: 0.9869\n",
      "Epoch 3/10\n",
      "981/981 [==============================] - 421s 430ms/step - loss: 0.3404 - accuracy: 0.9809 - val_loss: 0.3275 - val_accuracy: 0.9864\n",
      "Epoch 4/10\n",
      "981/981 [==============================] - 432s 440ms/step - loss: 0.3242 - accuracy: 0.9848 - val_loss: 0.3069 - val_accuracy: 0.9920\n",
      "Epoch 5/10\n",
      "981/981 [==============================] - 397s 405ms/step - loss: 0.3074 - accuracy: 0.9906 - val_loss: 0.2948 - val_accuracy: 0.9936\n",
      "Epoch 7/10\n",
      "981/981 [==============================] - 395s 403ms/step - loss: 0.3019 - accuracy: 0.9922 - val_loss: 0.2896 - val_accuracy: 0.9948\n",
      "Epoch 8/10\n",
      "981/981 [==============================] - 389s 396ms/step - loss: 0.2961 - accuracy: 0.9940 - val_loss: 0.2944 - val_accuracy: 0.9953\n",
      "Epoch 9/10\n",
      "981/981 [==============================] - 398s 406ms/step - loss: 0.2962 - accuracy: 0.9945 - val_loss: 0.2891 - val_accuracy: 0.9960\n",
      "Epoch 10/10\n",
      "981/981 [==============================] - 380s 388ms/step - loss: 0.2940 - accuracy: 0.9948 - val_loss: 0.2891 - val_accuracy: 0.9959\n"
     ]
    }
   ],
   "source": [
    "history = model.fit(train_ds, epochs=10, validation_data=val_ds)"
   ]
  },
  {
   "cell_type": "code",
   "execution_count": 105,
   "outputs": [],
   "source": [
    "export_path = os.path.join(os.getcwd(), 'saved_models', 'german_sign_classifier_model')\n",
    "model.save(export_path)"
   ],
   "metadata": {
    "collapsed": false,
    "ExecuteTime": {
     "end_time": "2023-11-19T15:53:02.718572900Z",
     "start_time": "2023-11-19T15:52:41.277742700Z"
    }
   }
  }
 ],
 "metadata": {
  "kernelspec": {
   "name": "tf",
   "language": "python",
   "display_name": "TensorFlowGPU"
  },
  "language_info": {
   "codemirror_mode": {
    "name": "ipython",
    "version": 3
   },
   "file_extension": ".py",
   "mimetype": "text/x-python",
   "name": "python",
   "nbconvert_exporter": "python",
   "pygments_lexer": "ipython3",
   "version": "3.10.13"
  }
 },
 "nbformat": 4,
 "nbformat_minor": 2
}
