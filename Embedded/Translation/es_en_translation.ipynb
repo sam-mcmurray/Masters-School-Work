{
 "cells": [
  {
   "cell_type": "code",
   "execution_count": 2,
   "metadata": {},
   "outputs": [],
   "source": [
    "import logging\n",
    "import collections\n",
    "import os\n",
    "import pathlib\n",
    "import re\n",
    "import string\n",
    "import sys\n",
    "import tempfile\n",
    "import time\n",
    "\n",
    "import pandas as pd\n",
    "import numpy as np\n",
    "import matplotlib.pyplot as plt\n",
    "import matplotlib.ticker as ticker\n",
    "import pyarrow.parquet as pa\n",
    "\n",
    "import tensorflow as tf\n",
    "import tensorflow.keras as k\n",
    "import einops\n",
    "import tensorflow_text\n",
    "# import tensorflow_datasets as tfds\n",
    "from tensorflow_text.tools.wordpiece_vocab import bert_vocab_from_dataset as bert_vocab"
   ]
  },
  {
   "cell_type": "code",
   "execution_count": 3,
   "metadata": {},
   "outputs": [],
   "source": [
    "tf.get_logger().setLevel('ERROR')"
   ]
  },
  {
   "cell_type": "code",
   "execution_count": 4,
   "metadata": {},
   "outputs": [
    {
     "data": {
      "text/plain": [
       "350000"
      ]
     },
     "execution_count": 4,
     "metadata": {},
     "output_type": "execute_result"
    }
   ],
   "source": [
    "table = pa.read_table('./data/to_spanish.parquet')\n",
    "df = table.to_pandas()\n",
    "df.head()\n",
    "df = df.iloc[:350000,:]\n",
    "len(df)"
   ]
  },
  {
   "cell_type": "code",
   "execution_count": 5,
   "metadata": {},
   "outputs": [
    {
     "data": {
      "text/html": [
       "<div>\n",
       "<style scoped>\n",
       "    .dataframe tbody tr th:only-of-type {\n",
       "        vertical-align: middle;\n",
       "    }\n",
       "\n",
       "    .dataframe tbody tr th {\n",
       "        vertical-align: top;\n",
       "    }\n",
       "\n",
       "    .dataframe thead th {\n",
       "        text-align: right;\n",
       "    }\n",
       "</style>\n",
       "<table border=\"1\" class=\"dataframe\">\n",
       "  <thead>\n",
       "    <tr style=\"text-align: right;\">\n",
       "      <th></th>\n",
       "      <th>translation</th>\n",
       "    </tr>\n",
       "  </thead>\n",
       "  <tbody>\n",
       "    <tr>\n",
       "      <th>0</th>\n",
       "      <td>{'en': 'I don't even remember what the fight w...</td>\n",
       "    </tr>\n",
       "    <tr>\n",
       "      <th>1</th>\n",
       "      <td>{'en': 'Here are the sites of each of those th...</td>\n",
       "    </tr>\n",
       "    <tr>\n",
       "      <th>2</th>\n",
       "      <td>{'en': 'I'm the man who killed Blackbeard.', '...</td>\n",
       "    </tr>\n",
       "    <tr>\n",
       "      <th>3</th>\n",
       "      <td>{'en': 'Don't get smart.', 'es': 'No te hagas ...</td>\n",
       "    </tr>\n",
       "    <tr>\n",
       "      <th>4</th>\n",
       "      <td>{'en': 'Is there an exact moment in the life o...</td>\n",
       "    </tr>\n",
       "  </tbody>\n",
       "</table>\n",
       "</div>"
      ],
      "text/plain": [
       "                                         translation\n",
       "0  {'en': 'I don't even remember what the fight w...\n",
       "1  {'en': 'Here are the sites of each of those th...\n",
       "2  {'en': 'I'm the man who killed Blackbeard.', '...\n",
       "3  {'en': 'Don't get smart.', 'es': 'No te hagas ...\n",
       "4  {'en': 'Is there an exact moment in the life o..."
      ]
     },
     "execution_count": 5,
     "metadata": {},
     "output_type": "execute_result"
    }
   ],
   "source": [
    "table_val = pa.read_table('./data/to_spanish_val.parquet')\n",
    "df_val = table_val.to_pandas()\n",
    "df_val.head()"
   ]
  },
  {
   "cell_type": "code",
   "execution_count": 6,
   "metadata": {},
   "outputs": [],
   "source": [
    "en_train_ds = np.array([row['en'] for row in df['translation']])\n",
    "sp_train_ds = np.array([row['es'] for row in df['translation']])"
   ]
  },
  {
   "cell_type": "code",
   "execution_count": 7,
   "metadata": {},
   "outputs": [],
   "source": [
    "en_val_ds = np.array([row['en'] for row in df_val['translation']])\n",
    "sp_val_ds = np.array([row['es'] for row in df_val['translation']])"
   ]
  },
  {
   "cell_type": "code",
   "execution_count": 8,
   "metadata": {},
   "outputs": [],
   "source": [
    "# def load_data():\n",
    "#   pwd = pathlib.Path.cwd()\n",
    "#   english_train = pathlib.Path(os.path.join(pwd, 'data/en_sp/english.train.txt'))\n",
    "#   spanish_train = pathlib.Path(os.path.join(pwd, 'data/en_sp/spanish.train.txt'))\n",
    "#   english_val = pathlib.Path(os.path.join(pwd, 'data/en_sp/english.val.txt'))\n",
    "#   spanish_val = pathlib.Path(os.path.join(pwd, 'data/en_sp/spanish.val.txt'))\n",
    "  \n",
    "#   en_train_text = english_train.read_text(encoding='utf-8')\n",
    "#   sp_train_text = spanish_train.read_text(encoding='utf-8')\n",
    "#   en_val_text = english_val.read_text(encoding='utf-8')\n",
    "#   sp_val_text = spanish_val.read_text(encoding='utf-8')\n",
    "\n",
    "#   sp_train_lines = sp_train_text.splitlines()\n",
    "#   en_train_lines = en_train_text.splitlines()\n",
    "#   sp_val_lines = sp_val_text.splitlines()\n",
    "#   en_val_lines = en_val_text.splitlines()\n",
    "  \n",
    "  \n",
    "#   sp_train_ds = np.array([line for line in sp_train_lines])\n",
    "#   en_train_ds = np.array([line for line in en_train_lines])\n",
    "#   sp_val_ds = np.array([line for line in sp_val_lines])\n",
    "#   en_val_ds = np.array([line for line in en_val_lines])\n",
    "  \n",
    "\n",
    "#   return sp_train_ds, en_train_ds, sp_val_ds, en_val_ds"
   ]
  },
  {
   "cell_type": "code",
   "execution_count": 9,
   "metadata": {},
   "outputs": [],
   "source": [
    "# sp_train_ds, en_train_ds, sp_val_ds, en_val_ds = load_data()\n"
   ]
  },
  {
   "cell_type": "code",
   "execution_count": 10,
   "metadata": {},
   "outputs": [],
   "source": [
    "BUFFER_SIZE = 8000\n",
    "BATCH_SIZE = 64\n",
    "\n",
    "train_raw = (\n",
    "    tf.data.Dataset\n",
    "    .from_tensor_slices((sp_train_ds, en_train_ds))\n",
    "    .shuffle(BUFFER_SIZE)\n",
    "    .batch(BATCH_SIZE))\n",
    "val_raw = (\n",
    "    tf.data.Dataset\n",
    "    .from_tensor_slices((sp_val_ds, en_val_ds))\n",
    "    .shuffle(BUFFER_SIZE)\n",
    "    .batch(BATCH_SIZE))"
   ]
  },
  {
   "cell_type": "code",
   "execution_count": 11,
   "metadata": {},
   "outputs": [
    {
     "name": "stdout",
     "output_type": "stream",
     "text": [
      "tf.Tensor(\n",
      "[b'Los miembros del Consejo tomaron nota de la decisi\\xc3\\xb3n que figuraba en su carta.'\n",
      " b'Pasa.' b'- S\\xc3\\xad. \\xc2\\xa1Mira esto!' b'- \\xc2\\xa1Lo tengo!'\n",
      " b'Porque pensamos que pedir tanto ...'], shape=(5,), dtype=string)\n",
      "\n",
      "tf.Tensor(\n",
      "[b'They take note of the decision contained in your letter.'\n",
      " b'Come on in.' b'Yeah, look at this.' b'- I got it!'\n",
      " b\"Because we thought we'd both ask him.\"], shape=(5,), dtype=string)\n"
     ]
    }
   ],
   "source": [
    "for example_context_strings, example_target_strings in train_raw.take(1):\n",
    "  print(example_context_strings[:5])\n",
    "  print()\n",
    "  print(example_target_strings[:5])\n",
    "  break"
   ]
  },
  {
   "cell_type": "code",
   "execution_count": 12,
   "metadata": {},
   "outputs": [
    {
     "name": "stdout",
     "output_type": "stream",
     "text": [
      "b'\\xc2\\xbfTodav\\xc3\\xada est\\xc3\\xa1 en casa?'\n",
      "b'\\xc2\\xbfTodavi\\xcc\\x81a esta\\xcc\\x81 en casa?'\n"
     ]
    }
   ],
   "source": [
    "example_text = tf.constant('¿Todavía está en casa?')\n",
    "\n",
    "print(example_text.numpy())\n",
    "print(tensorflow_text.normalize_utf8(example_text, 'NFKD').numpy())"
   ]
  },
  {
   "cell_type": "code",
   "execution_count": 13,
   "metadata": {},
   "outputs": [],
   "source": [
    "def tf_lower_and_split_punct(text):\n",
    "  # Split accented characters.\n",
    "  text = tensorflow_text.normalize_utf8(text, 'NFKD')\n",
    "  text = tf.strings.lower(text)\n",
    "  # Keep space, a to z, and select punctuation.\n",
    "  text = tf.strings.regex_replace(text, '[^ a-z.?!,¿]', '')\n",
    "  # Add spaces around punctuation.\n",
    "  text = tf.strings.regex_replace(text, '[.?!,¿]', r' \\0 ')\n",
    "  # Strip whitespace.\n",
    "  text = tf.strings.strip(text)\n",
    "\n",
    "  text = tf.strings.join(['[START]', text, '[END]'], separator=' ')\n",
    "  return text"
   ]
  },
  {
   "cell_type": "code",
   "execution_count": 14,
   "metadata": {},
   "outputs": [
    {
     "name": "stdout",
     "output_type": "stream",
     "text": [
      "¿Todavía está en casa?\n",
      "[START] ¿ todavia esta en casa ? [END]\n"
     ]
    }
   ],
   "source": [
    "print(example_text.numpy().decode())\n",
    "print(tf_lower_and_split_punct(example_text).numpy().decode())"
   ]
  },
  {
   "cell_type": "code",
   "execution_count": 15,
   "metadata": {},
   "outputs": [],
   "source": [
    "max_vocab_size = 8000\n",
    "\n",
    "spanish_text_processor = tf.keras.layers.TextVectorization(\n",
    "    standardize=tf_lower_and_split_punct,\n",
    "    max_tokens=max_vocab_size,\n",
    "    ragged=True)"
   ]
  },
  {
   "cell_type": "code",
   "execution_count": 16,
   "metadata": {},
   "outputs": [],
   "source": [
    "max_vocab_size = 8000\n",
    "\n",
    "english_text_processor = tf.keras.layers.TextVectorization(\n",
    "    standardize=tf_lower_and_split_punct,\n",
    "    max_tokens=max_vocab_size,\n",
    "    ragged=True)"
   ]
  },
  {
   "cell_type": "code",
   "execution_count": 17,
   "metadata": {},
   "outputs": [
    {
     "data": {
      "text/plain": [
       "['', '[UNK]', '[START]', '[END]', '.', 'de', ',', 'la', 'que', 'el']"
      ]
     },
     "execution_count": 17,
     "metadata": {},
     "output_type": "execute_result"
    }
   ],
   "source": [
    "spanish_text_processor.adapt(train_raw.map(lambda context, target: context))\n",
    "\n",
    "# Here are the first 10 words from the vocabulary:\n",
    "spanish_text_processor.get_vocabulary()[:10]"
   ]
  },
  {
   "cell_type": "code",
   "execution_count": 18,
   "metadata": {},
   "outputs": [
    {
     "data": {
      "text/plain": [
       "['', '[UNK]', '[START]', '[END]', '.', 'the', ',', 'of', 'to', 'and']"
      ]
     },
     "execution_count": 18,
     "metadata": {},
     "output_type": "execute_result"
    }
   ],
   "source": [
    "english_text_processor.adapt(train_raw.map(lambda context, target: target))\n",
    "\n",
    "# Here are the first 10 words from the vocabulary:\n",
    "english_text_processor.get_vocabulary()[:10]"
   ]
  },
  {
   "cell_type": "code",
   "execution_count": 19,
   "metadata": {},
   "outputs": [
    {
     "data": {
      "text/plain": [
       "<tf.RaggedTensor [[2, 13, 132, 18, 98, 5673, 617, 5, 7, 262, 8, 1, 10, 28, 591, 4, 3],\n",
       " [2, 338, 4, 3], [2, 29, 4, 267, 53, 27, 3]]>"
      ]
     },
     "execution_count": 19,
     "metadata": {},
     "output_type": "execute_result"
    }
   ],
   "source": [
    "example_tokens = spanish_text_processor(example_context_strings)\n",
    "example_tokens[:3, :]"
   ]
  },
  {
   "cell_type": "code",
   "execution_count": 20,
   "metadata": {},
   "outputs": [
    {
     "data": {
      "text/plain": [
       "'[START] los miembros del consejo tomaron nota de la decision que [UNK] en su carta . [END]'"
      ]
     },
     "execution_count": 20,
     "metadata": {},
     "output_type": "execute_result"
    }
   ],
   "source": [
    "context_vocab = np.array(spanish_text_processor.get_vocabulary())\n",
    "tokens = context_vocab[example_tokens[0].numpy()]\n",
    "' '.join(tokens)"
   ]
  },
  {
   "cell_type": "code",
   "execution_count": 21,
   "metadata": {},
   "outputs": [
    {
     "data": {
      "text/plain": [
       "Text(0.5, 1.0, 'Mask')"
      ]
     },
     "execution_count": 21,
     "metadata": {},
     "output_type": "execute_result"
    },
    {
     "data": {
      "image/png": "[encoded data removed]",
      "text/plain": [
       "<Figure size 640x480 with 2 Axes>"
      ]
     },
     "metadata": {},
     "output_type": "display_data"
    }
   ],
   "source": [
    "plt.subplot(1, 2, 1)\n",
    "plt.pcolormesh(example_tokens.to_tensor())\n",
    "plt.title('Token IDs')\n",
    "\n",
    "plt.subplot(1, 2, 2)\n",
    "plt.pcolormesh(example_tokens.to_tensor() != 0)\n",
    "plt.title('Mask')"
   ]
  },
  {
   "cell_type": "code",
   "execution_count": 22,
   "metadata": {},
   "outputs": [],
   "source": [
    "def process_text(context, target):\n",
    "  context = spanish_text_processor(context).to_tensor()\n",
    "  target = english_text_processor(target)\n",
    "  targ_in = target[:,:-1].to_tensor()\n",
    "  targ_out = target[:,1:].to_tensor()\n",
    "  return (context, targ_in), targ_out\n",
    "\n",
    "\n",
    "train_ds = train_raw.map(process_text, tf.data.AUTOTUNE)\n",
    "val_ds = val_raw.map(process_text, tf.data.AUTOTUNE)"
   ]
  },
  {
   "cell_type": "code",
   "execution_count": 23,
   "metadata": {},
   "outputs": [
    {
     "name": "stdout",
     "output_type": "stream",
     "text": [
      "[  2  16  92 144  15   3   0   0   0   0]\n",
      "\n",
      "[ 2 72 24 12 14  0  0  0  0  0]\n",
      "[72 24 12 14  3  0  0  0  0  0]\n"
     ]
    }
   ],
   "source": [
    "\n",
    "for (ex_context_tok, ex_tar_in), ex_tar_out in train_ds.take(1):\n",
    "  print(ex_context_tok[0, :10].numpy()) \n",
    "  print()\n",
    "  print(ex_tar_in[0, :10].numpy()) \n",
    "  print(ex_tar_out[0, :10].numpy())"
   ]
  },
  {
   "cell_type": "code",
   "execution_count": 24,
   "metadata": {},
   "outputs": [],
   "source": [
    "UNITS = 256"
   ]
  },
  {
   "cell_type": "code",
   "execution_count": 25,
   "metadata": {},
   "outputs": [],
   "source": [
    "class Encoder(tf.keras.layers.Layer):\n",
    "  def __init__(self, text_processor, units):\n",
    "    super(Encoder, self).__init__()\n",
    "    self.text_processor = text_processor\n",
    "    self.vocab_size = text_processor.vocabulary_size()\n",
    "    self.units = units\n",
    "\n",
    "    # The embedding layer converts tokens to vectors\n",
    "    self.embedding = tf.keras.layers.Embedding(self.vocab_size, units,\n",
    "                                               mask_zero=True)\n",
    "\n",
    "    # The RNN layer processes those vectors sequentially.\n",
    "    self.rnn = tf.keras.layers.Bidirectional(\n",
    "        merge_mode='sum',\n",
    "        layer=tf.keras.layers.GRU(units,\n",
    "                            # Return the sequence and state\n",
    "                            return_sequences=True,\n",
    "                            recurrent_initializer='glorot_uniform'))\n",
    "\n",
    "  def call(self, x):\n",
    "    # shape_checker = ShapeChecker()\n",
    "    # shape_checker.shapecheck(x, 'batch s')\n",
    "\n",
    "    # 2. The embedding layer looks up the embedding vector for each token.\n",
    "    x = self.embedding(x)\n",
    "    # shape_checker(x, 'batch s units')\n",
    "\n",
    "    # 3. The GRU processes the sequence of embeddings.\n",
    "    x = self.rnn(x)\n",
    "    # shape_checker(x, 'batch s units')\n",
    "\n",
    "    # 4. Returns the new sequence of embeddings.\n",
    "    return x\n",
    "\n",
    "  def convert_input(self, texts):\n",
    "    texts = tf.convert_to_tensor(texts)\n",
    "    if len(texts.shape) == 0:\n",
    "      texts = tf.convert_to_tensor(texts)[tf.newaxis]\n",
    "    context = self.text_processor(texts).to_tensor()\n",
    "    context = self(context)\n",
    "    return context"
   ]
  },
  {
   "cell_type": "code",
   "execution_count": 26,
   "metadata": {},
   "outputs": [
    {
     "name": "stdout",
     "output_type": "stream",
     "text": [
      "Context tokens, shape (batch, s): (64, 154)\n",
      "Encoder output, shape (batch, s, units): (64, 154, 256)\n"
     ]
    }
   ],
   "source": [
    "# Encode the input sequence.\n",
    "encoder = Encoder(spanish_text_processor, UNITS)\n",
    "ex_context = encoder(ex_context_tok)\n",
    "\n",
    "print(f'Context tokens, shape (batch, s): {ex_context_tok.shape}')\n",
    "print(f'Encoder output, shape (batch, s, units): {ex_context.shape}')"
   ]
  },
  {
   "cell_type": "code",
   "execution_count": 27,
   "metadata": {},
   "outputs": [],
   "source": [
    "class CrossAttention(tf.keras.layers.Layer):\n",
    "  def __init__(self, units, **kwargs):\n",
    "    super().__init__()\n",
    "    self.mha = tf.keras.layers.MultiHeadAttention(key_dim=units, num_heads=1, **kwargs)\n",
    "    self.layernorm = tf.keras.layers.LayerNormalization()\n",
    "    self.add = tf.keras.layers.Add()\n",
    "\n",
    "  def call(self, x, context):\n",
    "    # shape_checker = ShapeChecker()\n",
    "\n",
    "    # shape_checker(x, 'batch t units')\n",
    "    # shape_checker(context, 'batch s units')\n",
    "\n",
    "    attn_output, attn_scores = self.mha(\n",
    "        query=x,\n",
    "        value=context,\n",
    "        return_attention_scores=True)\n",
    "\n",
    "    # shape_checker(x, 'batch t units')\n",
    "    # shape_checker(attn_scores, 'batch heads t s')\n",
    "\n",
    "    # Cache the attention scores for plotting later.\n",
    "    attn_scores = tf.reduce_mean(attn_scores, axis=1)\n",
    "    # shape_checker(attn_scores, 'batch t s')\n",
    "    self.last_attention_weights = attn_scores\n",
    "\n",
    "    x = self.add([x, attn_output])\n",
    "    x = self.layernorm(x)\n",
    "\n",
    "    return x"
   ]
  },
  {
   "cell_type": "code",
   "execution_count": 28,
   "metadata": {},
   "outputs": [
    {
     "name": "stdout",
     "output_type": "stream",
     "text": [
      "Context sequence, shape (batch, s, units): (64, 154, 256)\n",
      "Target sequence, shape (batch, t, units): (64, 115, 256)\n",
      "Attention result, shape (batch, t, units): (64, 115, 256)\n",
      "Attention weights, shape (batch, t, s):    (64, 115, 154)\n"
     ]
    }
   ],
   "source": [
    "attention_layer = CrossAttention(UNITS)\n",
    "\n",
    "# Attend to the encoded tokens\n",
    "embed = tf.keras.layers.Embedding(english_text_processor.vocabulary_size(),\n",
    "                                  output_dim=UNITS, mask_zero=True)\n",
    "ex_tar_embed = embed(ex_tar_in)\n",
    "\n",
    "result = attention_layer(ex_tar_embed, ex_context)\n",
    "\n",
    "print(f'Context sequence, shape (batch, s, units): {ex_context.shape}')\n",
    "print(f'Target sequence, shape (batch, t, units): {ex_tar_embed.shape}')\n",
    "print(f'Attention result, shape (batch, t, units): {result.shape}')\n",
    "print(f'Attention weights, shape (batch, t, s):    {attention_layer.last_attention_weights.shape}')"
   ]
  },
  {
   "cell_type": "code",
   "execution_count": 29,
   "metadata": {},
   "outputs": [
    {
     "data": {
      "text/plain": [
       "array([1.        , 1.        , 0.99999994, 1.        , 1.        ,\n",
       "       0.9999999 , 0.9999999 , 0.9999999 , 0.9999999 , 0.9999999 ,\n",
       "       0.9999999 , 0.9999999 , 0.9999999 , 0.9999999 , 0.9999999 ,\n",
       "       0.9999999 , 0.9999999 , 0.9999999 , 0.9999999 , 0.9999999 ,\n",
       "       0.9999999 , 0.9999999 , 0.9999999 , 0.9999999 , 0.9999999 ,\n",
       "       0.9999999 , 0.9999999 , 0.9999999 , 0.9999999 , 0.9999999 ,\n",
       "       0.9999999 , 0.9999999 , 0.9999999 , 0.9999999 , 0.9999999 ,\n",
       "       0.9999999 , 0.9999999 , 0.9999999 , 0.9999999 , 0.9999999 ,\n",
       "       0.9999999 , 0.9999999 , 0.9999999 , 0.9999999 , 0.9999999 ,\n",
       "       0.9999999 , 0.9999999 , 0.9999999 , 0.9999999 , 0.9999999 ,\n",
       "       0.9999999 , 0.9999999 , 0.9999999 , 0.9999999 , 0.9999999 ,\n",
       "       0.9999999 , 0.9999999 , 0.9999999 , 0.9999999 , 0.9999999 ,\n",
       "       0.9999999 , 0.9999999 , 0.9999999 , 0.9999999 , 0.9999999 ,\n",
       "       0.9999999 , 0.9999999 , 0.9999999 , 0.9999999 , 0.9999999 ,\n",
       "       0.9999999 , 0.9999999 , 0.9999999 , 0.9999999 , 0.9999999 ,\n",
       "       0.9999999 , 0.9999999 , 0.9999999 , 0.9999999 , 0.9999999 ,\n",
       "       0.9999999 , 0.9999999 , 0.9999999 , 0.9999999 , 0.9999999 ,\n",
       "       0.9999999 , 0.9999999 , 0.9999999 , 0.9999999 , 0.9999999 ,\n",
       "       0.9999999 , 0.9999999 , 0.9999999 , 0.9999999 , 0.9999999 ,\n",
       "       0.9999999 , 0.9999999 , 0.9999999 , 0.9999999 , 0.9999999 ,\n",
       "       0.9999999 , 0.9999999 , 0.9999999 , 0.9999999 , 0.9999999 ,\n",
       "       0.9999999 , 0.9999999 , 0.9999999 , 0.9999999 , 0.9999999 ,\n",
       "       0.9999999 , 0.9999999 , 0.9999999 , 0.9999999 , 0.9999999 ],\n",
       "      dtype=float32)"
      ]
     },
     "execution_count": 29,
     "metadata": {},
     "output_type": "execute_result"
    }
   ],
   "source": [
    "attention_layer.last_attention_weights[0].numpy().sum(axis=-1)"
   ]
  },
  {
   "cell_type": "code",
   "execution_count": 30,
   "metadata": {},
   "outputs": [
    {
     "data": {
      "image/png": "[encoded data removed]",
      "text/plain": [
       "<Figure size 640x480 with 2 Axes>"
      ]
     },
     "metadata": {},
     "output_type": "display_data"
    }
   ],
   "source": [
    "attention_weights = attention_layer.last_attention_weights\n",
    "mask=(ex_context_tok != 0).numpy()\n",
    "\n",
    "plt.subplot(1, 2, 1)\n",
    "plt.pcolormesh(mask*attention_weights[:, 0, :])\n",
    "plt.title('Attention weights')\n",
    "\n",
    "plt.subplot(1, 2, 2)\n",
    "plt.pcolormesh(mask)\n",
    "plt.title('Mask');"
   ]
  },
  {
   "cell_type": "code",
   "execution_count": 31,
   "metadata": {},
   "outputs": [],
   "source": [
    "class Decoder(tf.keras.layers.Layer):\n",
    "  @classmethod\n",
    "  def add_method(cls, fun):\n",
    "    setattr(cls, fun.__name__, fun)\n",
    "    return fun\n",
    "\n",
    "  def __init__(self, text_processor, units):\n",
    "    super(Decoder, self).__init__()\n",
    "    self.text_processor = text_processor\n",
    "    self.vocab_size = text_processor.vocabulary_size()\n",
    "    self.word_to_id = tf.keras.layers.StringLookup(\n",
    "        vocabulary=text_processor.get_vocabulary(),\n",
    "        mask_token='', oov_token='[UNK]')\n",
    "    self.id_to_word = tf.keras.layers.StringLookup(\n",
    "        vocabulary=text_processor.get_vocabulary(),\n",
    "        mask_token='', oov_token='[UNK]',\n",
    "        invert=True)\n",
    "    self.start_token = self.word_to_id('[START]')\n",
    "    self.end_token = self.word_to_id('[END]')\n",
    "\n",
    "    self.units = units\n",
    "\n",
    "\n",
    "    # 1. The embedding layer converts token IDs to vectors\n",
    "    self.embedding = tf.keras.layers.Embedding(self.vocab_size,\n",
    "                                               units, mask_zero=True)\n",
    "\n",
    "    # 2. The RNN keeps track of what's been generated so far.\n",
    "    self.rnn = tf.keras.layers.GRU(units,\n",
    "                                   return_sequences=True,\n",
    "                                   return_state=True,\n",
    "                                   recurrent_initializer='glorot_uniform')\n",
    "\n",
    "    # 3. The RNN output will be the query for the attention layer.\n",
    "    self.attention = CrossAttention(units)\n",
    "\n",
    "    # 4. This fully connected layer produces the logits for each\n",
    "    # output token.\n",
    "    self.output_layer = tf.keras.layers.Dense(self.vocab_size)"
   ]
  },
  {
   "cell_type": "code",
   "execution_count": 32,
   "metadata": {},
   "outputs": [],
   "source": [
    "@Decoder.add_method\n",
    "def call(self,\n",
    "         context, x,\n",
    "         state=None,\n",
    "         return_state=False):  \n",
    "  # shape_checker = ShapeChecker()\n",
    "  # shape_checker(x, 'batch t')\n",
    "  # shape_checker(context, 'batch s units')\n",
    "\n",
    "  # 1. Lookup the embeddings\n",
    "  x = self.embedding(x)\n",
    "  # shape_checker(x, 'batch t units')\n",
    "\n",
    "  # 2. Process the target sequence.\n",
    "  x, state = self.rnn(x, initial_state=state)\n",
    "  # shape_checker(x, 'batch t units')\n",
    "\n",
    "  # 3. Use the RNN output as the query for the attention over the context.\n",
    "  x = self.attention(x, context)\n",
    "  self.last_attention_weights = self.attention.last_attention_weights\n",
    "  # shape_checker(x, 'batch t units')\n",
    "  # shape_checker(self.last_attention_weights, 'batch t s')\n",
    "\n",
    "  # Step 4. Generate logit predictions for the next token.\n",
    "  logits = self.output_layer(x)\n",
    "  # shape_checker(logits, 'batch t target_vocab_size')\n",
    "\n",
    "  if return_state:\n",
    "    return logits, state\n",
    "  else:\n",
    "    return logits"
   ]
  },
  {
   "cell_type": "code",
   "execution_count": 33,
   "metadata": {},
   "outputs": [],
   "source": [
    "decoder = Decoder(english_text_processor, UNITS)"
   ]
  },
  {
   "cell_type": "code",
   "execution_count": 34,
   "metadata": {},
   "outputs": [
    {
     "name": "stdout",
     "output_type": "stream",
     "text": [
      "encoder output shape: (batch, s, units) (64, 154, 256)\n",
      "input target tokens shape: (batch, t) (64, 115)\n",
      "logits shape shape: (batch, target_vocabulary_size) (64, 115, 8000)\n"
     ]
    }
   ],
   "source": [
    "logits = decoder(ex_context, ex_tar_in)\n",
    "\n",
    "print(f'encoder output shape: (batch, s, units) {ex_context.shape}')\n",
    "print(f'input target tokens shape: (batch, t) {ex_tar_in.shape}')\n",
    "print(f'logits shape shape: (batch, target_vocabulary_size) {logits.shape}')"
   ]
  },
  {
   "cell_type": "code",
   "execution_count": 35,
   "metadata": {},
   "outputs": [],
   "source": [
    "@Decoder.add_method\n",
    "def get_initial_state(self, context):\n",
    "  batch_size = tf.shape(context)[0]\n",
    "  start_tokens = tf.fill([batch_size, 1], self.start_token)\n",
    "  done = tf.zeros([batch_size, 1], dtype=tf.bool)\n",
    "  embedded = self.embedding(start_tokens)\n",
    "  return start_tokens, done, self.rnn.get_initial_state(embedded)[0]"
   ]
  },
  {
   "cell_type": "code",
   "execution_count": 36,
   "metadata": {},
   "outputs": [],
   "source": [
    "@Decoder.add_method\n",
    "def tokens_to_text(self, tokens):\n",
    "  words = self.id_to_word(tokens)\n",
    "  result = tf.strings.reduce_join(words, axis=-1, separator=' ')\n",
    "  result = tf.strings.regex_replace(result, '^ *\\[START\\] *', '')\n",
    "  result = tf.strings.regex_replace(result, ' *\\[END\\] *$', '')\n",
    "  return result"
   ]
  },
  {
   "cell_type": "code",
   "execution_count": 37,
   "metadata": {},
   "outputs": [],
   "source": [
    "@Decoder.add_method\n",
    "def get_next_token(self, context, next_token, done, state, temperature = 0.0):\n",
    "  logits, state = self(\n",
    "    context, next_token,\n",
    "    state = state,\n",
    "    return_state=True) \n",
    "\n",
    "  if temperature == 0.0:\n",
    "    next_token = tf.argmax(logits, axis=-1)\n",
    "  else:\n",
    "    logits = logits[:, -1, :]/temperature\n",
    "    next_token = tf.random.categorical(logits, num_samples=1)\n",
    "\n",
    "  # If a sequence produces an `end_token`, set it `done`\n",
    "  done = done | (next_token == self.end_token)\n",
    "  # Once a sequence is done it only produces 0-padding.\n",
    "  next_token = tf.where(done, tf.constant(0, dtype=tf.int64), next_token)\n",
    "\n",
    "  return next_token, done, state"
   ]
  },
  {
   "cell_type": "code",
   "execution_count": 38,
   "metadata": {},
   "outputs": [
    {
     "data": {
      "text/plain": [
       "array([b'hm smells shut tender meanwhile tie agendas tries unto houses',\n",
       "       b'holidays congratulations politicians april mirror impact financed introducing analyse box',\n",
       "       b'category plate kissed welcome shouting television charles reserved underwear on'],\n",
       "      dtype=object)"
      ]
     },
     "execution_count": 38,
     "metadata": {},
     "output_type": "execute_result"
    }
   ],
   "source": [
    "# Setup the loop variables.\n",
    "next_token, done, state = decoder.get_initial_state(ex_context)\n",
    "tokens = []\n",
    "\n",
    "for n in range(10):\n",
    "  # Run one step.\n",
    "  next_token, done, state = decoder.get_next_token(\n",
    "      ex_context, next_token, done, state, temperature=1.0)\n",
    "  # Add the token to the output.\n",
    "  tokens.append(next_token)\n",
    "\n",
    "# Stack all the tokens together.\n",
    "tokens = tf.concat(tokens, axis=-1) # (batch, t)\n",
    "\n",
    "# Convert the tokens back to a a string\n",
    "result = decoder.tokens_to_text(tokens)\n",
    "result[:3].numpy()"
   ]
  },
  {
   "cell_type": "code",
   "execution_count": 39,
   "metadata": {},
   "outputs": [],
   "source": [
    "class Translator(tf.keras.Model):\n",
    "  @classmethod\n",
    "  def add_method(cls, fun):\n",
    "    setattr(cls, fun.__name__, fun)\n",
    "    return fun\n",
    "\n",
    "  def __init__(self, units,\n",
    "               context_text_processor,\n",
    "               target_text_processor):\n",
    "    super().__init__()\n",
    "    # Build the encoder and decoder\n",
    "    encoder = Encoder(context_text_processor, units)\n",
    "    decoder = Decoder(target_text_processor, units)\n",
    "\n",
    "    self.encoder = encoder\n",
    "    self.decoder = decoder\n",
    "\n",
    "  def call(self, inputs):\n",
    "    context, x = inputs\n",
    "    context = self.encoder(context)\n",
    "    logits = self.decoder(context, x)\n",
    "\n",
    "    #TODO(b/250038731): remove this\n",
    "    try:\n",
    "      # Delete the keras mask, so keras doesn't scale the loss+accuracy. \n",
    "      del logits._keras_mask\n",
    "    except AttributeError:\n",
    "      pass\n",
    "\n",
    "    return logits"
   ]
  },
  {
   "cell_type": "code",
   "execution_count": 62,
   "metadata": {},
   "outputs": [
    {
     "name": "stdout",
     "output_type": "stream",
     "text": [
      "Context tokens, shape: (batch, s, units) (64, 154)\n",
      "Target tokens, shape: (batch, t) (64, 115)\n",
      "logits, shape: (batch, t, target_vocabulary_size) (64, 115, 8000)\n"
     ]
    }
   ],
   "source": [
    "model = Translator(UNITS, spanish_text_processor, english_text_processor)\n",
    "\n",
    "logits = model((ex_context_tok, ex_tar_in))\n",
    "\n",
    "print(f'Context tokens, shape: (batch, s, units) {ex_context_tok.shape}')\n",
    "print(f'Target tokens, shape: (batch, t) {ex_tar_in.shape}')\n",
    "print(f'logits, shape: (batch, t, target_vocabulary_size) {logits.shape}')"
   ]
  },
  {
   "cell_type": "code",
   "execution_count": 63,
   "metadata": {},
   "outputs": [],
   "source": [
    "def masked_loss(y_true, y_pred):\n",
    "    # Calculate the loss for each item in the batch.\n",
    "    loss_fn = tf.keras.losses.SparseCategoricalCrossentropy(\n",
    "        from_logits=True, reduction='none')\n",
    "    loss = loss_fn(y_true, y_pred)\n",
    "\n",
    "    # Mask off the losses on padding.\n",
    "    mask = tf.cast(y_true != 0, loss.dtype)\n",
    "    loss *= mask\n",
    "\n",
    "    # Return the total.\n",
    "    return tf.reduce_sum(loss)/tf.reduce_sum(mask)"
   ]
  },
  {
   "cell_type": "code",
   "execution_count": 64,
   "metadata": {},
   "outputs": [],
   "source": [
    "def masked_acc(y_true, y_pred):\n",
    "    # Calculate the loss for each item in the batch.\n",
    "    y_pred = tf.argmax(y_pred, axis=-1)\n",
    "    y_pred = tf.cast(y_pred, y_true.dtype)\n",
    "\n",
    "    match = tf.cast(y_true == y_pred, tf.float32)\n",
    "    mask = tf.cast(y_true != 0, tf.float32)\n",
    "\n",
    "    return tf.reduce_sum(match)/tf.reduce_sum(mask)"
   ]
  },
  {
   "cell_type": "code",
   "execution_count": 65,
   "metadata": {},
   "outputs": [],
   "source": [
    "model.compile(optimizer='adam',\n",
    "              loss=masked_loss, \n",
    "              metrics=[masked_acc, masked_loss])"
   ]
  },
  {
   "cell_type": "code",
   "execution_count": 66,
   "metadata": {},
   "outputs": [
    {
     "data": {
      "text/plain": [
       "{'expected_loss': 8.987197, 'expected_acc': 0.000125}"
      ]
     },
     "execution_count": 66,
     "metadata": {},
     "output_type": "execute_result"
    }
   ],
   "source": [
    "vocab_size = 1.0 * english_text_processor.vocabulary_size()\n",
    "\n",
    "{\"expected_loss\": tf.math.log(vocab_size).numpy(),\n",
    " \"expected_acc\": 1/vocab_size}"
   ]
  },
  {
   "cell_type": "code",
   "execution_count": 67,
   "metadata": {},
   "outputs": [
    {
     "name": "stdout",
     "output_type": "stream",
     "text": [
      "20/20 [==============================] - 5s 34ms/step - loss: 8.9914 - masked_acc: 9.8411e-05 - masked_loss: 8.9914\n"
     ]
    },
    {
     "data": {
      "text/plain": [
       "{'loss': 8.991401672363281,\n",
       " 'masked_acc': 9.841083374340087e-05,\n",
       " 'masked_loss': 8.991401672363281}"
      ]
     },
     "execution_count": 67,
     "metadata": {},
     "output_type": "execute_result"
    }
   ],
   "source": [
    "model.evaluate(val_ds, steps=20, return_dict=True)"
   ]
  },
  {
   "cell_type": "code",
   "execution_count": 68,
   "metadata": {},
   "outputs": [
    {
     "name": "stdout",
     "output_type": "stream",
     "text": [
      "Epoch 1/200\n",
      "300/300 [==============================] - 28s 69ms/step - loss: 5.1861 - masked_acc: 0.2256 - masked_loss: 5.1861 - val_loss: 4.6830 - val_masked_acc: 0.2738 - val_masked_loss: 4.6830\n",
      "Epoch 2/200\n",
      "300/300 [==============================] - 21s 69ms/step - loss: 4.3254 - masked_acc: 0.3209 - masked_loss: 4.3254 - val_loss: 4.2153 - val_masked_acc: 0.3354 - val_masked_loss: 4.2153\n",
      "Epoch 3/200\n",
      "300/300 [==============================] - 20s 67ms/step - loss: 3.8708 - masked_acc: 0.3773 - masked_loss: 3.8708 - val_loss: 3.8309 - val_masked_acc: 0.3784 - val_masked_loss: 3.8309\n",
      "Epoch 4/200\n",
      "300/300 [==============================] - 20s 68ms/step - loss: 3.5715 - masked_acc: 0.4158 - masked_loss: 3.5715 - val_loss: 3.5574 - val_masked_acc: 0.4078 - val_masked_loss: 3.5574\n",
      "Epoch 5/200\n",
      "300/300 [==============================] - 20s 68ms/step - loss: 3.3566 - masked_acc: 0.4414 - masked_loss: 3.3566 - val_loss: 3.3910 - val_masked_acc: 0.4292 - val_masked_loss: 3.3910\n",
      "Epoch 6/200\n",
      "300/300 [==============================] - 20s 68ms/step - loss: 3.1827 - masked_acc: 0.4613 - masked_loss: 3.1827 - val_loss: 3.2533 - val_masked_acc: 0.4456 - val_masked_loss: 3.2533\n",
      "Epoch 7/200\n",
      "300/300 [==============================] - 20s 67ms/step - loss: 3.0492 - masked_acc: 0.4773 - masked_loss: 3.0492 - val_loss: 3.0922 - val_masked_acc: 0.4625 - val_masked_loss: 3.0922\n",
      "Epoch 8/200\n",
      "300/300 [==============================] - 20s 68ms/step - loss: 2.9754 - masked_acc: 0.4850 - masked_loss: 2.9754 - val_loss: 3.0215 - val_masked_acc: 0.4749 - val_masked_loss: 3.0215\n",
      "Epoch 9/200\n",
      "300/300 [==============================] - 21s 69ms/step - loss: 2.8999 - masked_acc: 0.4938 - masked_loss: 2.8999 - val_loss: 2.9667 - val_masked_acc: 0.4784 - val_masked_loss: 2.9667\n",
      "Epoch 10/200\n",
      "300/300 [==============================] - 21s 69ms/step - loss: 2.8456 - masked_acc: 0.5006 - masked_loss: 2.8456 - val_loss: 2.9263 - val_masked_acc: 0.4827 - val_masked_loss: 2.9263\n",
      "Epoch 11/200\n",
      "300/300 [==============================] - 21s 68ms/step - loss: 2.7756 - masked_acc: 0.5089 - masked_loss: 2.7756 - val_loss: 2.8502 - val_masked_acc: 0.4908 - val_masked_loss: 2.8502\n",
      "Epoch 12/200\n",
      "300/300 [==============================] - 20s 68ms/step - loss: 2.7503 - masked_acc: 0.5123 - masked_loss: 2.7503 - val_loss: 2.8194 - val_masked_acc: 0.4966 - val_masked_loss: 2.8194\n",
      "Epoch 13/200\n",
      "300/300 [==============================] - 20s 67ms/step - loss: 2.7009 - masked_acc: 0.5162 - masked_loss: 2.7009 - val_loss: 2.7762 - val_masked_acc: 0.5023 - val_masked_loss: 2.7762\n",
      "Epoch 14/200\n",
      "300/300 [==============================] - 20s 68ms/step - loss: 2.6674 - masked_acc: 0.5208 - masked_loss: 2.6674 - val_loss: 2.7402 - val_masked_acc: 0.5071 - val_masked_loss: 2.7402\n",
      "Epoch 15/200\n",
      "300/300 [==============================] - 20s 68ms/step - loss: 2.6313 - masked_acc: 0.5259 - masked_loss: 2.6313 - val_loss: 2.7178 - val_masked_acc: 0.5080 - val_masked_loss: 2.7178\n",
      "Epoch 16/200\n",
      "300/300 [==============================] - 20s 67ms/step - loss: 2.5850 - masked_acc: 0.5335 - masked_loss: 2.5850 - val_loss: 2.6945 - val_masked_acc: 0.5139 - val_masked_loss: 2.6945\n",
      "Epoch 17/200\n",
      "300/300 [==============================] - 20s 68ms/step - loss: 2.5843 - masked_acc: 0.5327 - masked_loss: 2.5843 - val_loss: 2.6417 - val_masked_acc: 0.5216 - val_masked_loss: 2.6417\n",
      "Epoch 18/200\n",
      "300/300 [==============================] - 20s 68ms/step - loss: 2.5621 - masked_acc: 0.5358 - masked_loss: 2.5621 - val_loss: 2.6521 - val_masked_acc: 0.5229 - val_masked_loss: 2.6521\n",
      "Epoch 19/200\n",
      "300/300 [==============================] - 21s 69ms/step - loss: 2.5167 - masked_acc: 0.5415 - masked_loss: 2.5168 - val_loss: 2.6499 - val_masked_acc: 0.5161 - val_masked_loss: 2.6499\n",
      "Epoch 20/200\n",
      "300/300 [==============================] - 20s 67ms/step - loss: 2.4946 - masked_acc: 0.5429 - masked_loss: 2.4946 - val_loss: 2.6004 - val_masked_acc: 0.5254 - val_masked_loss: 2.6004\n",
      "Epoch 21/200\n",
      "300/300 [==============================] - 21s 69ms/step - loss: 2.4669 - masked_acc: 0.5454 - masked_loss: 2.4669 - val_loss: 2.5957 - val_masked_acc: 0.5245 - val_masked_loss: 2.5957\n",
      "Epoch 22/200\n",
      "300/300 [==============================] - 21s 70ms/step - loss: 2.4376 - masked_acc: 0.5487 - masked_loss: 2.4376 - val_loss: 2.5721 - val_masked_acc: 0.5282 - val_masked_loss: 2.5721\n",
      "Epoch 23/200\n",
      "300/300 [==============================] - 21s 70ms/step - loss: 2.4293 - masked_acc: 0.5515 - masked_loss: 2.4293 - val_loss: 2.5247 - val_masked_acc: 0.5342 - val_masked_loss: 2.5247\n",
      "Epoch 24/200\n",
      "300/300 [==============================] - 20s 68ms/step - loss: 2.4018 - masked_acc: 0.5545 - masked_loss: 2.4018 - val_loss: 2.5806 - val_masked_acc: 0.5262 - val_masked_loss: 2.5806\n",
      "Epoch 25/200\n",
      "300/300 [==============================] - 21s 69ms/step - loss: 2.3879 - masked_acc: 0.5549 - masked_loss: 2.3879 - val_loss: 2.5446 - val_masked_acc: 0.5337 - val_masked_loss: 2.5446\n",
      "Epoch 26/200\n",
      "300/300 [==============================] - 21s 69ms/step - loss: 2.3814 - masked_acc: 0.5555 - masked_loss: 2.3814 - val_loss: 2.5520 - val_masked_acc: 0.5300 - val_masked_loss: 2.5520\n",
      "Epoch 27/200\n",
      "300/300 [==============================] - 21s 69ms/step - loss: 2.3692 - masked_acc: 0.5572 - masked_loss: 2.3692 - val_loss: 2.5938 - val_masked_acc: 0.5264 - val_masked_loss: 2.5938\n",
      "Epoch 28/200\n",
      "300/300 [==============================] - 20s 68ms/step - loss: 2.3533 - masked_acc: 0.5584 - masked_loss: 2.3533 - val_loss: 2.5629 - val_masked_acc: 0.5291 - val_masked_loss: 2.5629\n",
      "Epoch 29/200\n",
      "300/300 [==============================] - 20s 68ms/step - loss: 2.3501 - masked_acc: 0.5594 - masked_loss: 2.3501 - val_loss: 2.4952 - val_masked_acc: 0.5383 - val_masked_loss: 2.4952\n",
      "Epoch 30/200\n",
      "300/300 [==============================] - 20s 66ms/step - loss: 2.3262 - masked_acc: 0.5624 - masked_loss: 2.3262 - val_loss: 2.4950 - val_masked_acc: 0.5389 - val_masked_loss: 2.4950\n",
      "Epoch 31/200\n",
      "300/300 [==============================] - 20s 67ms/step - loss: 2.3292 - masked_acc: 0.5620 - masked_loss: 2.3292 - val_loss: 2.4954 - val_masked_acc: 0.5421 - val_masked_loss: 2.4954\n",
      "Epoch 32/200\n",
      "300/300 [==============================] - 21s 68ms/step - loss: 2.3116 - masked_acc: 0.5633 - masked_loss: 2.3116 - val_loss: 2.5481 - val_masked_acc: 0.5348 - val_masked_loss: 2.5481\n",
      "Epoch 33/200\n",
      "300/300 [==============================] - 20s 67ms/step - loss: 2.2926 - masked_acc: 0.5668 - masked_loss: 2.2926 - val_loss: 2.4966 - val_masked_acc: 0.5360 - val_masked_loss: 2.4966\n",
      "Epoch 34/200\n",
      "300/300 [==============================] - 20s 68ms/step - loss: 2.2690 - masked_acc: 0.5698 - masked_loss: 2.2690 - val_loss: 2.4857 - val_masked_acc: 0.5417 - val_masked_loss: 2.4857\n",
      "Epoch 35/200\n",
      "300/300 [==============================] - 20s 68ms/step - loss: 2.2662 - masked_acc: 0.5706 - masked_loss: 2.2662 - val_loss: 2.4475 - val_masked_acc: 0.5461 - val_masked_loss: 2.4475\n",
      "Epoch 36/200\n",
      "300/300 [==============================] - 20s 68ms/step - loss: 2.2575 - masked_acc: 0.5716 - masked_loss: 2.2575 - val_loss: 2.4882 - val_masked_acc: 0.5415 - val_masked_loss: 2.4882\n",
      "Epoch 37/200\n",
      "300/300 [==============================] - 20s 67ms/step - loss: 2.2458 - masked_acc: 0.5737 - masked_loss: 2.2454 - val_loss: 2.4756 - val_masked_acc: 0.5417 - val_masked_loss: 2.4756\n",
      "Epoch 38/200\n",
      "300/300 [==============================] - 21s 70ms/step - loss: 2.2271 - masked_acc: 0.5757 - masked_loss: 2.2271 - val_loss: 2.4639 - val_masked_acc: 0.5434 - val_masked_loss: 2.4639\n",
      "Epoch 39/200\n",
      "300/300 [==============================] - 20s 68ms/step - loss: 2.2239 - masked_acc: 0.5755 - masked_loss: 2.2239 - val_loss: 2.4540 - val_masked_acc: 0.5453 - val_masked_loss: 2.4540\n",
      "Epoch 40/200\n",
      "300/300 [==============================] - 21s 69ms/step - loss: 2.2137 - masked_acc: 0.5765 - masked_loss: 2.2137 - val_loss: 2.4554 - val_masked_acc: 0.5448 - val_masked_loss: 2.4554\n",
      "Epoch 41/200\n",
      "300/300 [==============================] - 20s 68ms/step - loss: 2.2042 - masked_acc: 0.5779 - masked_loss: 2.2042 - val_loss: 2.4344 - val_masked_acc: 0.5477 - val_masked_loss: 2.4344\n",
      "Epoch 42/200\n",
      "300/300 [==============================] - 20s 67ms/step - loss: 2.1898 - masked_acc: 0.5808 - masked_loss: 2.1898 - val_loss: 2.4042 - val_masked_acc: 0.5555 - val_masked_loss: 2.4042\n",
      "Epoch 43/200\n",
      "300/300 [==============================] - 20s 68ms/step - loss: 2.1713 - masked_acc: 0.5824 - masked_loss: 2.1713 - val_loss: 2.4304 - val_masked_acc: 0.5481 - val_masked_loss: 2.4304\n",
      "Epoch 44/200\n",
      "300/300 [==============================] - 20s 67ms/step - loss: 2.1754 - masked_acc: 0.5818 - masked_loss: 2.1754 - val_loss: 2.4104 - val_masked_acc: 0.5475 - val_masked_loss: 2.4104\n",
      "Epoch 45/200\n",
      "300/300 [==============================] - 20s 68ms/step - loss: 2.1762 - masked_acc: 0.5810 - masked_loss: 2.1762 - val_loss: 2.4393 - val_masked_acc: 0.5463 - val_masked_loss: 2.4393\n",
      "Epoch 46/200\n",
      "300/300 [==============================] - 21s 68ms/step - loss: 2.1509 - masked_acc: 0.5838 - masked_loss: 2.1509 - val_loss: 2.4239 - val_masked_acc: 0.5491 - val_masked_loss: 2.4239\n",
      "Epoch 47/200\n",
      "300/300 [==============================] - 20s 67ms/step - loss: 2.1658 - masked_acc: 0.5831 - masked_loss: 2.1658 - val_loss: 2.4278 - val_masked_acc: 0.5503 - val_masked_loss: 2.4278\n",
      "Epoch 48/200\n",
      "300/300 [==============================] - 20s 68ms/step - loss: 2.1394 - masked_acc: 0.5862 - masked_loss: 2.1394 - val_loss: 2.4100 - val_masked_acc: 0.5524 - val_masked_loss: 2.4100\n",
      "Epoch 49/200\n",
      "300/300 [==============================] - 20s 67ms/step - loss: 2.1394 - masked_acc: 0.5858 - masked_loss: 2.1394 - val_loss: 2.3565 - val_masked_acc: 0.5590 - val_masked_loss: 2.3565\n",
      "Epoch 50/200\n",
      "300/300 [==============================] - 20s 68ms/step - loss: 2.1346 - masked_acc: 0.5863 - masked_loss: 2.1346 - val_loss: 2.3987 - val_masked_acc: 0.5529 - val_masked_loss: 2.3987\n",
      "Epoch 51/200\n",
      "300/300 [==============================] - 20s 68ms/step - loss: 2.1300 - masked_acc: 0.5863 - masked_loss: 2.1300 - val_loss: 2.3925 - val_masked_acc: 0.5524 - val_masked_loss: 2.3925\n",
      "Epoch 52/200\n",
      "300/300 [==============================] - 21s 70ms/step - loss: 2.1003 - masked_acc: 0.5922 - masked_loss: 2.1003 - val_loss: 2.3863 - val_masked_acc: 0.5534 - val_masked_loss: 2.3863\n",
      "Epoch 53/200\n",
      "300/300 [==============================] - 20s 68ms/step - loss: 2.1079 - masked_acc: 0.5907 - masked_loss: 2.1079 - val_loss: 2.3724 - val_masked_acc: 0.5556 - val_masked_loss: 2.3724\n",
      "Epoch 54/200\n",
      "300/300 [==============================] - 20s 67ms/step - loss: 2.0942 - masked_acc: 0.5926 - masked_loss: 2.0942 - val_loss: 2.4037 - val_masked_acc: 0.5528 - val_masked_loss: 2.4037\n",
      "Epoch 55/200\n",
      "300/300 [==============================] - 20s 68ms/step - loss: 2.0956 - masked_acc: 0.5918 - masked_loss: 2.0955 - val_loss: 2.4057 - val_masked_acc: 0.5518 - val_masked_loss: 2.4057\n",
      "Epoch 56/200\n",
      "300/300 [==============================] - 21s 68ms/step - loss: 2.0787 - masked_acc: 0.5946 - masked_loss: 2.0787 - val_loss: 2.3660 - val_masked_acc: 0.5546 - val_masked_loss: 2.3660\n",
      "Epoch 57/200\n",
      "300/300 [==============================] - 21s 68ms/step - loss: 2.0729 - masked_acc: 0.5945 - masked_loss: 2.0729 - val_loss: 2.3546 - val_masked_acc: 0.5572 - val_masked_loss: 2.3546\n",
      "Epoch 58/200\n",
      "300/300 [==============================] - 20s 68ms/step - loss: 2.0649 - masked_acc: 0.5962 - masked_loss: 2.0649 - val_loss: 2.4214 - val_masked_acc: 0.5507 - val_masked_loss: 2.4214\n",
      "Epoch 59/200\n",
      "300/300 [==============================] - 20s 68ms/step - loss: 2.0630 - masked_acc: 0.5956 - masked_loss: 2.0630 - val_loss: 2.3386 - val_masked_acc: 0.5613 - val_masked_loss: 2.3386\n",
      "Epoch 60/200\n",
      "300/300 [==============================] - 20s 68ms/step - loss: 2.0467 - masked_acc: 0.5989 - masked_loss: 2.0467 - val_loss: 2.4276 - val_masked_acc: 0.5489 - val_masked_loss: 2.4276\n",
      "Epoch 61/200\n",
      "300/300 [==============================] - 21s 70ms/step - loss: 2.0535 - masked_acc: 0.5981 - masked_loss: 2.0535 - val_loss: 2.3932 - val_masked_acc: 0.5555 - val_masked_loss: 2.3932\n",
      "Epoch 62/200\n",
      "300/300 [==============================] - 20s 67ms/step - loss: 2.0346 - masked_acc: 0.5996 - masked_loss: 2.0346 - val_loss: 2.3657 - val_masked_acc: 0.5606 - val_masked_loss: 2.3657\n",
      "Epoch 63/200\n",
      "300/300 [==============================] - 20s 68ms/step - loss: 2.0437 - masked_acc: 0.5975 - masked_loss: 2.0437 - val_loss: 2.3750 - val_masked_acc: 0.5599 - val_masked_loss: 2.3750\n",
      "Epoch 64/200\n",
      "300/300 [==============================] - 20s 67ms/step - loss: 2.0296 - masked_acc: 0.5994 - masked_loss: 2.0296 - val_loss: 2.3955 - val_masked_acc: 0.5551 - val_masked_loss: 2.3955\n",
      "Epoch 65/200\n",
      "300/300 [==============================] - 21s 69ms/step - loss: 2.0306 - masked_acc: 0.6003 - masked_loss: 2.0306 - val_loss: 2.3758 - val_masked_acc: 0.5567 - val_masked_loss: 2.3758\n",
      "Epoch 66/200\n",
      "300/300 [==============================] - 20s 67ms/step - loss: 2.0271 - masked_acc: 0.6006 - masked_loss: 2.0271 - val_loss: 2.3687 - val_masked_acc: 0.5604 - val_masked_loss: 2.3687\n",
      "Epoch 67/200\n",
      "300/300 [==============================] - 20s 67ms/step - loss: 2.0215 - masked_acc: 0.6006 - masked_loss: 2.0215 - val_loss: 2.4356 - val_masked_acc: 0.5495 - val_masked_loss: 2.4356\n",
      "Epoch 68/200\n",
      "300/300 [==============================] - 20s 68ms/step - loss: 2.0155 - masked_acc: 0.6006 - masked_loss: 2.0155 - val_loss: 2.4041 - val_masked_acc: 0.5529 - val_masked_loss: 2.4041\n",
      "Epoch 69/200\n",
      "300/300 [==============================] - 20s 68ms/step - loss: 1.9997 - masked_acc: 0.6041 - masked_loss: 1.9997 - val_loss: 2.3785 - val_masked_acc: 0.5596 - val_masked_loss: 2.3785\n",
      "Epoch 70/200\n",
      "300/300 [==============================] - 20s 67ms/step - loss: 1.9777 - masked_acc: 0.6079 - masked_loss: 1.9777 - val_loss: 2.4371 - val_masked_acc: 0.5506 - val_masked_loss: 2.4371\n",
      "Epoch 71/200\n",
      "300/300 [==============================] - 20s 68ms/step - loss: 1.9869 - masked_acc: 0.6066 - masked_loss: 1.9869 - val_loss: 2.3643 - val_masked_acc: 0.5561 - val_masked_loss: 2.3643\n",
      "Epoch 72/200\n",
      "300/300 [==============================] - 21s 70ms/step - loss: 1.9862 - masked_acc: 0.6064 - masked_loss: 1.9862 - val_loss: 2.3907 - val_masked_acc: 0.5550 - val_masked_loss: 2.3907\n",
      "Epoch 73/200\n",
      "300/300 [==============================] - 20s 68ms/step - loss: 1.9861 - masked_acc: 0.6062 - masked_loss: 1.9861 - val_loss: 2.4181 - val_masked_acc: 0.5560 - val_masked_loss: 2.4181\n",
      "Epoch 74/200\n",
      "300/300 [==============================] - 21s 68ms/step - loss: 1.9657 - masked_acc: 0.6092 - masked_loss: 1.9657 - val_loss: 2.4034 - val_masked_acc: 0.5553 - val_masked_loss: 2.4034\n"
     ]
    }
   ],
   "source": [
    "history = model.fit(\n",
    "    train_ds.repeat(), \n",
    "    epochs=200,\n",
    "    steps_per_epoch = 300,\n",
    "    validation_data=val_ds,\n",
    "    validation_steps = 20,\n",
    "    callbacks=[\n",
    "        tf.keras.callbacks.EarlyStopping(patience=15)])"
   ]
  },
  {
   "cell_type": "code",
   "execution_count": 69,
   "metadata": {},
   "outputs": [
    {
     "data": {
      "text/plain": [
       "<matplotlib.legend.Legend at 0x252a0b25fc0>"
      ]
     },
     "execution_count": 69,
     "metadata": {},
     "output_type": "execute_result"
    },
    {
     "data": {
      "image/png": "[encoded data removed]",
      "text/plain": [
       "<Figure size 640x480 with 1 Axes>"
      ]
     },
     "metadata": {},
     "output_type": "display_data"
    }
   ],
   "source": [
    "plt.plot(history.history['loss'], label='loss')\n",
    "plt.plot(history.history['val_loss'], label='val_loss')\n",
    "plt.ylim([0, max(plt.ylim())])\n",
    "plt.xlabel('Epoch #')\n",
    "plt.ylabel('CE/token')\n",
    "plt.legend()"
   ]
  },
  {
   "cell_type": "code",
   "execution_count": 70,
   "metadata": {},
   "outputs": [
    {
     "data": {
      "text/plain": [
       "<matplotlib.legend.Legend at 0x252bdfcc1c0>"
      ]
     },
     "execution_count": 70,
     "metadata": {},
     "output_type": "execute_result"
    },
    {
     "data": {
      "image/png": "[encoded data removed]",
      "text/plain": [
       "<Figure size 640x480 with 1 Axes>"
      ]
     },
     "metadata": {},
     "output_type": "display_data"
    }
   ],
   "source": [
    "plt.plot(history.history['masked_acc'], label='accuracy')\n",
    "plt.plot(history.history['val_masked_acc'], label='val_accuracy')\n",
    "plt.ylim([0, max(plt.ylim())])\n",
    "plt.xlabel('Epoch #')\n",
    "plt.ylabel('CE/token')\n",
    "plt.legend()"
   ]
  },
  {
   "cell_type": "code",
   "execution_count": 71,
   "metadata": {},
   "outputs": [],
   "source": [
    "@Translator.add_method\n",
    "def translate(self,\n",
    "              texts, *,\n",
    "              max_length=50,\n",
    "              temperature=0.0):\n",
    "  # Process the input texts\n",
    "  context = self.encoder.convert_input(texts)\n",
    "  batch_size = tf.shape(texts)[0]\n",
    "\n",
    "  # Setup the loop inputs\n",
    "  tokens = []\n",
    "  attention_weights = []\n",
    "  next_token, done, state = self.decoder.get_initial_state(context)\n",
    "\n",
    "  for _ in range(max_length):\n",
    "    # Generate the next token\n",
    "    next_token, done, state = self.decoder.get_next_token(\n",
    "        context, next_token, done,  state, temperature)\n",
    "\n",
    "    # Collect the generated tokens\n",
    "    tokens.append(next_token)\n",
    "    attention_weights.append(self.decoder.last_attention_weights)\n",
    "\n",
    "    if tf.executing_eagerly() and tf.reduce_all(done):\n",
    "      break\n",
    "\n",
    "  # Stack the lists of tokens and attention weights.\n",
    "  tokens = tf.concat(tokens, axis=-1)   # t*[(batch 1)] -> (batch, t)\n",
    "  self.last_attention_weights = tf.concat(attention_weights, axis=1)  # t*[(batch 1 s)] -> (batch, t s)\n",
    "\n",
    "  result = self.decoder.tokens_to_text(tokens)\n",
    "  return result"
   ]
  },
  {
   "cell_type": "code",
   "execution_count": 72,
   "metadata": {},
   "outputs": [
    {
     "data": {
      "text/plain": [
       "'is it still at home ? '"
      ]
     },
     "execution_count": 72,
     "metadata": {},
     "output_type": "execute_result"
    }
   ],
   "source": [
    "result = model.translate(['¿Todavía está en casa?']) # Are you still home\n",
    "result[0].numpy().decode()"
   ]
  },
  {
   "cell_type": "code",
   "execution_count": 73,
   "metadata": {},
   "outputs": [],
   "source": [
    "@Translator.add_method\n",
    "def plot_attention(self, text, **kwargs):\n",
    "  assert isinstance(text, str)\n",
    "  output = self.translate([text], **kwargs)\n",
    "  output = output[0].numpy().decode()\n",
    "\n",
    "  attention = self.last_attention_weights[0]\n",
    "\n",
    "  context = tf_lower_and_split_punct(text)\n",
    "  context = context.numpy().decode().split()\n",
    "\n",
    "  output = tf_lower_and_split_punct(output)\n",
    "  output = output.numpy().decode().split()[1:]\n",
    "\n",
    "  fig = plt.figure(figsize=(10, 10))\n",
    "  ax = fig.add_subplot(1, 1, 1)\n",
    "\n",
    "  ax.matshow(attention, cmap='viridis', vmin=0.0)\n",
    "\n",
    "  fontdict = {'fontsize': 14}\n",
    "\n",
    "  ax.set_xticklabels([''] + context, fontdict=fontdict, rotation=90)\n",
    "  ax.set_yticklabels([''] + output, fontdict=fontdict)\n",
    "\n",
    "  ax.xaxis.set_major_locator(ticker.MultipleLocator(1))\n",
    "  ax.yaxis.set_major_locator(ticker.MultipleLocator(1))\n",
    "\n",
    "  ax.set_xlabel('Input text')\n",
    "  ax.set_ylabel('Output text')"
   ]
  },
  {
   "cell_type": "code",
   "execution_count": 74,
   "metadata": {},
   "outputs": [
    {
     "name": "stderr",
     "output_type": "stream",
     "text": [
      "C:\\Users\\SamuelMcmurray\\AppData\\Local\\Temp\\ipykernel_664\\2375050876.py:22: UserWarning: FixedFormatter should only be used together with FixedLocator\n",
      "  ax.set_xticklabels([''] + context, fontdict=fontdict, rotation=90)\n",
      "C:\\Users\\SamuelMcmurray\\AppData\\Local\\Temp\\ipykernel_664\\2375050876.py:23: UserWarning: FixedFormatter should only be used together with FixedLocator\n",
      "  ax.set_yticklabels([''] + output, fontdict=fontdict)\n"
     ]
    },
    {
     "data": {
      "image/png": "[encoded data removed]",
      "text/plain": [
       "<Figure size 1000x1000 with 1 Axes>"
      ]
     },
     "metadata": {},
     "output_type": "display_data"
    }
   ],
   "source": [
    "model.plot_attention('¿Todavía está en casa?') # Are you still home"
   ]
  },
  {
   "cell_type": "code",
   "execution_count": 75,
   "metadata": {},
   "outputs": [
    {
     "name": "stderr",
     "output_type": "stream",
     "text": [
      "C:\\Users\\SamuelMcmurray\\AppData\\Local\\Temp\\ipykernel_664\\2375050876.py:22: UserWarning: FixedFormatter should only be used together with FixedLocator\n",
      "  ax.set_xticklabels([''] + context, fontdict=fontdict, rotation=90)\n",
      "C:\\Users\\SamuelMcmurray\\AppData\\Local\\Temp\\ipykernel_664\\2375050876.py:23: UserWarning: FixedFormatter should only be used together with FixedLocator\n",
      "  ax.set_yticklabels([''] + output, fontdict=fontdict)\n"
     ]
    },
    {
     "data": {
      "image/png": "[encoded data removed]",
      "text/plain": [
       "<Figure size 1000x1000 with 1 Axes>"
      ]
     },
     "metadata": {},
     "output_type": "display_data"
    }
   ],
   "source": [
    "model.plot_attention('Esta es mi vida.')"
   ]
  },
  {
   "cell_type": "code",
   "execution_count": 76,
   "metadata": {},
   "outputs": [
    {
     "name": "stderr",
     "output_type": "stream",
     "text": [
      "C:\\Users\\SamuelMcmurray\\AppData\\Local\\Temp\\ipykernel_664\\2375050876.py:22: UserWarning: FixedFormatter should only be used together with FixedLocator\n",
      "  ax.set_xticklabels([''] + context, fontdict=fontdict, rotation=90)\n",
      "C:\\Users\\SamuelMcmurray\\AppData\\Local\\Temp\\ipykernel_664\\2375050876.py:23: UserWarning: FixedFormatter should only be used together with FixedLocator\n",
      "  ax.set_yticklabels([''] + output, fontdict=fontdict)\n"
     ]
    },
    {
     "data": {
      "image/png": "[encoded data removed]",
      "text/plain": [
       "<Figure size 1000x1000 with 1 Axes>"
      ]
     },
     "metadata": {},
     "output_type": "display_data"
    }
   ],
   "source": [
    "model.plot_attention('Tratar de descubrir.')"
   ]
  },
  {
   "cell_type": "code",
   "execution_count": 77,
   "metadata": {},
   "outputs": [],
   "source": [
    "long_text = \"\"\"Tras reunirse este jueves, los gobiernos de Venezuela y Guyana acordaron seguir con el diálogo respecto a la disputa por el territorio Esequibo. Esto fue lo más destacado.\"\"\""
   ]
  },
  {
   "cell_type": "code",
   "execution_count": 78,
   "metadata": {},
   "outputs": [
    {
     "name": "stderr",
     "output_type": "stream",
     "text": [
      "C:\\Users\\SamuelMcmurray\\AppData\\Local\\Temp\\ipykernel_664\\2375050876.py:22: UserWarning: FixedFormatter should only be used together with FixedLocator\n",
      "  ax.set_xticklabels([''] + context, fontdict=fontdict, rotation=90)\n",
      "C:\\Users\\SamuelMcmurray\\AppData\\Local\\Temp\\ipykernel_664\\2375050876.py:23: UserWarning: FixedFormatter should only be used together with FixedLocator\n",
      "  ax.set_yticklabels([''] + output, fontdict=fontdict)\n"
     ]
    },
    {
     "data": {
      "image/png": "[encoded data removed]",
      "text/plain": [
       "<Figure size 1000x1000 with 1 Axes>"
      ]
     },
     "metadata": {},
     "output_type": "display_data"
    }
   ],
   "source": [
    "model.plot_attention(\"\".join(long_text))"
   ]
  },
  {
   "cell_type": "code",
   "execution_count": 79,
   "metadata": {},
   "outputs": [],
   "source": [
    "inputs = [\n",
    "    'Hace mucho frio aqui.', # \"It's really cold here.\"\n",
    "    'Esta es mi vida.', # \"This is my life.\"\n",
    "    'Su cuarto es un desastre.' # \"His room is a mess\"\n",
    "]"
   ]
  },
  {
   "cell_type": "code",
   "execution_count": 80,
   "metadata": {},
   "outputs": [
    {
     "name": "stdout",
     "output_type": "stream",
     "text": [
      "its a lot of cold here . \n",
      "this is my life . \n",
      "his room is a disaster . \n",
      "\n"
     ]
    }
   ],
   "source": [
    "for t in inputs:\n",
    "  print(model.translate([t])[0].numpy().decode())\n",
    "\n",
    "print()"
   ]
  },
  {
   "cell_type": "code",
   "execution_count": 81,
   "metadata": {},
   "outputs": [
    {
     "name": "stdout",
     "output_type": "stream",
     "text": [
      "its a lot of cold here . \n",
      "this is my life .   \n",
      "his room is a disaster .  \n",
      "\n"
     ]
    }
   ],
   "source": [
    "result = model.translate(inputs)\n",
    "\n",
    "print(result[0].numpy().decode())\n",
    "print(result[1].numpy().decode())\n",
    "print(result[2].numpy().decode())\n",
    "print()"
   ]
  },
  {
   "cell_type": "code",
   "execution_count": 82,
   "metadata": {},
   "outputs": [],
   "source": [
    "class Export(tf.Module):\n",
    "  def __init__(self, model):\n",
    "    self.model = model\n",
    "\n",
    "  @tf.function(input_signature=[tf.TensorSpec(dtype=tf.string, shape=[None])])\n",
    "  def translate(self, inputs):\n",
    "    return self.model.translate(inputs)"
   ]
  },
  {
   "cell_type": "code",
   "execution_count": 83,
   "metadata": {},
   "outputs": [],
   "source": [
    "export = Export(model)"
   ]
  },
  {
   "cell_type": "code",
   "execution_count": 84,
   "metadata": {},
   "outputs": [],
   "source": [
    "_ = export.translate(tf.constant(inputs))"
   ]
  },
  {
   "cell_type": "code",
   "execution_count": 85,
   "metadata": {},
   "outputs": [
    {
     "name": "stdout",
     "output_type": "stream",
     "text": [
      "its a lot of cold here .                                           \n",
      "this is my life .                                             \n",
      "his room is a disaster .                                            \n",
      "\n"
     ]
    }
   ],
   "source": [
    "result = export.translate(tf.constant(inputs))\n",
    "\n",
    "print(result[0].numpy().decode())\n",
    "print(result[1].numpy().decode())\n",
    "print(result[2].numpy().decode())\n",
    "print()"
   ]
  },
  {
   "cell_type": "code",
   "execution_count": 86,
   "metadata": {},
   "outputs": [
    {
     "name": "stderr",
     "output_type": "stream",
     "text": [
      "WARNING:absl:Found untraced functions such as embedding_7_layer_call_fn, embedding_7_layer_call_and_return_conditional_losses, embedding_8_layer_call_fn, embedding_8_layer_call_and_return_conditional_losses, cross_attention_4_layer_call_fn while saving (showing 5 of 32). These functions will not be directly callable after loading.\n"
     ]
    }
   ],
   "source": [
    "tf.saved_model.save(export, 'models/es_en_translation',\n",
    "                    signatures={'serving_default': export.translate})"
   ]
  },
  {
   "cell_type": "code",
   "execution_count": 87,
   "metadata": {},
   "outputs": [],
   "source": [
    "reloaded = tf.saved_model.load('models/es_en_translation')\n",
    "_ = reloaded.translate(tf.constant(inputs)) #warmup"
   ]
  },
  {
   "cell_type": "code",
   "execution_count": 88,
   "metadata": {},
   "outputs": [
    {
     "name": "stdout",
     "output_type": "stream",
     "text": [
      "its a lot of cold here .                                           \n",
      "this is my life .                                             \n",
      "his room is a disaster .                                            \n",
      "\n"
     ]
    }
   ],
   "source": [
    "result = reloaded.translate(tf.constant(inputs))\n",
    "\n",
    "print(result[0].numpy().decode())\n",
    "print(result[1].numpy().decode())\n",
    "print(result[2].numpy().decode())\n",
    "print()"
   ]
  },
  {
   "cell_type": "code",
   "execution_count": 89,
   "metadata": {},
   "outputs": [
    {
     "name": "stderr",
     "output_type": "stream",
     "text": [
      "WARNING:absl:Found untraced functions such as embedding_7_layer_call_fn, embedding_7_layer_call_and_return_conditional_losses, embedding_8_layer_call_fn, embedding_8_layer_call_and_return_conditional_losses, cross_attention_4_layer_call_fn while saving (showing 5 of 32). These functions will not be directly callable after loading.\n"
     ]
    }
   ],
   "source": [
    "converter = tf.lite.TFLiteConverter.from_keras_model(export)\n",
    "converter.target_spec.supported_ops = [tf.lite.OpsSet.TFLITE_BUILTINS, tf.lite.OpsSet.SELECT_TF_OPS]\n",
    "converter._experimental_lower_tensor_list_ops = False\n",
    "tflite_model = converter.convert()\n",
    "# Save the model.\n",
    "with open('tflite_models/es_en_translation.tflite', 'wb') as f:\n",
    "  f.write(tflite_model)"
   ]
  },
  {
   "cell_type": "code",
   "execution_count": 90,
   "metadata": {},
   "outputs": [
    {
     "name": "stdout",
     "output_type": "stream",
     "text": [
      "[b'its a lot of cold here .                                           ']\n"
     ]
    }
   ],
   "source": [
    "interpreter = tf.lite.Interpreter(model_path='tflite_models/es_en_translation.tflite')\n",
    "interpreter.allocate_tensors()\n",
    "\n",
    "input_details = interpreter.get_input_details()\n",
    "output_details = interpreter.get_output_details()\n",
    "\n",
    "input_shape = input_details[0]['shape']\n",
    "\n",
    "interpreter.set_tensor(input_details[0]['index'], np.array([inputs[0]]))\n",
    "\n",
    "interpreter.invoke()\n",
    "\n",
    "output_data = interpreter.get_tensor(output_details[0]['index'])\n",
    "print(output_data)\n"
   ]
  }
 ],
 "metadata": {
  "kernelspec": {
   "display_name": "translation",
   "language": "python",
   "name": "python3"
  },
  "language_info": {
   "codemirror_mode": {
    "name": "ipython",
    "version": 3
   },
   "file_extension": ".py",
   "mimetype": "text/x-python",
   "name": "python",
   "nbconvert_exporter": "python",
   "pygments_lexer": "ipython3",
   "version": "3.10.0"
  },
  "orig_nbformat": 4
 },
 "nbformat": 4,
 "nbformat_minor": 2
}
