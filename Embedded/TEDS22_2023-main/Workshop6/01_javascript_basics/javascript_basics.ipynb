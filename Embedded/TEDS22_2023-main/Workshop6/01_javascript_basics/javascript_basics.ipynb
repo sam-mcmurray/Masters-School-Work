{
 "cells": [
  {
   "cell_type": "markdown",
   "metadata": {},
   "source": [
    "# JavaScript Basics"
   ]
  },
  {
   "cell_type": "markdown",
   "metadata": {},
   "source": [
    "## JavaScript Statements\n",
    "\n",
    "A **computer program** is a list of \"instructions\" to be \"executed\" by a computer.\n",
    "\n",
    "In a programming language, these programming instructions are called **statements**.\n",
    "\n",
    "A JavaScript program is a list of programming **statements**.\n",
    "\n",
    "JavaScript **statements** are composed of:\n",
    "- Values\n",
    "- Operators\n",
    "- Expressions\n",
    "- Keywords\n",
    "- Comments\n",
    "\n",
    "This statement writes the text \"Hello World\" to the standard output (usually the terminal)."
   ]
  },
  {
   "cell_type": "code",
   "execution_count": 2,
   "metadata": {},
   "outputs": [
    {
     "name": "stdout",
     "output_type": "stream",
     "text": [
      "Hello World\n"
     ]
    },
    {
     "data": {
      "text/plain": [
       "undefined"
      ]
     },
     "execution_count": 2,
     "metadata": {},
     "output_type": "execute_result"
    }
   ],
   "source": [
    "console.log(\"Hello World\");"
   ]
  },
  {
   "cell_type": "markdown",
   "metadata": {},
   "source": [
    "Semicolons separate JavaScript statements.\n",
    "\n",
    "Add a semicolon at the end of each executable statement (ending statements with a semicolon is not strictly required, but highly recommended)."
   ]
  },
  {
   "cell_type": "code",
   "execution_count": 3,
   "metadata": {},
   "outputs": [
    {
     "data": {
      "text/plain": [
       "11"
      ]
     },
     "execution_count": 3,
     "metadata": {},
     "output_type": "execute_result"
    }
   ],
   "source": [
    "var a, b, c;     // Declare 3 variables\n",
    "a = 5;           // Assign the value 5 to a\n",
    "b = 6;           // Assign the value 6 to b\n",
    "c = a + b;       // Assign the sum of a and b to c"
   ]
  },
  {
   "cell_type": "markdown",
   "metadata": {},
   "source": [
    "When separated by semicolons, multiple statements on one line are allowed:"
   ]
  },
  {
   "cell_type": "code",
   "execution_count": 4,
   "metadata": {},
   "outputs": [
    {
     "data": {
      "text/plain": [
       "11"
      ]
     },
     "execution_count": 4,
     "metadata": {},
     "output_type": "execute_result"
    }
   ],
   "source": [
    "a = 5; b = 6; c = a + b;\n",
    "\n",
    "// Commas can also be used to separate variable declarations on one line.\n",
    "a = 5, b = 6, c = a + b;"
   ]
  },
  {
   "cell_type": "markdown",
   "metadata": {},
   "source": [
    "JavaScript ignores multiple white spaces (unless they are within a string litteral). You can add white space to your code to make it more readable.\n",
    "\n",
    "The following lines are equivalent:"
   ]
  },
  {
   "cell_type": "code",
   "execution_count": 5,
   "metadata": {},
   "outputs": [
    {
     "data": {
      "text/plain": [
       "undefined"
      ]
     },
     "execution_count": 5,
     "metadata": {},
     "output_type": "execute_result"
    }
   ],
   "source": [
    "var person = \"Hege\";\n",
    "var person=\"Hege\";"
   ]
  },
  {
   "cell_type": "markdown",
   "metadata": {},
   "source": [
    "A good practice is to put spaces around operators ( = + - * / ):"
   ]
  },
  {
   "cell_type": "code",
   "execution_count": 6,
   "metadata": {},
   "outputs": [
    {
     "data": {
      "text/plain": [
       "undefined"
      ]
     },
     "execution_count": 6,
     "metadata": {},
     "output_type": "execute_result"
    }
   ],
   "source": [
    "var y = 1, z = 2;\n",
    "\n",
    "var x = y + z;"
   ]
  },
  {
   "cell_type": "markdown",
   "metadata": {},
   "source": [
    "For best readability, programmers often like to avoid code lines longer than 80 characters.\n",
    "\n",
    "If a JavaScript statement does not fit on one line, the best place to break it is after an operator:"
   ]
  },
  {
   "cell_type": "code",
   "execution_count": 7,
   "metadata": {},
   "outputs": [
    {
     "data": {
      "text/plain": [
       "undefined"
      ]
     },
     "execution_count": 7,
     "metadata": {},
     "output_type": "execute_result"
    }
   ],
   "source": [
    "var s = \"Peter Piper Picked a Peck of Pickled Pepper. \" +\n",
    "    \"Where's the Peck of Pickled Pepper, Peter Piper Picked?\""
   ]
  },
  {
   "cell_type": "markdown",
   "metadata": {},
   "source": [
    "## JavaScript Code Blocks\n",
    "\n",
    "JavaScript statements can be grouped together in code blocks, inside curly brackets {...}.\n",
    "\n",
    "The purpose of code blocks is to define statements to be executed together.\n",
    "\n",
    "One place you will find statements grouped together in blocks, is in JavaScript functions:"
   ]
  },
  {
   "cell_type": "code",
   "execution_count": 8,
   "metadata": {},
   "outputs": [
    {
     "data": {
      "text/plain": [
       "undefined"
      ]
     },
     "execution_count": 8,
     "metadata": {},
     "output_type": "execute_result"
    }
   ],
   "source": [
    "function add(x,y) {\n",
    "  return x + y;\n",
    "}"
   ]
  },
  {
   "cell_type": "markdown",
   "metadata": {},
   "source": [
    "Here another JavaScript code block."
   ]
  },
  {
   "cell_type": "code",
   "execution_count": 9,
   "metadata": {},
   "outputs": [
    {
     "data": {
      "text/plain": [
       "4"
      ]
     },
     "execution_count": 9,
     "metadata": {},
     "output_type": "execute_result"
    }
   ],
   "source": [
    "{\n",
    "    x = x + 1;\n",
    "}"
   ]
  },
  {
   "cell_type": "markdown",
   "metadata": {},
   "source": [
    "## JavaScript Keywords\n",
    "\n",
    "JavaScript statements often start with a keyword to identify the JavaScript action to be performed.\n",
    "\n",
    "JavaScript [keywords](https://www.w3schools.com/js/js_reserved.asp) are reserved words. Reserved words cannot be used as names for variables."
   ]
  },
  {
   "cell_type": "code",
   "execution_count": 10,
   "metadata": {},
   "outputs": [
    {
     "ename": "SyntaxError",
     "evalue": "Unexpected token 'for'",
     "output_type": "error",
     "traceback": [
      "evalmachine.<anonymous>:1",
      "var for = 1; // Can't name the variable 'for', since 'for' is a JavaScript keyword.",
      "    ^^^",
      "",
      "SyntaxError: Unexpected token 'for'",
      "    at new Script (node:vm:100:7)",
      "    at createScript (node:vm:265:10)",
      "    at Object.runInThisContext (node:vm:313:10)",
      "    at run ([eval]:1020:15)",
      "    at onRunRequest ([eval]:864:18)",
      "    at onMessage ([eval]:828:13)",
      "    at process.emit (node:events:513:28)",
      "    at emit (node:internal/child_process:946:14)",
      "    at processTicksAndRejections (node:internal/process/task_queues:84:21)"
     ]
    }
   ],
   "source": [
    "var for = 1; // Can't name the variable 'for', since 'for' is a JavaScript keyword."
   ]
  },
  {
   "cell_type": "markdown",
   "metadata": {},
   "source": [
    "## JavaScript Values\n",
    "\n",
    "The JavaScript syntax defines two types of values:\n",
    "- Fixed values (also called **literals**).\n",
    "- Variable values (also called **variables**)."
   ]
  },
  {
   "cell_type": "markdown",
   "metadata": {},
   "source": [
    "## JavaScript Literals\n",
    "\n",
    "The two most important syntax rules for fixed values are:\n",
    "\n",
    "1. **Numbers** are written with or without decimals.\n",
    "2. **Strings** are text, written within double or single quotes."
   ]
  },
  {
   "cell_type": "code",
   "execution_count": 11,
   "metadata": {},
   "outputs": [
    {
     "data": {
      "text/plain": [
       "'John Doe'"
      ]
     },
     "execution_count": 11,
     "metadata": {},
     "output_type": "execute_result"
    }
   ],
   "source": [
    "// Numbers\n",
    "10.50\n",
    "1001\n",
    "\n",
    "// Strings\n",
    "\"John Doe\"\n",
    "'John Doe'"
   ]
  },
  {
   "cell_type": "markdown",
   "metadata": {},
   "source": [
    "## JavaScript Variables\n",
    "\n",
    "In a programming language, **variables** are used to **store** data values.\n",
    "\n",
    "JavaScript uses the `var` keyword to **declare** variables.\n",
    "\n",
    "An **equal sign** is used to **assign values** to variables.\n",
    "\n",
    "In this example, x is declared as a variable. Then, x is assigned (given) the value 6."
   ]
  },
  {
   "cell_type": "code",
   "execution_count": 12,
   "metadata": {},
   "outputs": [
    {
     "data": {
      "text/plain": [
       "6"
      ]
     },
     "execution_count": 12,
     "metadata": {},
     "output_type": "execute_result"
    }
   ],
   "source": [
    "var x;     // declare the variable 'x'.\n",
    "x = 6;     // assign the value 6 to the variable 'x'.\n",
    "\n",
    "var x = 6; // we can also declare a variable and assign a value to it in one statement."
   ]
  },
  {
   "cell_type": "markdown",
   "metadata": {},
   "source": [
    "A variable declared without a value will have the value **undefined**."
   ]
  },
  {
   "cell_type": "code",
   "execution_count": 13,
   "metadata": {},
   "outputs": [
    {
     "name": "stdout",
     "output_type": "stream",
     "text": [
      "undefined\n"
     ]
    },
    {
     "data": {
      "text/plain": [
       "undefined"
      ]
     },
     "execution_count": 13,
     "metadata": {},
     "output_type": "execute_result"
    }
   ],
   "source": [
    "var q;\n",
    "console.log(q);"
   ]
  },
  {
   "cell_type": "markdown",
   "metadata": {},
   "source": [
    "Before 2015, using the `var` keyword was the only way to declare a JavaScript variable.\n",
    "The 2015 version of JavaScript (ES6) allows the use of the `const` keyword to define a variable that cannot be reassigned, and the `let` keyword to define a variable with restricted scope (block scope)."
   ]
  },
  {
   "cell_type": "code",
   "execution_count": 14,
   "metadata": {},
   "outputs": [
    {
     "data": {
      "text/plain": [
       "undefined"
      ]
     },
     "execution_count": 14,
     "metadata": {},
     "output_type": "execute_result"
    }
   ],
   "source": [
    "var variableWithFunctionScope;\n",
    "let variableWithBlockScope;\n",
    "const constant = 3.14;"
   ]
  },
  {
   "cell_type": "markdown",
   "metadata": {},
   "source": [
    "A constant must be assigned a value when declaring it, and its value can't be changed."
   ]
  },
  {
   "cell_type": "code",
   "execution_count": 15,
   "metadata": {},
   "outputs": [
    {
     "ename": "TypeError",
     "evalue": "Assignment to constant variable.",
     "output_type": "error",
     "traceback": [
      "evalmachine.<anonymous>:2",
      "PI = 3.14159; // assigning a new value to a constant causes an error",
      "   ^",
      "",
      "TypeError: Assignment to constant variable.",
      "    at evalmachine.<anonymous>:2:4",
      "    at Script.runInThisContext (node:vm:129:12)",
      "    at Object.runInThisContext (node:vm:313:38)",
      "    at run ([eval]:1020:15)",
      "    at onRunRequest ([eval]:864:18)",
      "    at onMessage ([eval]:828:13)",
      "    at process.emit (node:events:513:28)",
      "    at emit (node:internal/child_process:946:14)",
      "    at processTicksAndRejections (node:internal/process/task_queues:84:21)"
     ]
    }
   ],
   "source": [
    "const PI = 3.14;\n",
    "PI = 3.14159; // assigning a new value to a constant causes an error"
   ]
  },
  {
   "cell_type": "markdown",
   "metadata": {},
   "source": [
    "Let's see an example of using `var` and `let`."
   ]
  },
  {
   "cell_type": "code",
   "execution_count": 16,
   "metadata": {},
   "outputs": [
    {
     "name": "stdout",
     "output_type": "stream",
     "text": [
      "5\n"
     ]
    },
    {
     "ename": "ReferenceError",
     "evalue": "n is not defined",
     "output_type": "error",
     "traceback": [
      "evalmachine.<anonymous>:14",
      "    console.log(n); // A 'let' variable is only visible inside the scope it was defined (in this case, in the 'for' loop).",
      "                ^",
      "",
      "ReferenceError: n is not defined",
      "    at g (evalmachine.<anonymous>:14:17)",
      "    at evalmachine.<anonymous>:18:1",
      "    at Script.runInThisContext (node:vm:129:12)",
      "    at Object.runInThisContext (node:vm:313:38)",
      "    at run ([eval]:1020:15)",
      "    at onRunRequest ([eval]:864:18)",
      "    at onMessage ([eval]:828:13)",
      "    at process.emit (node:events:513:28)",
      "    at emit (node:internal/child_process:946:14)",
      "    at processTicksAndRejections (node:internal/process/task_queues:84:21)"
     ]
    }
   ],
   "source": [
    "function f() {\n",
    "    for(var m = 0; m < 5; m++)\n",
    "    {\n",
    "        // do nothing\n",
    "    }\n",
    "    console.log(m); // A 'var' variable is visible in the entire function in which it is defined.\n",
    "}\n",
    "\n",
    "function g() {\n",
    "    for(let n = 0; n < 5; n++)\n",
    "    {\n",
    "        // do nothing\n",
    "    }\n",
    "    console.log(n); // A 'let' variable is only visible inside the scope it was defined (in this case, in the 'for' loop).\n",
    "}\n",
    "\n",
    "f();\n",
    "g();"
   ]
  },
  {
   "cell_type": "markdown",
   "metadata": {},
   "source": [
    "If we declare a variable (`var` or `let`) outside a function, is becomes a global variable (visible in the entire program)."
   ]
  },
  {
   "cell_type": "code",
   "execution_count": 17,
   "metadata": {},
   "outputs": [
    {
     "name": "stdout",
     "output_type": "stream",
     "text": [
      "5\n",
      "5\n"
     ]
    },
    {
     "data": {
      "text/plain": [
       "undefined"
      ]
     },
     "execution_count": 17,
     "metadata": {},
     "output_type": "execute_result"
    }
   ],
   "source": [
    "var p = 0;\n",
    "let w = 0;\n",
    "\n",
    "function r() {\n",
    "    for(p = 0; p < 5; p++)\n",
    "    {\n",
    "        // do nothing\n",
    "    }\n",
    "    console.log(p);\n",
    "}\n",
    "\n",
    "function s() {\n",
    "    for(w = 0; w < 5; w++)\n",
    "    {\n",
    "        // do nothing\n",
    "    }\n",
    "    console.log(w);\n",
    "}\n",
    "\n",
    "r();\n",
    "s();"
   ]
  },
  {
   "cell_type": "markdown",
   "metadata": {},
   "source": [
    "A `var` variable can be re-declared, whereas a `let` variable can't be re-declared."
   ]
  },
  {
   "cell_type": "code",
   "execution_count": 18,
   "metadata": {},
   "outputs": [
    {
     "ename": "SyntaxError",
     "evalue": "Identifier 'l' has already been declared",
     "output_type": "error",
     "traceback": [
      "evalmachine.<anonymous>:5",
      "let l;",
      "    ^",
      "",
      "SyntaxError: Identifier 'l' has already been declared",
      "    at new Script (node:vm:100:7)",
      "    at createScript (node:vm:265:10)",
      "    at Object.runInThisContext (node:vm:313:10)",
      "    at run ([eval]:1020:15)",
      "    at onRunRequest ([eval]:864:18)",
      "    at onMessage ([eval]:828:13)",
      "    at process.emit (node:events:513:28)",
      "    at emit (node:internal/child_process:946:14)",
      "    at processTicksAndRejections (node:internal/process/task_queues:84:21)"
     ]
    }
   ],
   "source": [
    "var v = 5;\n",
    "var v;\n",
    "\n",
    "let l = 5;\n",
    "let l;"
   ]
  },
  {
   "cell_type": "markdown",
   "metadata": {},
   "source": [
    "## JavaScript Operators\n",
    "\n",
    "JavaScript uses **arithmetic operators** ( `+ - * /` ) to **compute** values."
   ]
  },
  {
   "cell_type": "code",
   "execution_count": 19,
   "metadata": {},
   "outputs": [
    {
     "data": {
      "text/plain": [
       "110"
      ]
     },
     "execution_count": 19,
     "metadata": {},
     "output_type": "execute_result"
    }
   ],
   "source": [
    "(5 + 6) * 10"
   ]
  },
  {
   "cell_type": "markdown",
   "metadata": {},
   "source": [
    "JavaScript uses an **assignment operator** ( `=` ) to **assign** values to variables:"
   ]
  },
  {
   "cell_type": "code",
   "execution_count": 20,
   "metadata": {},
   "outputs": [
    {
     "data": {
      "text/plain": [
       "6"
      ]
     },
     "execution_count": 20,
     "metadata": {},
     "output_type": "execute_result"
    }
   ],
   "source": [
    "var x, y;\n",
    "x = 5;\n",
    "y = 6;"
   ]
  },
  {
   "cell_type": "markdown",
   "metadata": {},
   "source": [
    "## JavaScript Expressions\n",
    "\n",
    "An expression is a combination of values, variables, and operators, which computes to a value.\n",
    "\n",
    "The computation is called an evaluation.\n",
    "\n",
    "For example, 5 * 10 evaluates to 50."
   ]
  },
  {
   "cell_type": "code",
   "execution_count": 21,
   "metadata": {},
   "outputs": [
    {
     "data": {
      "text/plain": [
       "50"
      ]
     },
     "execution_count": 21,
     "metadata": {},
     "output_type": "execute_result"
    }
   ],
   "source": [
    "5 * 10"
   ]
  },
  {
   "cell_type": "markdown",
   "metadata": {},
   "source": [
    "Expressions can also contain variable values."
   ]
  },
  {
   "cell_type": "code",
   "execution_count": 22,
   "metadata": {},
   "outputs": [
    {
     "data": {
      "text/plain": [
       "50"
      ]
     },
     "execution_count": 22,
     "metadata": {},
     "output_type": "execute_result"
    }
   ],
   "source": [
    "x * 10"
   ]
  },
  {
   "cell_type": "markdown",
   "metadata": {},
   "source": [
    "The values can be of various types, such as numbers and strings.\n",
    "\n",
    "For example, \"John\" + \" \" + \"Doe\", evaluates to \"John Doe\"."
   ]
  },
  {
   "cell_type": "code",
   "execution_count": 23,
   "metadata": {},
   "outputs": [
    {
     "data": {
      "text/plain": [
       "'John Doe'"
      ]
     },
     "execution_count": 23,
     "metadata": {},
     "output_type": "execute_result"
    }
   ],
   "source": [
    "\"John\" + \" \" + \"Doe\""
   ]
  },
  {
   "cell_type": "markdown",
   "metadata": {},
   "source": [
    "## JavaScript Comments\n",
    "\n",
    "Not all JavaScript statements are \"executed\".\n",
    "\n",
    "Code after double slashes // or between /* and */ is treated as a **comment**.\n",
    "\n",
    "Comments are ignored, and will not be executed."
   ]
  },
  {
   "cell_type": "code",
   "execution_count": 24,
   "metadata": {},
   "outputs": [
    {
     "data": {
      "text/plain": [
       "undefined"
      ]
     },
     "execution_count": 24,
     "metadata": {},
     "output_type": "execute_result"
    }
   ],
   "source": [
    "var x = 5;   // I will be executed\n",
    "\n",
    "// var x = 6;   I will NOT be executed\n",
    "\n",
    "// This is a single line comment (anything after // on a line will be treated as a comment)\n",
    "\n",
    "/*\n",
    "This is a multi-line comment\n",
    "(anything between the starting dash-star and\n",
    "ending star-dash will be treated as a comment.)\n",
    "*/"
   ]
  },
  {
   "cell_type": "markdown",
   "metadata": {},
   "source": [
    "## JavaScript Identifiers\n",
    "\n",
    "Identifiers are names.\n",
    "\n",
    "In JavaScript, identifiers are used to name variables (and keywords, and functions, and labels).\n",
    "\n",
    "The rules for legal names are much the same in most programming languages.\n",
    "\n",
    "In JavaScript, the first character must be a letter, or an underscore (_), or a dollar sign ($).\n",
    "\n",
    "Subsequent characters may be letters, digits, underscores, or dollar signs."
   ]
  },
  {
   "cell_type": "code",
   "execution_count": 25,
   "metadata": {},
   "outputs": [
    {
     "data": {
      "text/plain": [
       "undefined"
      ]
     },
     "execution_count": 25,
     "metadata": {},
     "output_type": "execute_result"
    }
   ],
   "source": [
    "// Legal identifier names.\n",
    "var x1;\n",
    "var _x2;\n",
    "var $x3;\n",
    "\n",
    "// An identifier can't start with a number.\n",
    "// var 3x;"
   ]
  },
  {
   "cell_type": "markdown",
   "metadata": {},
   "source": [
    "## JavaScript is Case Sensitive\n",
    "\n",
    "All JavaScript identifiers are case sensitive. \n",
    "\n",
    "The variables `lastname` and `lastName`, are two different variables."
   ]
  },
  {
   "cell_type": "code",
   "execution_count": 26,
   "metadata": {},
   "outputs": [
    {
     "name": "stdout",
     "output_type": "stream",
     "text": [
      "Peterson\n",
      "Doe\n"
     ]
    },
    {
     "data": {
      "text/plain": [
       "undefined"
      ]
     },
     "execution_count": 26,
     "metadata": {},
     "output_type": "execute_result"
    }
   ],
   "source": [
    "var lastname = \"Peterson\";\n",
    "var lastName = \"Doe\";\n",
    "console.log(lastname);\n",
    "console.log(lastName);"
   ]
  },
  {
   "cell_type": "markdown",
   "metadata": {},
   "source": [
    "JavaScript does not interpret **VAR** or **Var** as the keyword `var`."
   ]
  },
  {
   "cell_type": "code",
   "execution_count": 27,
   "metadata": {},
   "outputs": [
    {
     "data": {
      "text/plain": [
       "undefined"
      ]
     },
     "execution_count": 27,
     "metadata": {},
     "output_type": "execute_result"
    }
   ],
   "source": [
    "var VAR;\n",
    "var Var;"
   ]
  },
  {
   "cell_type": "markdown",
   "metadata": {},
   "source": [
    "## JavaScript and Camel Case\n",
    "\n",
    "JavaScript uses the **camelCase** naming convention for naming identifiers (i.e., the first letter in an identifier is lower-case, and each subsequent word in the identifier starts with a capital letter).\n",
    "\n",
    "Other programming languages might use **PascalCase** (each word in an identifier starts with a capital letter) or **snake-case** (each word in an identifier is separated with an underscore) hyphen. JavaScript doesn't support separating words in an identifier with hyphens, e.g. `my-variable`."
   ]
  },
  {
   "cell_type": "code",
   "execution_count": 28,
   "metadata": {},
   "outputs": [
    {
     "data": {
      "text/plain": [
       "undefined"
      ]
     },
     "execution_count": 28,
     "metadata": {},
     "output_type": "execute_result"
    }
   ],
   "source": [
    "var myVariable; // camelCase (convention used in JavaScript for naming variables, functions, etc.)\n",
    "var MyVariable; // PascalCase (convention used in e.g. C# for naming functions)\n",
    "var my_variable; // Snake Case (convention used in e.g. Python for naming variables)\n",
    "\n",
    "//var my-variable // Separating words in an identifier with hyphens is not supported in JavaScript"
   ]
  },
  {
   "cell_type": "markdown",
   "metadata": {},
   "source": [
    "## JavaScript Character Set\n",
    "\n",
    "JavaScript uses the [Unicode character set](https://www.w3schools.com/charsets/ref_html_utf8.asp).\n",
    "\n",
    "Unicode covers (almost) all the characters, punctuations, and symbols in the world."
   ]
  },
  {
   "cell_type": "markdown",
   "metadata": {},
   "source": [
    "## JavaScript Functions\n",
    "\n",
    "A function can take 0 to many input parameters, and can return one value."
   ]
  },
  {
   "cell_type": "code",
   "execution_count": 29,
   "metadata": {},
   "outputs": [
    {
     "data": {
      "text/plain": [
       "3"
      ]
     },
     "execution_count": 29,
     "metadata": {},
     "output_type": "execute_result"
    }
   ],
   "source": [
    "function myFunction(x,y) {\n",
    "    return x + y;\n",
    "}\n",
    "\n",
    "myFunction(1,2);"
   ]
  },
  {
   "cell_type": "markdown",
   "metadata": {},
   "source": [
    "A function can have \"default values\", e.g. below the parameter `y` is given a default value of 2.\n",
    "\n",
    "If we don't supply a value for a parameter with a default value when we call the function, it uses its default value."
   ]
  },
  {
   "cell_type": "code",
   "execution_count": 30,
   "metadata": {},
   "outputs": [
    {
     "data": {
      "text/plain": [
       "3"
      ]
     },
     "execution_count": 30,
     "metadata": {},
     "output_type": "execute_result"
    }
   ],
   "source": [
    "function myFunction(x,y=2) {\n",
    "    return x + y;\n",
    "}\n",
    "\n",
    "myFunction(1);"
   ]
  },
  {
   "cell_type": "markdown",
   "metadata": {},
   "source": [
    "A function that doesn't explicitly return a value (with the `return` keyword), returns the value `undefined`."
   ]
  },
  {
   "cell_type": "code",
   "execution_count": 31,
   "metadata": {},
   "outputs": [
    {
     "data": {
      "text/plain": [
       "undefined"
      ]
     },
     "execution_count": 31,
     "metadata": {},
     "output_type": "execute_result"
    }
   ],
   "source": [
    "function myFunction(x,y=2) {\n",
    "    \n",
    "}\n",
    "\n",
    "myFunction(1);"
   ]
  },
  {
   "cell_type": "markdown",
   "metadata": {},
   "source": [
    "A function is a \"first-class-citizen\", i.e. we can assign a function to a variable (in essence, a \"function pointer\"). Then we can call the function through its variable (\"function pointer\")."
   ]
  },
  {
   "cell_type": "code",
   "execution_count": 32,
   "metadata": {},
   "outputs": [
    {
     "data": {
      "text/plain": [
       "3"
      ]
     },
     "execution_count": 32,
     "metadata": {},
     "output_type": "execute_result"
    }
   ],
   "source": [
    "let functionVariable = function myFunction(x,y) {\n",
    "    return x + y;\n",
    "}\n",
    "\n",
    "functionVariable(1,2);"
   ]
  },
  {
   "cell_type": "markdown",
   "metadata": {},
   "source": [
    "Since functions are \"first-class-citizens\", we can pass a function variable (\"function pointer\") as an argument to another function."
   ]
  },
  {
   "cell_type": "code",
   "execution_count": 33,
   "metadata": {},
   "outputs": [
    {
     "data": {
      "text/plain": [
       "3"
      ]
     },
     "execution_count": 33,
     "metadata": {},
     "output_type": "execute_result"
    }
   ],
   "source": [
    "function anotherFunction(f) {\n",
    "    return f(1,2);\n",
    "}\n",
    "\n",
    "anotherFunction(functionVariable);"
   ]
  },
  {
   "cell_type": "markdown",
   "metadata": {},
   "source": [
    "## Data Types\n",
    "\n",
    "JavaScript has 3 primitive data types:\n",
    "- number\n",
    "- string\n",
    "- boolean"
   ]
  },
  {
   "cell_type": "code",
   "execution_count": 34,
   "metadata": {},
   "outputs": [
    {
     "data": {
      "text/plain": [
       "undefined"
      ]
     },
     "execution_count": 34,
     "metadata": {},
     "output_type": "execute_result"
    }
   ],
   "source": [
    "var i = 3;        // integer (a number)\n",
    "var f = 3.14;     // float (a number)\n",
    "var s = 'string'; // string\n",
    "var b = true;     // boolean (true or false)"
   ]
  },
  {
   "cell_type": "markdown",
   "metadata": {},
   "source": [
    "We can check the underlying type of a variable with the `typeof` operator."
   ]
  },
  {
   "cell_type": "code",
   "execution_count": 35,
   "metadata": {},
   "outputs": [
    {
     "data": {
      "text/plain": [
       "'number'"
      ]
     },
     "execution_count": 35,
     "metadata": {},
     "output_type": "execute_result"
    }
   ],
   "source": [
    "typeof i;"
   ]
  },
  {
   "cell_type": "code",
   "execution_count": 36,
   "metadata": {},
   "outputs": [
    {
     "data": {
      "text/plain": [
       "'number'"
      ]
     },
     "execution_count": 36,
     "metadata": {},
     "output_type": "execute_result"
    }
   ],
   "source": [
    "typeof f;"
   ]
  },
  {
   "cell_type": "code",
   "execution_count": 37,
   "metadata": {},
   "outputs": [
    {
     "data": {
      "text/plain": [
       "'string'"
      ]
     },
     "execution_count": 37,
     "metadata": {},
     "output_type": "execute_result"
    }
   ],
   "source": [
    "typeof s;"
   ]
  },
  {
   "cell_type": "code",
   "execution_count": 38,
   "metadata": {},
   "outputs": [
    {
     "data": {
      "text/plain": [
       "'boolean'"
      ]
     },
     "execution_count": 38,
     "metadata": {},
     "output_type": "execute_result"
    }
   ],
   "source": [
    "typeof b;"
   ]
  },
  {
   "cell_type": "markdown",
   "metadata": {},
   "source": [
    "JavaScript has 4 complex data types:\n",
    "- object\n",
    "- array\n",
    "- function"
   ]
  },
  {
   "cell_type": "code",
   "execution_count": 39,
   "metadata": {},
   "outputs": [
    {
     "data": {
      "text/plain": [
       "undefined"
      ]
     },
     "execution_count": 39,
     "metadata": {},
     "output_type": "execute_result"
    }
   ],
   "source": [
    "var o = {\"one\":3,\"two\":3.14, \"three\":\"string\", \"four\":false}; // object (key-value pairs)\n",
    "var a = [3, 3.14, \"string\", false]; // array\n",
    "var f = function(x,y) { return x+y; };"
   ]
  },
  {
   "cell_type": "markdown",
   "metadata": {},
   "source": [
    "We can also check the underlying type for these with the `typeof` operator."
   ]
  },
  {
   "cell_type": "code",
   "execution_count": 40,
   "metadata": {},
   "outputs": [
    {
     "data": {
      "text/plain": [
       "'object'"
      ]
     },
     "execution_count": 40,
     "metadata": {},
     "output_type": "execute_result"
    }
   ],
   "source": [
    "typeof o;"
   ]
  },
  {
   "cell_type": "code",
   "execution_count": 41,
   "metadata": {},
   "outputs": [
    {
     "data": {
      "text/plain": [
       "'object'"
      ]
     },
     "execution_count": 41,
     "metadata": {},
     "output_type": "execute_result"
    }
   ],
   "source": [
    "typeof a;"
   ]
  },
  {
   "cell_type": "code",
   "execution_count": 42,
   "metadata": {},
   "outputs": [
    {
     "data": {
      "text/plain": [
       "'function'"
      ]
     },
     "execution_count": 42,
     "metadata": {},
     "output_type": "execute_result"
    }
   ],
   "source": [
    "typeof f;"
   ]
  },
  {
   "cell_type": "markdown",
   "metadata": {},
   "source": [
    "We see that an array is also a type of `object`."
   ]
  },
  {
   "cell_type": "markdown",
   "metadata": {},
   "source": [
    "ECMAScript 2015, also known as ES6, introduced JavaScript Classes.\n",
    "\n",
    "JavaScript Classes are templates for JavaScript Objects."
   ]
  },
  {
   "cell_type": "code",
   "execution_count": 43,
   "metadata": {},
   "outputs": [
    {
     "name": "stdout",
     "output_type": "stream",
     "text": [
      "My vehicle is 8 years old.\n"
     ]
    },
    {
     "data": {
      "text/plain": [
       "undefined"
      ]
     },
     "execution_count": 43,
     "metadata": {},
     "output_type": "execute_result"
    }
   ],
   "source": [
    "class Vehicle {\n",
    "    constructor(year) {\n",
    "        this.year = year;\n",
    "    }\n",
    "    \n",
    "    age() {\n",
    "        let date = new Date();\n",
    "        return date.getFullYear() - this.year;\n",
    "    }\n",
    "}\n",
    "\n",
    "let myVehicle = new Vehicle(2014);\n",
    "console.log(\"My vehicle is \" + myVehicle.age() + \" years old.\");"
   ]
  },
  {
   "cell_type": "markdown",
   "metadata": {},
   "source": [
    "An instance of a class is also a type of `object`."
   ]
  },
  {
   "cell_type": "code",
   "execution_count": 44,
   "metadata": {},
   "outputs": [
    {
     "data": {
      "text/plain": [
       "'object'"
      ]
     },
     "execution_count": 44,
     "metadata": {},
     "output_type": "execute_result"
    }
   ],
   "source": [
    "typeof myVehicle;"
   ]
  },
  {
   "cell_type": "markdown",
   "metadata": {},
   "source": [
    " JavaScript classes support inheritance, but not true encapsulation and true polymorphism."
   ]
  },
  {
   "cell_type": "code",
   "execution_count": 45,
   "metadata": {},
   "outputs": [
    {
     "name": "stdout",
     "output_type": "stream",
     "text": [
      "My car is a Ford.\n"
     ]
    },
    {
     "data": {
      "text/plain": [
       "undefined"
      ]
     },
     "execution_count": 45,
     "metadata": {},
     "output_type": "execute_result"
    }
   ],
   "source": [
    "class Car extends Vehicle {\n",
    "    constructor(year, name) {\n",
    "        super(year);\n",
    "        this.name = name;\n",
    "    }\n",
    "    \n",
    "    getName() {\n",
    "        return this.name;\n",
    "    }\n",
    "}\n",
    "\n",
    "let myCar = new Car(2014, \"Ford\");\n",
    "console.log(\"My car is a \" + myCar.getName() + \".\");"
   ]
  },
  {
   "cell_type": "markdown",
   "metadata": {},
   "source": [
    "## Flow Control\n",
    "\n",
    "We can control the flow through a JavaScript program using e.g. `for` loops, `if ... else` statements and `switch` statements (many more constructs are available)."
   ]
  },
  {
   "cell_type": "code",
   "execution_count": 46,
   "metadata": {},
   "outputs": [
    {
     "name": "stdout",
     "output_type": "stream",
     "text": [
      "0\n",
      "1\n",
      "2\n",
      "3\n",
      "4\n"
     ]
    },
    {
     "data": {
      "text/plain": [
       "undefined"
      ]
     },
     "execution_count": 46,
     "metadata": {},
     "output_type": "execute_result"
    }
   ],
   "source": [
    "for(var i=0; i<5; i++) {\n",
    "    console.log(i);\n",
    "}"
   ]
  },
  {
   "cell_type": "code",
   "execution_count": 47,
   "metadata": {},
   "outputs": [
    {
     "name": "stdout",
     "output_type": "stream",
     "text": [
      "Slow down!\n"
     ]
    },
    {
     "data": {
      "text/plain": [
       "undefined"
      ]
     },
     "execution_count": 47,
     "metadata": {},
     "output_type": "execute_result"
    }
   ],
   "source": [
    "var speed = 150;\n",
    "if (speed <= 30) {\n",
    "    console.log('Speed up!');\n",
    "} else if (speed >= 110) {\n",
    "    console.log('Slow down!');\n",
    "} else {\n",
    "    console.log('Sweet!');\n",
    "}"
   ]
  },
  {
   "cell_type": "code",
   "execution_count": 48,
   "metadata": {},
   "outputs": [
    {
     "name": "stdout",
     "output_type": "stream",
     "text": [
      "Excellent!\n"
     ]
    },
    {
     "data": {
      "text/plain": [
       "undefined"
      ]
     },
     "execution_count": 48,
     "metadata": {},
     "output_type": "execute_result"
    }
   ],
   "source": [
    "var grade = '5';\n",
    "switch(grade) {\n",
    "    case '5':\n",
    "        console.log('Excellent!');\n",
    "        break;\n",
    "    case '4':\n",
    "        console.log('Very Good!');\n",
    "        break;\n",
    "    case '3':\n",
    "        console.log('Good!');\n",
    "        break;\n",
    "    case 'U':\n",
    "        console.log('So Close!');\n",
    "        break;\n",
    "    default:\n",
    "        console.log('Unsupported Grade!');\n",
    "        break;\n",
    "}"
   ]
  },
  {
   "cell_type": "markdown",
   "metadata": {},
   "source": [
    "To learn more about JavaScript, see e.g. this [link](https://www.w3schools.com/js/default.asp)."
   ]
  },
  {
   "cell_type": "code",
   "execution_count": null,
   "metadata": {},
   "outputs": [],
   "source": []
  }
 ],
 "metadata": {
  "kernelspec": {
   "display_name": "Javascript (Node.js)",
   "language": "javascript",
   "name": "javascript"
  },
  "language_info": {
   "file_extension": ".js",
   "mimetype": "application/javascript",
   "name": "javascript",
   "version": "16.18.0"
  }
 },
 "nbformat": 4,
 "nbformat_minor": 5
}
