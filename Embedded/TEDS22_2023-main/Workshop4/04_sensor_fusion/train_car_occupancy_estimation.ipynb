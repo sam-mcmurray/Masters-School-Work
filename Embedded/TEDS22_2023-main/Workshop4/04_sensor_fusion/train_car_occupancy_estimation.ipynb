{
 "cells": [
  {
   "cell_type": "markdown",
   "metadata": {},
   "source": [
    "# Demo: Sensor Fusion\n",
    "\n",
    "Adapted from [Datascope's Sensor Fusion Tutorial](https://www.ideo.com/datascope/sensor-fusion-tutorial) (the GitHub repository can be found [here](https://github.com/datascopeanalytics/sensor_fusion))\n",
    "\n",
    "In this demo, sensor fusion using Bayesian updates are demonstrated when trying to estimate the number of occupants in train cars using information (readings) from carbondioxide sensors and temperature sensors.\n",
    "\n",
    "The actual Bayesian update is perfomed by the method `bayesian_update()` in the `Gausian` class in the `kalman.py` file.\n",
    "\n",
    "```python\n",
    "def bayesian_update(self, other):\n",
    "        sigma_sum = self.sigma**2 + other.sigma**2\n",
    "        self.mu = ((self.sigma**2) * other.mu + (other.sigma**2) * self.mu) / sigma_sum\n",
    "        self.sigma = np.sqrt(((self.sigma * other.sigma)**2) / sigma_sum)\n",
    "```"
   ]
  },
  {
   "cell_type": "markdown",
   "metadata": {},
   "source": [
    "In the method `bayesian_update()` we are combining (fusing) two Gaussian probability distributions (with parameters $\\mu$ and $\\sigma$), from two different sensors, to get a better overall estimate of the number of occupants in a car train, according to the update below:\n",
    "\n",
    "$$\n",
    "\\mu = \\frac{\\sigma^2_{1} \\mu_{2} + \\sigma^2_{2} \\mu_{1}}{ \\sigma^2_{2} + \\sigma^2_{1}}\n",
    "$$\n",
    "\n",
    "$$\n",
    "\\sigma = \\frac{\\sigma^2_{2} \\sigma^2_{1}}{\\sigma^2_{2} + \\sigma^2_{1}}\n",
    "$$"
   ]
  },
  {
   "cell_type": "markdown",
   "metadata": {},
   "source": [
    "In order to run this simulation, you need to install the python packages below:\n",
    "\n",
    "`pip install traces`\n",
    "\n",
    "`pip install seaborn`\n",
    "\n",
    "Then, in the terminal, make sure you are in the `Workshop4/04_sensor_fusion` folder, and execute the command below:\n",
    "\n",
    "`python main.py`\n",
    "\n",
    "This will produce som figures in various subfolders:\n",
    "\n",
    "- `experiment_plots` visualizes the models (linear regression) of the carbondioxide sensor and the temperature sensor, using a number of samples (where each data point is a sensor reading, paired with the actual occupancy at that point in time).\n",
    "\n",
    "- `reading_plots` contains the probability distributions for the individual sensors, including the combined probability distribution after a Bayesian update.\n",
    "\n",
    "- `04_sensor_fusion` contains the animated gif file `30minutes.gif`, showing the Bayesian updates applied to estimate the train car occupancy in real-time over 30 minutes.\n",
    "\n",
    "We will examine Bayesian updates with the Kalman filter more in detail next week, when be cover object tracking and SLAM."
   ]
  },
  {
   "cell_type": "code",
   "execution_count": null,
   "metadata": {},
   "outputs": [],
   "source": []
  }
 ],
 "metadata": {
  "kernelspec": {
   "display_name": "Python 3.9.13 ('.venv': venv)",
   "language": "python",
   "name": "python3"
  },
  "language_info": {
   "codemirror_mode": {
    "name": "ipython",
    "version": 3
   },
   "file_extension": ".py",
   "mimetype": "text/x-python",
   "name": "python",
   "nbconvert_exporter": "python",
   "pygments_lexer": "ipython3",
   "version": "3.9.13"
  },
  "orig_nbformat": 2,
  "vscode": {
   "interpreter": {
    "hash": "a8159fd93c66e7d8d0e5af4b494b7ac885c17c604ffb25abe09796ec175b3861"
   }
  }
 },
 "nbformat": 4,
 "nbformat_minor": 2
}
