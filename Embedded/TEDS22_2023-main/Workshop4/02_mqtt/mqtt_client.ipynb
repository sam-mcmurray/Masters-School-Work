{
 "cells": [
  {
   "cell_type": "markdown",
   "metadata": {},
   "source": [
    "# MQTT\n",
    "\n",
    "In this exercise you will learn:\n",
    "- How to use the MQTT client.\n",
    "- How to use the Mosquitto MQTT server.\n",
    "\n",
    "## Install the Mosquitto MQTT Server\n",
    "\n",
    "1. Use [this link](https://mosquitto.org/download) to downlaod and install the Mosquitto MQTT Server.\n",
    "2. Make sure the mosquitto executable file is on your path.\n",
    "3. Make sure to [stop the Mosquitto MQTT service](http://www.steves-internet-guide.com/mosquitto-broker/#:~:text=On%20Windows%20you%20can%20stop,control%20panel%3Eadmin%3Eservices.&text=By%20default%20the%20broker%20will%20start%20listening%20on%20port%201883.).\n",
    "\n",
    "You can start the Mosquitto MQTT Server from the command prompt with `mosquitto -v`.  \n",
    "You can stop the Mosquitto MQTT Server from the command prompt with `<ctrl> + <c>`.\n",
    "\n",
    "The Mosquitto MQTT server uses port `1883` as default (but can be changed with the flag `-p <port>`)."
   ]
  },
  {
   "cell_type": "markdown",
   "metadata": {},
   "source": [
    "As a first step, let's import the python modules we need."
   ]
  },
  {
   "cell_type": "code",
   "execution_count": 1,
   "metadata": {},
   "outputs": [],
   "source": [
    "import paho.mqtt.client as mqtt # pip install paho.mqtt\n",
    "import time"
   ]
  },
  {
   "cell_type": "markdown",
   "metadata": {},
   "source": [
    "## The MQTT Architecture\n",
    "\n",
    "As default, the MQTT client is used to communicate with a MQTT Server running a MQTT Broker service.\n",
    "\n",
    "Let's look at a simple scenario, where we have:\n",
    "\n",
    "1. One device (say a Raspberry Pi), with one temperature sensor connected to it, running an MQTT client.\n",
    "2. One device (say an Android or iOS mobile phone) running an MQTT client.\n",
    "3. One device (say a Web Server) running an MQTT client.\n",
    "4. One device (say another Raspberry Pi) running an MQTT Broker on an MQTT Server.\n",
    "\n",
    "Device 1 (MQTT client) samples the temperature from the attached temperature sensor (with a certain sampling frequency) and sends this reading to the MQTT Broker running on the MQTT server (Device 4).\n",
    "\n",
    "The MQTT Broker on Device 4 (MQTT server) receives messages (temperature readings) from Device 1 (MQTT client), and forwards them to Device 2 and 3 (MQTT clients).\n",
    "\n",
    "Device 2 and 3 (MQTT clients) receive messages (temperature readings) from the MQTT Broker on the MQTT server (Device 4).\n",
    "\n",
    "\n",
    "<img width=\"800\" height=\"300\" src=\"../../notebook_images/mqtt-publish-subscribe.png\">\n",
    "\n",
    "## The Publish/Subscribe Pattern\n",
    "\n",
    "The Publish/Subscribe Pattern has Publishers and Subscribers:\n",
    "- A **publisher** *publishes* **messages** to a specific **topic**.\n",
    "  - A **topic** can be compared with a mail box with a unique address.\n",
    "  - A **topic** is simply a string with a unique value, e.g. \"building1/room2/temperature3\".\n",
    "  - A **topic** is unique for a specific MQTT Broker (i.e. compare the broker with a post office containing the mail boxes).\n",
    "  - A **message** *published* to a specific **topic** ends up in the unqiue mail box on the MQTT Broker.\n",
    "- A **subscriber** *subscribes* to a specific **topic**.\n",
    "  - Any **message** *published* by a **publisher** to a specific **topic**, is sent to all **subscribers** *subscribed* to that **topic**.\n",
    "\n",
    "In our example scenario above:\n",
    "\n",
    "1. All MQTT clients (Device 1, 2 and 3) connect to the MQTT server (Device 4) running the MQTT broker.\n",
    "2. Device 2 and 3 (MQTT clients) subscribe to the topic \"temperature\" on the MQTT broker running on the MQTT server (Device 4).\n",
    "3. Device 1 (MQTT client) publishes temperature readings (messages) to topic \"temperature\".\n",
    "4. The MQTT broker on Device 4 (MQTT server) receives the message for topic \"temperature\" from Device 1 (MQTT client).\n",
    "5. The MQTT broker on Device 4 (MQTT server) sends the message for topic \"temperature\" to MQTT clients subscribed to topic \"temperature\" (Device 2 and 3)."
   ]
  },
  {
   "cell_type": "markdown",
   "metadata": {},
   "source": [
    "## The MQTT Client Message Loop\n",
    "\n",
    "<img width=\"500\" height=\"300\" src=\"../../notebook_images/loop-function-illustration.jpg\" style=\"float: right;\">\n",
    "\n",
    "Each MQTT Client has a **Message Loop** that runs on a separate background thread and is responsible for:\n",
    "- Sending messages to the MQTT broker on the MQTT server.\n",
    "- Receiving messages from the MQTT broker on the MQTT server.\n",
    "\n",
    "When an MQTT client publishes a message to a specific topic:\n",
    "\n",
    "1. The message is queued in an **outgoing message buffer**.\n",
    "2. The message loop *pops* the next message from the **outgoing message buffer** and sends it to the MQTT broker on the MQTT server.\n",
    "\n",
    "When an MQTT client receives message from the MQTT boker for a specific topic:\n",
    "\n",
    "1. The message is queued in an **incoming message buffer**.\n",
    "2. The message loop *pops* the next message from the **incoming message buffer** and **raises an on_message event**.\n",
    "3. The MQTT client **handles** the message via its **on_message event handler** (callback function)."
   ]
  },
  {
   "cell_type": "markdown",
   "metadata": {},
   "source": [
    "## Simple Example\n",
    "\n",
    "Let's look at a very simple example, where:\n",
    "- We have one MQTT client that publishes and subscribes to the same topic.\n",
    "- We have an MQTT broker running as a service on a MQTT server in the cloud.\n",
    "  - The Mosquitto MQTT cloud server \"test.mosquitto.org\" can be used during development.\n",
    "\n",
    "Let's start be creating our **on_message** callback function (event handler) to receive incoming message events from the message loop.\n",
    "\n",
    "The **on_message** callback function (event handler) expects three input parameters:\n",
    "- `client` represents the client that sent the message.\n",
    "- `userdata` is any additional data about the client that sent the message (set by the client).\n",
    "- `message` is the received message.\n",
    "\n",
    "We are mostly interested in the `message` parameter in this example, which has the properties:\n",
    "- `payload` contains the actual message.\n",
    "- `topic` contains the topic for the message.\n",
    "- `qos` contains the level of quality of service for the message.\n",
    "- `retain` contains the value of a retain flag for the message.\n",
    "\n",
    "We are mostly interested in the `payload` in this example:\n",
    "- To extract the message, we use: `message.payload.decode('utf-8')`"
   ]
  },
  {
   "cell_type": "code",
   "execution_count": 2,
   "metadata": {},
   "outputs": [],
   "source": [
    "# Create an \"on_message\" callback function (event handler) for the \"on_message\" event\n",
    "def on_message(client, userdata, message):\n",
    "    print(f\"\\nmessage payload: {message.payload.decode('utf-8')}\")\n",
    "    print(f\"message topic: {message.topic}\")\n",
    "    print(f\"message qos: {message.qos}\")\n",
    "    print(f\"message retain flag: {message.retain}\")"
   ]
  },
  {
   "cell_type": "markdown",
   "metadata": {},
   "source": [
    "Next we will:\n",
    "- Create an instance of a MQTT client.\n",
    "- Attach our **on_message** callback function (event handler) to the client instance's **on_message** property.\n",
    "\n",
    "The MQTT Client class has a constructor with the following default parameters:\n",
    "- `client_id = ''`\n",
    "- `clean_session = None`\n",
    "- `userdata = None`\n",
    "- `protocol = 4`\n",
    "- `transport = 'tcp'`\n",
    "\n",
    "We are mostly interested in the `client_id` in this example, which we will use to set an ID for the client (that the MQTT broker can use to identify the MQTT client)."
   ]
  },
  {
   "cell_type": "code",
   "execution_count": 3,
   "metadata": {},
   "outputs": [
    {
     "name": "stdout",
     "output_type": "stream",
     "text": [
      "creating new instance\n"
     ]
    }
   ],
   "source": [
    "print(\"creating new instance\")\n",
    "client = mqtt.Client(\"P1\")     # create new instance (the ID, in this case \"P1\", must be unique)\n",
    "client.on_message = on_message # attach \"on_message\" callback function (event handler) to \"on_message\" event"
   ]
  },
  {
   "cell_type": "markdown",
   "metadata": {},
   "source": [
    "Once we have a MQTT client instance, with an **on_message** callback function (event handler) attached, we can use the MQTT client's following methods (functions):\n",
    "- `connect(broker_address)` to connect to the MQTT broker running on the MQTT server with address `broker_address` (IP or DNS).\n",
    "- `loop_start()` to start the **message loop**.\n",
    "- `subscribe(topic)` to subscribe to the topic `topic`.\n",
    "- `publish(topic, message)` to publish the message (payload) `message` to the topic `topic`.\n",
    "- `unsubscribe(topic)` to unsubscribe from the topic `topic`.\n",
    "- `loop_stop()` to stop the **message loop**.\n",
    "- `disconnect()` to disconnect from the MQTT broker on the MQTT server.\n",
    "\n",
    "Note:\n",
    "- Some of the functions above accept additional input parameters (but we will use the default values in this example).\n",
    "- The `broker_address` can be an IP Address or DNS name (domain name).\n",
    "- We can set `broker_address` to:\n",
    "  - `test.mosquitto.org` in order to use the test MQTT cloud server for development purposes.\n",
    "  - To the IP or DNS of any other machine running an MQTT server, e.g. the [Mosquitto MQTT server](https://mosquitto.org/download)."
   ]
  },
  {
   "cell_type": "code",
   "execution_count": 4,
   "metadata": {},
   "outputs": [
    {
     "name": "stdout",
     "output_type": "stream",
     "text": [
      "connecting to broker\n",
      "Subscribing to topic: house/bulbs/bulb1\n",
      "Publishing message 'OFF' to topic: house/bulbs/bulb1\n",
      "Unsubscribing from topic: house/bulbs/bulb1\n",
      "\n",
      "message payload: OFF\n",
      "message topic: house/bulbs/bulb1\n",
      "message qos: 0\n",
      "message retain flag: 0\n",
      "\n",
      "disconnecting from broker\n"
     ]
    }
   ],
   "source": [
    "#broker_address = \"localhost\" # Use your own MQTT Server IP Adress (or domain name) here, or ...\n",
    "broker_address = \"test.mosquitto.org\" # ... use the Mosquitto test server during development\n",
    "\n",
    "# Use exception handling (try...except in Python)\n",
    "try:\n",
    "    print(\"connecting to broker\")\n",
    "    client.connect(broker_address) # connect to broker\n",
    "    client.loop_start()            # start the event processing loop\n",
    "\n",
    "    print(\"Subscribing to topic: house/bulbs/bulb1\")\n",
    "    client.subscribe(\"house/bulbs/bulb1\") # subscribe\n",
    "\n",
    "    print(\"Publishing message 'OFF' to topic: house/bulbs/bulb1\")\n",
    "    client.publish(\"house/bulbs/bulb1\", \"OFF\") # publish\n",
    "\n",
    "    print(\"Unsubscribing from topic: house/bulbs/bulb1\")\n",
    "    client.unsubscribe(\"house/bulbs/bulb1\") # unsubscribe\n",
    "\n",
    "    time.sleep(4)       # wait 4 seconds before stopping the event processing loop (so all pending events are processed)\n",
    "    client.loop_stop()  # stop the event processing loop\n",
    "\n",
    "    print(\"\\ndisconnecting from broker\")\n",
    "    client.disconnect() # disconnect from broker\n",
    "except Exception as e:\n",
    "    # if we receive an exception (error) in the \"try\" block,\n",
    "    # handle it here, by printing out the error message\n",
    "    print(f\"connection error: {e}\")"
   ]
  },
  {
   "cell_type": "markdown",
   "metadata": {},
   "source": [
    "If you want to download and try running the [Mosquitto MQTT server](https://mosquitto.org/download) on your own machine (instead of connecting to the cloud server \"test.mosquitto.org\"), start the Mosquitto MQTT server from the command line with the following command (the `-v` flag means \"verbose\"):\n",
    "\n",
    "`mosquitto -v`\n",
    "\n",
    "As default the Mosquitto server listens on port `1883`, which you can change using the flag `-p <port>`, e.g.:\n",
    "\n",
    "`mosquitto -v -p 8080`\n",
    "\n",
    "In that case, your MQTT client needs to connect to your own computer's IP Address (or host name) using that port, e.g.:\n",
    "\n",
    "`client.connect(ip_or_host, port=8080)`\n",
    "\n",
    "If you need to find you computer's Hostname and/or local IP Address, your can use this Python code:\n",
    "\n",
    "```python\n",
    "import socket\n",
    "\n",
    "hostname = socket.gethostname()\n",
    "local_ip = socket.gethostbyname(hostname)\n",
    "\n",
    "print(hostname)\n",
    "print(local_ip)\n",
    "```\n",
    "\n",
    "You can also use the `ipconfig` (Windows) or `ifconfig` (Linux, MacOS) commands in the terminal.\n",
    "\n",
    "The easiest is probably just to connect to `localhost` during development when running Mosquitto on your own computer.\n",
    "\n",
    "Note that the Mosquitto executable `mosquitto` needs to be on your PATH, and you need to stop the service for the Mosquitto server (the installation program configures Mosquitto to run as a service by default), otherwise you won't see any print-outs from the Mosquitto server in your terminal.\n",
    "\n",
    "For more information about the MQTT client and Mosquitto MQTT server, see:\n",
    "- http://www.steves-internet-guide.com/into-mqtt-python-client\n",
    "- https://mosquitto.org"
   ]
  },
  {
   "cell_type": "code",
   "execution_count": null,
   "metadata": {},
   "outputs": [],
   "source": []
  }
 ],
 "metadata": {
  "kernelspec": {
   "display_name": "Python 3.9.13 ('.venv': venv)",
   "language": "python",
   "name": "python3"
  },
  "language_info": {
   "codemirror_mode": {
    "name": "ipython",
    "version": 3
   },
   "file_extension": ".py",
   "mimetype": "text/x-python",
   "name": "python",
   "nbconvert_exporter": "python",
   "pygments_lexer": "ipython3",
   "version": "3.9.13"
  },
  "orig_nbformat": 2,
  "vscode": {
   "interpreter": {
    "hash": "a8159fd93c66e7d8d0e5af4b494b7ac885c17c604ffb25abe09796ec175b3861"
   }
  }
 },
 "nbformat": 4,
 "nbformat_minor": 2
}
