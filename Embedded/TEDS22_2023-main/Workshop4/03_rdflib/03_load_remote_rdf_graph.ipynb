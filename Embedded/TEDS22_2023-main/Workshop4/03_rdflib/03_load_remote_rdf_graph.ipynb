{
 "cells": [
  {
   "cell_type": "markdown",
   "metadata": {},
   "source": [
    "# Exercise 3: Load Remote Graph\n",
    "\n",
    "In this exercise you will Learn how to use RDFLib to:\n",
    "- Load a RDF Graph from the internet."
   ]
  },
  {
   "cell_type": "markdown",
   "metadata": {},
   "source": [
    "As a first step, let's import the python modules we need."
   ]
  },
  {
   "cell_type": "code",
   "execution_count": 1,
   "metadata": {},
   "outputs": [],
   "source": [
    "# pip install rdflib\n",
    "import rdflib\n",
    "from rdflib import Graph, URIRef, BNode, Literal, Namespace\n",
    "from rdflib.namespace import RDF, RDFS, OWL, XSD, FOAF, DCTERMS, SDO, SKOS\n",
    "\n",
    "import ssl\n",
    "ssl._create_default_https_context = ssl._create_unverified_context"
   ]
  },
  {
   "cell_type": "markdown",
   "metadata": {},
   "source": [
    "Let's load this RDF graph from DBPedia (click on the link): http://dbpedia.org/resource/Michael_Jackson"
   ]
  },
  {
   "cell_type": "code",
   "execution_count": 2,
   "metadata": {},
   "outputs": [
    {
     "data": {
      "text/plain": [
       "<Graph identifier=N8710b0e61381415aa4f48a7ac2cd50eb (<class 'rdflib.graph.Graph'>)>"
      ]
     },
     "execution_count": 2,
     "metadata": {},
     "output_type": "execute_result"
    }
   ],
   "source": [
    "# Initialize a graph\n",
    "g = Graph()\n",
    "\n",
    "# Parse in a RDF graph from dbpedia\n",
    "g.parse('http://dbpedia.org/resource/Michael_Jackson')"
   ]
  },
  {
   "cell_type": "code",
   "execution_count": 3,
   "metadata": {},
   "outputs": [
    {
     "name": "stdout",
     "output_type": "stream",
     "text": [
      "http://dbpedia.org/resource/Michael_Jackson http://dbpedia.org/property/birthPlace Gary, Indiana, U.S.\n",
      "http://dbpedia.org/resource/Michael_Jackson http://www.w3.org/1999/02/22-rdf-syntax-ns#type http://dbpedia.org/class/yago/Autobiographer109825296\n",
      "http://dbpedia.org/resource/Michael_Jackson http://www.w3.org/1999/02/22-rdf-syntax-ns#type http://dbpedia.org/class/yago/Object100002684\n",
      "http://dbpedia.org/resource/Michael_Jackson http://www.w3.org/2002/07/owl#sameAs http://mg.dbpedia.org/resource/Michael_Jackson\n",
      "http://dbpedia.org/resource/Michael_Jackson http://dbpedia.org/ontology/wikiPageWikiLink http://dbpedia.org/resource/Neil_Diamond\n"
     ]
    }
   ],
   "source": [
    "# Loop through, and print out, the first 5 triples in the graph (subject, predicate, object)\n",
    "for index, (s, p, o) in enumerate(g):\n",
    "    print(s, p, o)\n",
    "    if index == 4:\n",
    "        break"
   ]
  },
  {
   "cell_type": "code",
   "execution_count": 4,
   "metadata": {},
   "outputs": [
    {
     "name": "stdout",
     "output_type": "stream",
     "text": [
      "The graph has 1320 facts (triples)\n"
     ]
    }
   ],
   "source": [
    "# Print the size of the Graph\n",
    "print(f'The graph has {len(g)} facts (triples)')"
   ]
  },
  {
   "cell_type": "code",
   "execution_count": 5,
   "metadata": {
    "tags": []
   },
   "outputs": [
    {
     "name": "stdout",
     "output_type": "stream",
     "text": [
      "@prefix ns1: <http://dbpedia.org/property/> .\n",
      "@prefix ns2: <http://dbpedia.org/ontology/> .\n",
      "@prefix ns3: <http://purl.org/dc/terms/> .\n",
      "@prefix ns4: <http://xmlns.com/foaf/0.1/> .\n",
      "@prefix ns5: <http://www.w3.org/ns/prov#> .\n",
      "@prefix ns6: <http://purl.org/linguistics/gold/> .\n",
      "@prefix ns7: <http://schema.org/> .\n",
      "@prefix ns8: <http://www.w3.org/2004/02/skos/core#> .\n",
      "@prefix owl: <http://www.w3.org/2002/07/owl#> .\n",
      "@prefix rdfs: <http://www.w3.org/2000/01/rdf-schema#> .\n",
      "@prefix xsd: <http://www.w3.org/2001/XMLSchema#> .\n",
      "\n",
      "<http://dbpedia.org/resource/Michael_Jackson> a <http://dbpedia.org/class/yago/Abstraction100002137>,\n",
      "        <http://dbpedia.org/class/yago/Actor109765278>,\n",
      "        <http://dbpedia.org/class/yago/Actress109767700>,\n",
      "        <http://dbpedia.org/class/yago/Adult109605289>,\n",
      "        <http://dbpedia.org/class/yago/Articulator1098\n"
     ]
    }
   ],
   "source": [
    "# Print out a part of the Graph in the RDF Turtle format\n",
    "ttl = g.serialize(format='ttl')\n",
    "print(ttl[:846])"
   ]
  },
  {
   "cell_type": "code",
   "execution_count": null,
   "metadata": {},
   "outputs": [],
   "source": []
  }
 ],
 "metadata": {
  "kernelspec": {
   "display_name": "Python 3.9.13 ('.venv': venv)",
   "language": "python",
   "name": "python3"
  },
  "language_info": {
   "codemirror_mode": {
    "name": "ipython",
    "version": 3
   },
   "file_extension": ".py",
   "mimetype": "text/x-python",
   "name": "python",
   "nbconvert_exporter": "python",
   "pygments_lexer": "ipython3",
   "version": "3.9.13"
  },
  "orig_nbformat": 2,
  "vscode": {
   "interpreter": {
    "hash": "a8159fd93c66e7d8d0e5af4b494b7ac885c17c604ffb25abe09796ec175b3861"
   }
  }
 },
 "nbformat": 4,
 "nbformat_minor": 2
}
