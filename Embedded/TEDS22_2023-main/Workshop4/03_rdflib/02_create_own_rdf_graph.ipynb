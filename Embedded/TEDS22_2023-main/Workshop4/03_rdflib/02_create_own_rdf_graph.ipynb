{
 "cells": [
  {
   "cell_type": "markdown",
   "metadata": {},
   "source": [
    "# Exercise 2: Create a Graph from Scratch\n",
    "\n",
    "In this exercise you will Learn how to use RDFLib to:\n",
    "- Create a RDF Graph from scratch."
   ]
  },
  {
   "cell_type": "markdown",
   "metadata": {},
   "source": [
    "As a first step, let's import the python modules we need."
   ]
  },
  {
   "cell_type": "code",
   "execution_count": 1,
   "metadata": {},
   "outputs": [],
   "source": [
    "# pip install rdflib\n",
    "import rdflib\n",
    "from rdflib import Graph, URIRef, BNode, Literal, Namespace\n",
    "from rdflib.namespace import RDF, RDFS, OWL, XSD, FOAF, DCTERMS, SDO, SKOS"
   ]
  },
  {
   "cell_type": "markdown",
   "metadata": {},
   "source": [
    "## Creating RDF Triples\n",
    "\n",
    "RDF alows us to make statements about resources, where a statement always has the following structure:\n",
    "\n",
    "`<subject>` `<predicate>` `<object>`\n",
    "\n",
    "An RDF statement expresses a relationship between two resources. The subject and the object represent the two resources being related, where the predicate represents the nature of their relationship. The relationship is *directed* (from subject to object) and is called a property in RDF. Because RDF statements consist of three elements, they are called triples.\n",
    "\n",
    "### Creating Nodes (Subjects and Objects) and Edges (Predicates/Properties)\n",
    "\n",
    "The subjects and objects of the triples make up the nodes in a RDF graph, where the nodes are URI References, Blank Nodes or Literals. In RDFLib, these node types are represented by the calsses `URIRef`, `BNode` and `Literal`. URIRefs and BNodes can both be thought of as resources, such as a person, a company, a website, etc.:\n",
    "- A BNode is a node where the exact URI is not known.\n",
    "- A URIRef is a node where the exact URI is known.\n",
    "- Literals represent attribute values, such as a name, a date, a number, etc. The most common literal values are XML data types, e.g. string, int, float.\n",
    "\n",
    "The predicates (properties) of the triples make up the directed edges (from subject to object) in a RDF graph, where the edges are also URI References, represented as URIRefs `URIRef`."
   ]
  },
  {
   "cell_type": "markdown",
   "metadata": {},
   "source": [
    "## Example RDF Graph\n",
    "\n",
    "<img with=\"\" height=\"\" src=\"../../notebook_images/rdf_graph.png\">\n",
    "\n",
    "### (Informal) Representation of the Graph\n",
    "\n",
    "`<Bob> <is a> <person>.`  \n",
    "`<Bob> <is a friend of> <Alice>.`  \n",
    "`<Bob> <is born on> <the 4th of July 1990>.`  \n",
    "`<Bob> <is interested in> <the Mona Lisa>.`  \n",
    "`<the Mona Lisa> <was created by> <Leonardo da Vinci>.`  \n",
    "`<the video 'La Joconde à Washington'> <is about> <the Mona Lisa>.` \n",
    "\n",
    "\n",
    "This example uses the following URIs:\n",
    "\n",
    "http://www.wikidata.org/entity/Q12418  \n",
    "http://dbpedia.org/resource/Leonardo_da_Vinci  \n",
    "http://data.europeana.eu/item/04802/243FA8618938F4117025F17A8B813C5F9AA4D619\n",
    "\n",
    "https://schema.org/  \n",
    "https://schema.org/birthDate\n",
    "\n",
    "http://xmlns.com/foaf/0.1/  \n",
    "http://xmlns.com/foaf/0.1/#term_topic_interest\n",
    "\n",
    "http://purl.org/dc/terms/  \n",
    "http://purl.org/dc/terms/creator  \n",
    "http://purl.org/dc/terms/title  \n",
    "http://purl.org/dc/terms/subject"
   ]
  },
  {
   "cell_type": "code",
   "execution_count": 2,
   "metadata": {},
   "outputs": [],
   "source": [
    "mona_lisa = URIRef('http://www.wikidata.org/entity/Q12418')\n",
    "davinci = URIRef('http://dbpedia.org/resource/Leonardo_da_Vinci')\n",
    "lajoconde = URIRef('http://data.europeana.eu/item/04802/243FA8618938F4117025F17A8B813C5F9AA4D619')\n",
    "\n",
    "EX = Namespace('http://example.org')\n",
    "bob = EX['Bob']\n",
    "alice = EX['Alice']\n",
    "\n",
    "birth_date = Literal('1990-07-04', datatype=XSD['date'])\n",
    "title = Literal('Mona Lisa', lang='en')"
   ]
  },
  {
   "cell_type": "code",
   "execution_count": 3,
   "metadata": {},
   "outputs": [
    {
     "name": "stdout",
     "output_type": "stream",
     "text": [
      "Mona Lisa\n",
      "en\n",
      "None\n"
     ]
    }
   ],
   "source": [
    "# Print out the value, language and datatype for the title\n",
    "print(title.value)\n",
    "print(title.language)\n",
    "print(title.datatype)"
   ]
  },
  {
   "cell_type": "code",
   "execution_count": 4,
   "metadata": {},
   "outputs": [
    {
     "name": "stdout",
     "output_type": "stream",
     "text": [
      "@prefix dcterms: <http://purl.org/dc/terms/> .\n",
      "@prefix ex: <http://example.org> .\n",
      "@prefix foaf: <http://xmlns.com/foaf/0.1/> .\n",
      "@prefix schema: <https://schema.org/> .\n",
      "@prefix xsd: <http://www.w3.org/2001/XMLSchema#> .\n",
      "\n",
      "<http://data.europeana.eu/item/04802/243FA8618938F4117025F17A8B813C5F9AA4D619> dcterms:subject <http://www.wikidata.org/entity/Q12418> .\n",
      "\n",
      "ex:Bob a foaf:Person ;\n",
      "    foaf:knows ex:Alice ;\n",
      "    foaf:topic_interest <http://www.wikidata.org/entity/Q12418> ;\n",
      "    schema:birthDate \"1990-07-04\"^^xsd:date .\n",
      "\n",
      "<http://www.wikidata.org/entity/Q12418> dcterms:creator <http://dbpedia.org/resource/Leonardo_da_Vinci> ;\n",
      "    dcterms:title \"Mona Lisa\"@en .\n",
      "\n",
      "\n"
     ]
    }
   ],
   "source": [
    "# Create an empty RDF graph\n",
    "g = Graph()\n",
    "\n",
    "# Bind prefix to namespace\n",
    "g.bind('ex', EX)\n",
    "g.bind('foaf', FOAF)\n",
    "g.bind('schema', SDO)\n",
    "g.bind('dcterms', DCTERMS)\n",
    "\n",
    "# Create RDF graph\n",
    "g.add( (bob, RDF.type, FOAF.Person) )\n",
    "g.add( (bob, FOAF.knows, alice) )\n",
    "g.add( (bob, FOAF['topic_interest'], mona_lisa) )\n",
    "g.add( (bob, SDO['birthDate'], birth_date) )\n",
    "g.add( (mona_lisa, DCTERMS['creator'], davinci) )\n",
    "g.add( (mona_lisa, DCTERMS['title'], title) )\n",
    "g.add( (lajoconde, DCTERMS['subject'], mona_lisa) )\n",
    "\n",
    "# Print out the graph in Turtle format\n",
    "print(g.serialize(format='ttl'))"
   ]
  },
  {
   "cell_type": "code",
   "execution_count": 5,
   "metadata": {},
   "outputs": [
    {
     "name": "stdout",
     "output_type": "stream",
     "text": [
      "     owl: http://www.w3.org/2002/07/owl#\n",
      "     rdf: http://www.w3.org/1999/02/22-rdf-syntax-ns#\n",
      "    rdfs: http://www.w3.org/2000/01/rdf-schema#\n",
      "     xsd: http://www.w3.org/2001/XMLSchema#\n",
      "     xml: http://www.w3.org/XML/1998/namespace\n",
      "      ex: http://example.org\n",
      "    foaf: http://xmlns.com/foaf/0.1/\n",
      "  schema: https://schema.org/\n",
      " dcterms: http://purl.org/dc/terms/\n"
     ]
    }
   ],
   "source": [
    "# Print out all prefixes and namespaces\n",
    "for prefix, ns in g.namespaces():\n",
    "    print(f'{prefix:>8}: {ns}')"
   ]
  },
  {
   "cell_type": "code",
   "execution_count": null,
   "metadata": {},
   "outputs": [],
   "source": []
  }
 ],
 "metadata": {
  "kernelspec": {
   "display_name": "Python 3.9.13 ('.venv': venv)",
   "language": "python",
   "name": "python3"
  },
  "language_info": {
   "codemirror_mode": {
    "name": "ipython",
    "version": 3
   },
   "file_extension": ".py",
   "mimetype": "text/x-python",
   "name": "python",
   "nbconvert_exporter": "python",
   "pygments_lexer": "ipython3",
   "version": "3.9.13"
  },
  "orig_nbformat": 2,
  "vscode": {
   "interpreter": {
    "hash": "a8159fd93c66e7d8d0e5af4b494b7ac885c17c604ffb25abe09796ec175b3861"
   }
  }
 },
 "nbformat": 4,
 "nbformat_minor": 2
}
