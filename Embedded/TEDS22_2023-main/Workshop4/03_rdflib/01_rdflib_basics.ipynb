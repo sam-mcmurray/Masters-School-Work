{
 "cells": [
  {
   "cell_type": "markdown",
   "metadata": {},
   "source": [
    "# Exercise 1: RDFLib Basics\n",
    "\n",
    "In this exercise you will Learn how to use RDFLib to:\n",
    "- Create an RDF Graph.\n",
    "- Load and Save an RDF Graph.\n",
    "- Iterate through the triples in a RDF Graph.\n",
    "- Update and Delete RDF triples in an RDF Graph.\n",
    "\n",
    "[RDFLib](https://rdflib.readthedocs.io/en/stable/index.html) is a pure Python package that contains [most functionality](https://en.wikipedia.org/wiki/RDFLib) you need to work with RDF, including:\n",
    "- *Parsers* and *Serializers* for RDF/XML, N3, Ntripples, N-Quads, Turtle and JSON-LD (via a plugin).\n",
    "- A Graph interface which can be backed by any one of a number of Store implementations.\n",
    "- A SPARQL 1.1. implementation, supporting SPARQL 1.1. Queries and Update Statements."
   ]
  },
  {
   "cell_type": "markdown",
   "metadata": {},
   "source": [
    "As a first step, let's import the python modules we need."
   ]
  },
  {
   "cell_type": "code",
   "execution_count": 1,
   "metadata": {},
   "outputs": [],
   "source": [
    "# pip install rdflib\n",
    "import rdflib\n",
    "from rdflib import Graph, URIRef, BNode, Literal, Namespace\n",
    "from rdflib.namespace import RDF, RDFS, OWL, XSD, FOAF, DCTERMS, SDO, SKOS"
   ]
  },
  {
   "cell_type": "markdown",
   "metadata": {},
   "source": [
    "What have we just imported from RDFLib?\n",
    "\n",
    "The namespaces (RDF, RDFS, OWL, XSD, FOAF, DCTERMS, SDO, SKOS) we have imported are the BASE URIs for the following vocabularies (ontologies):\n",
    "- Resource Description Framework (RDF)\n",
    "- Resource Description Framework Schema (RDFS)\n",
    "- Web Ontology Language (OWL)\n",
    "- XML Schema (XSD)\n",
    "- Fiend Of A Friend (FOAF)\n",
    "- Dublin Core Terms (DCTERMS)\n",
    "- Schema.Org (SDO)\n",
    "- Simple Knowledge Organization System (SKOS)\n",
    "\n",
    "We can also create a namespace for our own Base URI. As a best practice, this URI should be a URL with an actual\n",
    "web page behind it, but in this case, it is just a URI without any web page.\n",
    "- Let's just make up our own BASE URI: http://example.org/\n",
    "- Let's call the namespace variable 'EX'.  \n",
    "`EX = Namespace('http://example.org')`\n",
    "\n",
    "Let's print out the Base URIs for these namespaces so we see what they look like."
   ]
  },
  {
   "cell_type": "code",
   "execution_count": 2,
   "metadata": {},
   "outputs": [
    {
     "name": "stdout",
     "output_type": "stream",
     "text": [
      "EX      : http://example.org/\n",
      "RDF     : http://www.w3.org/1999/02/22-rdf-syntax-ns#\n",
      "RDFS    : http://www.w3.org/2000/01/rdf-schema#\n",
      "OWL     : http://www.w3.org/2002/07/owl#\n",
      "XSD     : http://www.w3.org/2001/XMLSchema#\n",
      "FOAF    : http://xmlns.com/foaf/0.1/\n",
      "DCTERMS : http://purl.org/dc/terms/\n",
      "SDO     : https://schema.org/\n",
      "SKOS    : http://www.w3.org/2004/02/skos/core#\n"
     ]
    }
   ],
   "source": [
    "# First, let's create our own Base URI namespace\n",
    "EX = Namespace('http://example.org/')\n",
    "\n",
    "# Now, let's print out the BASE URIs for these namespaces,\n",
    "# including the imported namespaces and our own namespace\n",
    "print(f'EX      : {EX}')\n",
    "print(f'RDF     : {RDF}')\n",
    "print(f'RDFS    : {RDFS}')\n",
    "print(f'OWL     : {OWL}')\n",
    "print(f'XSD     : {XSD}')\n",
    "print(f'FOAF    : {FOAF}')\n",
    "print(f'DCTERMS : {DCTERMS}')\n",
    "print(f'SDO     : {SDO}')\n",
    "print(f'SKOS    : {SKOS}')"
   ]
  },
  {
   "cell_type": "markdown",
   "metadata": {},
   "source": [
    "From the lecture, we know that e.g.:\n",
    "- The RDF namespace has a resource called `type`.\n",
    "- The RDF namespace has a resource called `Property`.\n",
    "- The RDFS namespace has a resource called `label`.\n",
    "- The RDFS namespace has a resource called `range`.\n",
    "- The RDFS namespace has a resource called `domain`.\n",
    "- The RDFS namespace has a resource called `Class`.\n",
    "- The FOAF namespace has a resource called `name`.\n",
    "\n",
    "Let's check this:"
   ]
  },
  {
   "cell_type": "code",
   "execution_count": 3,
   "metadata": {},
   "outputs": [
    {
     "name": "stdout",
     "output_type": "stream",
     "text": [
      "http://www.w3.org/1999/02/22-rdf-syntax-ns#type\n",
      "http://www.w3.org/1999/02/22-rdf-syntax-ns#Property\n",
      "http://www.w3.org/2000/01/rdf-schema#label\n",
      "http://www.w3.org/2000/01/rdf-schema#range\n",
      "http://www.w3.org/2000/01/rdf-schema#domain\n",
      "http://www.w3.org/2000/01/rdf-schema#Class\n",
      "http://xmlns.com/foaf/0.1/name\n"
     ]
    }
   ],
   "source": [
    "print(RDF.type)\n",
    "print(RDF.Property)\n",
    "print(RDFS.label)\n",
    "print(RDFS.range)\n",
    "print(RDFS.domain)\n",
    "print(RDFS.Class)\n",
    "print(FOAF.name)"
   ]
  },
  {
   "cell_type": "markdown",
   "metadata": {},
   "source": [
    "We also know that, for example:\n",
    "- The RDF namespace **does not** have a resource called `typexxx`.\n",
    "- The RDFS namespace **does not** have a resource called `labelxxx`.\n",
    "- The FOAF namespace **does not** have a resource called `namexxx`."
   ]
  },
  {
   "cell_type": "code",
   "execution_count": 4,
   "metadata": {},
   "outputs": [
    {
     "name": "stdout",
     "output_type": "stream",
     "text": [
      "term 'typexxx' not in namespace 'http://www.w3.org/1999/02/22-rdf-syntax-ns#'\n",
      "term 'labelxxx' not in namespace 'http://www.w3.org/2000/01/rdf-schema#'\n",
      "term 'namexxx' not in namespace 'http://xmlns.com/foaf/0.1/'\n"
     ]
    }
   ],
   "source": [
    "try: print(RDF.typexxx)\n",
    "except Exception as e: print(e)\n",
    "\n",
    "try: print(RDFS.labelxxx)\n",
    "except Exception as e: print(e)\n",
    "\n",
    "try: print(FOAF.namexxx)\n",
    "except Exception as e: print(e)"
   ]
  },
  {
   "cell_type": "markdown",
   "metadata": {},
   "source": [
    "We can also add a resource, e.g. `mason`, to our own namespace `EX`.\n",
    "\n",
    "In this case (for our own namespace without an actual RDF web page behind it), we can do this in two different ways:\n",
    "- `EX.mason`\n",
    "- `EX[mason]`\n",
    "\n",
    "Let's add a resource called `mason` and a resource called `shyla` to namespace `EX`."
   ]
  },
  {
   "cell_type": "code",
   "execution_count": 5,
   "metadata": {},
   "outputs": [
    {
     "name": "stdout",
     "output_type": "stream",
     "text": [
      "http://example.org/mason\n",
      "http://example.org/shyla\n"
     ]
    }
   ],
   "source": [
    "print(EX.mason)\n",
    "print(EX['shyla'])"
   ]
  },
  {
   "cell_type": "markdown",
   "metadata": {},
   "source": [
    "The remaining Python imports are classes representing:\n",
    "- A RDF Graph (Graph)\n",
    "- A URI (URIRef)\n",
    "- A Blank Node (BNode)\n",
    "- A literal (Literal)\n",
    "\n",
    "To create a RDF Graph, and add RDF triples to it, we could do the following."
   ]
  },
  {
   "cell_type": "code",
   "execution_count": 6,
   "metadata": {},
   "outputs": [
    {
     "data": {
      "text/plain": [
       "<Graph identifier=N451c94a566e34653a53b9fc2ab50b82a (<class 'rdflib.graph.Graph'>)>"
      ]
     },
     "execution_count": 6,
     "metadata": {},
     "output_type": "execute_result"
    }
   ],
   "source": [
    "# Create a RDF Graph\n",
    "g = Graph()\n",
    "\n",
    "# Create a RDF URI node to use as the subject for multiple triples\n",
    "mason = URIRef('http://example.org/mason')\n",
    "\n",
    "# Add triples using the Graph objecet's add() method\n",
    "g.add( (mason, RDF.type, FOAF.Person) )\n",
    "g.add( (mason, RDFS.label, Literal('Mason Carter')) )\n",
    "g.add( (mason, FOAF.name, Literal('Mason Carter')) )\n",
    "g.add( (mason, FOAF.nick, Literal('masonc', lang='en')) )\n",
    "g.add( (mason, FOAF.mbox, URIRef('mailto:mason@example.org')) )\n",
    "g.add( (mason, FOAF.mbox, URIRef('mailto:masonc@example.org')) )\n",
    "\n",
    "# Add another person\n",
    "# This time, let's add the person using our\n",
    "# EX namespace instead of the full URI\n",
    "#shyla = URIRef('http://example.org/shyla')\n",
    "\n",
    "# Add triples using the Graphs add() method\n",
    "g.add( (EX.shyla, RDF.type, FOAF.Person) )\n",
    "g.add( (EX.shyla, RDFS.label, Literal('Shyla Sharples')) )\n",
    "g.add( (EX.shyla, FOAF.name, Literal('Shyla Sharples')) )\n",
    "g.add( (EX.shyla, FOAF.nick, Literal('shyla', datatype=XSD.string)) )\n",
    "g.add( (EX.shyla, FOAF.mbox, URIRef('mailto:shyla@example.org')) )"
   ]
  },
  {
   "cell_type": "markdown",
   "metadata": {},
   "source": [
    "We can iterate over all the triples in our graph and print them out as follows."
   ]
  },
  {
   "cell_type": "code",
   "execution_count": 7,
   "metadata": {},
   "outputs": [
    {
     "name": "stdout",
     "output_type": "stream",
     "text": [
      "http://example.org/mason http://xmlns.com/foaf/0.1/name Mason Carter\n",
      "http://example.org/mason http://www.w3.org/1999/02/22-rdf-syntax-ns#type http://xmlns.com/foaf/0.1/Person\n",
      "http://example.org/shyla http://xmlns.com/foaf/0.1/name Shyla Sharples\n",
      "http://example.org/mason http://www.w3.org/2000/01/rdf-schema#label Mason Carter\n",
      "http://example.org/shyla http://www.w3.org/1999/02/22-rdf-syntax-ns#type http://xmlns.com/foaf/0.1/Person\n",
      "http://example.org/mason http://xmlns.com/foaf/0.1/mbox mailto:mason@example.org\n",
      "http://example.org/shyla http://xmlns.com/foaf/0.1/mbox mailto:shyla@example.org\n",
      "http://example.org/mason http://xmlns.com/foaf/0.1/mbox mailto:masonc@example.org\n",
      "http://example.org/shyla http://xmlns.com/foaf/0.1/nick shyla\n",
      "http://example.org/mason http://xmlns.com/foaf/0.1/nick masonc\n",
      "http://example.org/shyla http://www.w3.org/2000/01/rdf-schema#label Shyla Sharples\n"
     ]
    }
   ],
   "source": [
    "# Iterate over triples in the graph and print them out\n",
    "for s, p, o in g:\n",
    "    print(s, p, o)"
   ]
  },
  {
   "cell_type": "markdown",
   "metadata": {},
   "source": [
    "Let's:\n",
    "\n",
    "1. Iterate over all the subjects that have a predicate `FOAF.type` and the object `FOAF.Person`.\n",
    "2. Then, iterate over all objects that have a subject from step 1 and the predicate `FOAF.nick`.\n",
    "3. Finally, let's print out the objects from step 2."
   ]
  },
  {
   "cell_type": "code",
   "execution_count": 8,
   "metadata": {},
   "outputs": [
    {
     "name": "stdout",
     "output_type": "stream",
     "text": [
      "masonc\n",
      "shyla\n"
     ]
    }
   ],
   "source": [
    "# For each foaf:Person in the graph, print out their nickname's value\n",
    "for person in g.subjects(RDF.type, FOAF.Person):\n",
    "    for nick in g.objects(person, FOAF.nick):\n",
    "        print(nick)"
   ]
  },
  {
   "cell_type": "markdown",
   "metadata": {},
   "source": [
    "We can serialize our graph to a string in a specific RDF format. Let's use the *Turtle* format we have seen during the lecture."
   ]
  },
  {
   "cell_type": "code",
   "execution_count": 9,
   "metadata": {},
   "outputs": [
    {
     "name": "stdout",
     "output_type": "stream",
     "text": [
      "@prefix ns1: <http://xmlns.com/foaf/0.1/> .\n",
      "@prefix rdfs: <http://www.w3.org/2000/01/rdf-schema#> .\n",
      "@prefix xsd: <http://www.w3.org/2001/XMLSchema#> .\n",
      "\n",
      "<http://example.org/mason> a ns1:Person ;\n",
      "    rdfs:label \"Mason Carter\" ;\n",
      "    ns1:mbox <mailto:mason@example.org>,\n",
      "        <mailto:masonc@example.org> ;\n",
      "    ns1:name \"Mason Carter\" ;\n",
      "    ns1:nick \"masonc\"@en .\n",
      "\n",
      "<http://example.org/shyla> a ns1:Person ;\n",
      "    rdfs:label \"Shyla Sharples\" ;\n",
      "    ns1:mbox <mailto:shyla@example.org> ;\n",
      "    ns1:name \"Shyla Sharples\" ;\n",
      "    ns1:nick \"shyla\"^^xsd:string .\n",
      "\n",
      "\n"
     ]
    }
   ],
   "source": [
    "# Serialize the graph to a string in the Tutle format\n",
    "ttl = g.serialize(format='ttl')\n",
    "\n",
    "# Print all the triples (in the Tutle format)\n",
    "print(ttl)"
   ]
  },
  {
   "cell_type": "markdown",
   "metadata": {},
   "source": [
    "Notice that:\n",
    "- The prefix for the FOAF namespace is called `ns1`.\n",
    "- We get the full URIs for the resources in our own namespace `EX`.\n",
    "\n",
    "Let's fix this so that:\n",
    "- The prefix for the FOAF namespace is called `foaf`.\n",
    "- We use the prefix `ex` for our own namespace `EX`.\n",
    "  - Where the resources use the `ex` prefix instead of the full URIs."
   ]
  },
  {
   "cell_type": "code",
   "execution_count": 10,
   "metadata": {},
   "outputs": [
    {
     "name": "stdout",
     "output_type": "stream",
     "text": [
      "@prefix ex: <http://example.org/> .\n",
      "@prefix ns1: <http://xmlns.com/foaf/0.1/> .\n",
      "@prefix rdfs: <http://www.w3.org/2000/01/rdf-schema#> .\n",
      "@prefix xsd: <http://www.w3.org/2001/XMLSchema#> .\n",
      "\n",
      "ex:mason a ns1:Person ;\n",
      "    rdfs:label \"Mason Carter\" ;\n",
      "    ns1:mbox <mailto:mason@example.org>,\n",
      "        <mailto:masonc@example.org> ;\n",
      "    ns1:name \"Mason Carter\" ;\n",
      "    ns1:nick \"masonc\"@en .\n",
      "\n",
      "ex:shyla a ns1:Person ;\n",
      "    rdfs:label \"Shyla Sharples\" ;\n",
      "    ns1:mbox <mailto:shyla@example.org> ;\n",
      "    ns1:name \"Shyla Sharples\" ;\n",
      "    ns1:nick \"shyla\"^^xsd:string .\n",
      "\n",
      "\n"
     ]
    }
   ],
   "source": [
    "# Bind the FOAF and EX namespaces to a prefix for more readable output\n",
    "g.bind('foaf', FOAF)\n",
    "g.bind('ex', EX)\n",
    "\n",
    "# Serialise the graph to the Tutle format, and print it out\n",
    "print(g.serialize(format='ttl'))"
   ]
  },
  {
   "cell_type": "markdown",
   "metadata": {},
   "source": [
    "Oops! It looks like we can only bind namespaces to prefixes once (the prefix for 'foaf' is still 'ns1'), so we better do it right after creating the graph. Let's try this."
   ]
  },
  {
   "cell_type": "code",
   "execution_count": 11,
   "metadata": {},
   "outputs": [
    {
     "name": "stdout",
     "output_type": "stream",
     "text": [
      "@prefix ex: <http://example.org/> .\n",
      "@prefix foaf: <http://xmlns.com/foaf/0.1/> .\n",
      "@prefix rdfs: <http://www.w3.org/2000/01/rdf-schema#> .\n",
      "@prefix xsd: <http://www.w3.org/2001/XMLSchema#> .\n",
      "\n",
      "ex:mason a foaf:Person ;\n",
      "    rdfs:label \"Mason Carter\" ;\n",
      "    foaf:mbox <mailto:mason@example.org>,\n",
      "        <mailto:masonc@example.org> ;\n",
      "    foaf:name \"Mason Carter\" ;\n",
      "    foaf:nick \"masonc\"@en .\n",
      "\n",
      "ex:shyla a foaf:Person ;\n",
      "    rdfs:label \"Shyla Sharples\" ;\n",
      "    foaf:mbox <mailto:shyla@example.org> ;\n",
      "    foaf:name \"Shyla Sharples\" ;\n",
      "    foaf:nick \"shyla\"^^xsd:string .\n",
      "\n",
      "\n"
     ]
    }
   ],
   "source": [
    "# Create a RDF Graph\n",
    "g = Graph()\n",
    "\n",
    "mason = URIRef('http://example.org/mason')\n",
    "g.add( (mason, RDF.type, FOAF.Person) )\n",
    "g.add( (mason, RDFS.label, Literal('Mason Carter')) )\n",
    "g.add( (mason, FOAF.name, Literal('Mason Carter')) )\n",
    "g.add( (mason, FOAF.nick, Literal('masonc', lang='en')) )\n",
    "g.add( (mason, FOAF.mbox, URIRef('mailto:mason@example.org')) )\n",
    "g.add( (mason, FOAF.mbox, URIRef('mailto:masonc@example.org')) )\n",
    "\n",
    "shyla = URIRef('http://example.org/shyla')\n",
    "g.add( (shyla, RDF.type, FOAF.Person) )\n",
    "g.add( (shyla, RDFS.label, Literal('Shyla Sharples')) )\n",
    "g.add( (shyla, FOAF.name, Literal('Shyla Sharples')) )\n",
    "g.add( (shyla, FOAF.nick, Literal('shyla', datatype=XSD.string)) )\n",
    "g.add( (shyla, FOAF.mbox, URIRef('mailto:shyla@example.org')) )\n",
    "\n",
    "g.bind('foaf', FOAF)\n",
    "g.bind('ex', EX)\n",
    "\n",
    "print(g.serialize(format='ttl'))"
   ]
  },
  {
   "cell_type": "markdown",
   "metadata": {},
   "source": [
    "Now the RDF graph looks better, but:\n",
    "- We've given Mason the nickname `masonc` instead of just `mason`.\n",
    "- We've also added a faulty email address using this nickname.\n",
    "\n",
    "Let's fix this"
   ]
  },
  {
   "cell_type": "code",
   "execution_count": 12,
   "metadata": {},
   "outputs": [
    {
     "name": "stdout",
     "output_type": "stream",
     "text": [
      "@prefix ex: <http://example.org/> .\n",
      "@prefix foaf: <http://xmlns.com/foaf/0.1/> .\n",
      "@prefix rdfs: <http://www.w3.org/2000/01/rdf-schema#> .\n",
      "@prefix xsd: <http://www.w3.org/2001/XMLSchema#> .\n",
      "\n",
      "ex:mason a foaf:Person ;\n",
      "    rdfs:label \"Mason Carter\" ;\n",
      "    foaf:mbox <mailto:mason@example.org> ;\n",
      "    foaf:name \"Mason Carter\" ;\n",
      "    foaf:nick \"mason\"@en .\n",
      "\n",
      "ex:shyla a foaf:Person ;\n",
      "    rdfs:label \"Shyla Sharples\" ;\n",
      "    foaf:mbox <mailto:shyla@example.org> ;\n",
      "    foaf:name \"Shyla Sharples\" ;\n",
      "    foaf:nick \"shyla\"^^xsd:string .\n",
      "\n",
      "\n"
     ]
    }
   ],
   "source": [
    "# Replace Literal value\n",
    "g.set( (mason, FOAF.nick, Literal('mason', lang='en')) )\n",
    "\n",
    "# Remove triple from the graph\n",
    "g.remove( (mason, FOAF.mbox, URIRef('mailto:masonc@example.org')) )\n",
    "\n",
    "print(g.serialize(format='ttl'))"
   ]
  },
  {
   "cell_type": "markdown",
   "metadata": {},
   "source": [
    "Now the graph looks good, so let's save it to the file system as `example.ttl`."
   ]
  },
  {
   "cell_type": "code",
   "execution_count": 13,
   "metadata": {},
   "outputs": [
    {
     "data": {
      "text/plain": [
       "<Graph identifier=N1d3fbebc179948de8770f4a07adc284d (<class 'rdflib.graph.Graph'>)>"
      ]
     },
     "execution_count": 13,
     "metadata": {},
     "output_type": "execute_result"
    }
   ],
   "source": [
    "g.serialize('example.ttl', format='ttl')"
   ]
  },
  {
   "cell_type": "markdown",
   "metadata": {},
   "source": [
    "Let's also make sure we can reload it."
   ]
  },
  {
   "cell_type": "code",
   "execution_count": 14,
   "metadata": {},
   "outputs": [
    {
     "name": "stdout",
     "output_type": "stream",
     "text": [
      "@prefix ex: <http://example.org/> .\n",
      "@prefix foaf: <http://xmlns.com/foaf/0.1/> .\n",
      "@prefix rdfs: <http://www.w3.org/2000/01/rdf-schema#> .\n",
      "@prefix xsd: <http://www.w3.org/2001/XMLSchema#> .\n",
      "\n",
      "ex:mason a foaf:Person ;\n",
      "    rdfs:label \"Mason Carter\" ;\n",
      "    foaf:mbox <mailto:mason@example.org> ;\n",
      "    foaf:name \"Mason Carter\" ;\n",
      "    foaf:nick \"mason\"@en .\n",
      "\n",
      "ex:shyla a foaf:Person ;\n",
      "    rdfs:label \"Shyla Sharples\" ;\n",
      "    foaf:mbox <mailto:shyla@example.org> ;\n",
      "    foaf:name \"Shyla Sharples\" ;\n",
      "    foaf:nick \"shyla\"^^xsd:string .\n",
      "\n",
      "\n"
     ]
    }
   ],
   "source": [
    "# Parse in an RDF file from the file system\n",
    "h = Graph()\n",
    "rdf_format = 'ttl'\n",
    "# If we don't know which RDF format the file is written in,\n",
    "# we can use the following function to try to guess the correct format\n",
    "rdf_format = rdflib.util.guess_format('example.ttl')\n",
    "h.parse('example.ttl', format=rdf_format)\n",
    "\n",
    "print(h.serialize(format='ttl'))"
   ]
  },
  {
   "cell_type": "markdown",
   "metadata": {},
   "source": [
    "Finally, let's delete Mason from the loaded RDF graph."
   ]
  },
  {
   "cell_type": "code",
   "execution_count": 15,
   "metadata": {},
   "outputs": [
    {
     "name": "stdout",
     "output_type": "stream",
     "text": [
      "@prefix ex: <http://example.org/> .\n",
      "@prefix foaf: <http://xmlns.com/foaf/0.1/> .\n",
      "@prefix rdfs: <http://www.w3.org/2000/01/rdf-schema#> .\n",
      "@prefix xsd: <http://www.w3.org/2001/XMLSchema#> .\n",
      "\n",
      "ex:shyla a foaf:Person ;\n",
      "    rdfs:label \"Shyla Sharples\" ;\n",
      "    foaf:mbox <mailto:shyla@example.org> ;\n",
      "    foaf:name \"Shyla Sharples\" ;\n",
      "    foaf:nick \"shyla\"^^xsd:string .\n",
      "\n",
      "\n"
     ]
    }
   ],
   "source": [
    "# Remove all triples that match the subject, predicate and object.\n",
    "# If we use the value 'None', it means it will match any value.\n",
    "# In this case, we are removing all triples that match 'mason'\n",
    "# as the subject, and match any value for the predicate and object.\n",
    "h.remove( (mason, None, None) )\n",
    "\n",
    "print(h.serialize(format='ttl'))"
   ]
  },
  {
   "cell_type": "code",
   "execution_count": null,
   "metadata": {},
   "outputs": [],
   "source": []
  }
 ],
 "metadata": {
  "kernelspec": {
   "display_name": "Python 3.9.13 ('.venv': venv)",
   "language": "python",
   "name": "python3"
  },
  "language_info": {
   "codemirror_mode": {
    "name": "ipython",
    "version": 3
   },
   "file_extension": ".py",
   "mimetype": "text/x-python",
   "name": "python",
   "nbconvert_exporter": "python",
   "pygments_lexer": "ipython3",
   "version": "3.9.13"
  },
  "orig_nbformat": 2,
  "vscode": {
   "interpreter": {
    "hash": "a8159fd93c66e7d8d0e5af4b494b7ac885c17c604ffb25abe09796ec175b3861"
   }
  }
 },
 "nbformat": 4,
 "nbformat_minor": 2
}
