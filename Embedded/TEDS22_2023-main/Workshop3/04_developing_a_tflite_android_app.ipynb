{
 "cells": [
  {
   "cell_type": "markdown",
   "metadata": {},
   "source": [
    "# Exercise 4: Developing a TensorFlow Lite Android App\n",
    "\n",
    "In this exercise you will learn how to develop an application for recognizing flowers with TensorFlow Lite on Android:\n",
    "\n",
    "1. First we will create and train a model on [Google Colab](https://colab.research.google.com) using [TensorFlow Lite Model Maker](https://www.tensorflow.org/lite/models/modify/model_maker) with TensorFlow 2.0.\n",
    "2. Then we will convert the model to TFLite in Google CoLab and download the TFLite model to our local computer.\n",
    "3. Finally, we will create an Anroid App with [Android Studio](https://developer.android.com/studio), load the TFLite model, and run inference on an Android Emulator. \n",
    "\n",
    "We will also learn how to use the tutorials on [Google CodeLab](https://codelabs.developers.google.com).\n",
    "\n",
    "Start the exercise by clicking on [this link](https://codelabs.developers.google.com/codelabs/recognize-flowers-with-tensorflow-on-android)."
   ]
  },
  {
   "cell_type": "code",
   "execution_count": null,
   "metadata": {},
   "outputs": [],
   "source": []
  }
 ],
 "metadata": {
  "kernelspec": {
   "display_name": "Python 3.9.13 ('.venv': venv)",
   "language": "python",
   "name": "python3"
  },
  "language_info": {
   "codemirror_mode": {
    "name": "ipython",
    "version": 3
   },
   "file_extension": ".py",
   "mimetype": "text/x-python",
   "name": "python",
   "nbconvert_exporter": "python",
   "pygments_lexer": "ipython3",
   "version": "3.10.13"
  },
  "orig_nbformat": 2,
  "vscode": {
   "interpreter": {
    "hash": "b595bb45eae9b823552d35c952027feb614a769dd3c34896f2ad70e2eb427437"
   }
  }
 },
 "nbformat": 4,
 "nbformat_minor": 2
}
