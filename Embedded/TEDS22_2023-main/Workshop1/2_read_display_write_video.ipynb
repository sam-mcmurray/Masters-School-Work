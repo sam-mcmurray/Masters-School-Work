{
 "cells": [
  {
   "cell_type": "markdown",
   "metadata": {},
   "source": [
    "# Exercise 2: Working with video streams from cameras and files\n",
    "\n",
    "https://docs.opencv.org/4.6.0/dd/d43/tutorial_py_video_display.html\n",
    "\n",
    "In this exercise you will learn how to:\n",
    "- Read video using the `cv.VideoCapture()` class.\n",
    "- Display video in an OpenCV window using `cv.imshow()`\n",
    "- Write video using the `cv.VideoWriter()` class.\n",
    "- Capture images and video from a Camera.\n",
    "\n",
    "You will need the following python packages: `pip install numpy ipykernel opencv-python`"
   ]
  },
  {
   "cell_type": "markdown",
   "metadata": {},
   "source": [
    "As a first step, the OpenCV python library `cv2` is imported. We also assign it the name `cv`, which is used to reference the library.\n",
    "\n",
    "Let's also import `numpy` as `np`."
   ]
  },
  {
   "cell_type": "code",
   "execution_count": 1,
   "metadata": {},
   "outputs": [],
   "source": [
    "import cv2 as cv\n",
    "import numpy as np"
   ]
  },
  {
   "cell_type": "markdown",
   "metadata": {},
   "source": [
    "## Capturing and displaying video from a Camera\n",
    "\n",
    "The class `cv.VideoCapture` is used to:\n",
    "- Capture video streams (and images) from a Camera.\n",
    "- Capture (read) video streams (and images) from a video file.\n",
    "\n",
    "To capture video, you need to create a `cv.VideoCapture` object. Its input argument can either be:\n",
    "- The device index (index = 0 is your default camera, and if you have more cameras they will have index 1, 2, 3, etc).\n",
    "- The path to a video file (e.g. myvideofile.avi).\n",
    "\n",
    "If no camera is available (or the path to the video file is incorrect), the returned `cv.VideoCapture` object `cap` will not be *open*. You can check the state of the object with the `cap.isOpened()` function, which returns True is the object is *open*. Otherwise, you can try opening it with the function `cap.open()`.\n",
    "\n",
    "When a `cv.VideoCapture` object `cap` has been created, you can capture a frame (image) from the video stream using the `cap.read()` function, which returns two values:\n",
    "- A boolean (True/False) indicating if the frame was captured sucessfully or not.\n",
    "- The captured frame (image).\n",
    "\n",
    "If the first return value is False, this either means:\n",
    "- The camera was shut down by the user (or another program).\n",
    "- The end of the video file has been reached, i.e. *end of stream*.\n",
    "\n",
    "We can treat a captured frame as an image (and we already know how to perform basic operations on an image), e.g. we can display a captured frame with the `cv.imshow()` function, and can process keyboard events with the `cv.waitKey()` function.\n",
    "\n",
    "Finally, we need to realease the `cv.VideoCapture` object `cap` with the function `cap.release()`, and destroy any windows we have create with the function `cv.destroyAllWindows()`.\n",
    "\n",
    "---\n",
    "\n",
    "Let’s capture a video from your computer's/device's camera, optionally convert it into grayscale, and display it.\n",
    "\n",
    "**Note! OpenCV will create a window that might be minimized to your tray. You need to select this window and press the 'q' key on your keyboard to close this window (otherwise the cell won't stop executing).**"
   ]
  },
  {
   "cell_type": "code",
   "execution_count": 2,
   "metadata": {},
   "outputs": [],
   "source": [
    "# Create a VideoCapture object for the default camera (index = 0)\n",
    "cap = cv.VideoCapture(0)\n",
    "\n",
    "# If our computer/device does not have a camera, or the camera is\n",
    "# already being used (exclusively) by another program, the camera\n",
    "# will not be 'opened' (i.e., we will not have control of the camera).\n",
    "if not cap.isOpened():\n",
    "    print(\"Cannot open camera (no camera available?).\")\n",
    "else:\n",
    "    while True:\n",
    "        # Capture frame-by-frame\n",
    "        # Note that, if we only wanted to take a picture (image) with our\n",
    "        # camera, we would exit the 'while' loop after the first iteration.\n",
    "\n",
    "        # Read one frame (image) from the video stream\n",
    "        ret, frame = cap.read() \n",
    "\n",
    "        # If the frame is read correctly 'ret' is True.\n",
    "        # If 'ret' is False, we might have reached the end of the stream (when reading a video file)\n",
    "        # or the campera might be shut down (manually) by the user.\n",
    "        if not ret:\n",
    "            print(\"Can't receive frame (end of stream/camera shut down?). Exiting ...\")\n",
    "            break\n",
    "\n",
    "        # Our operations (image processing) on the frame (image), if any, come here\n",
    "        # (uncomment the line below to convert the b,g,r color frame to gray scale).\n",
    "        #frame = cv.cvtColor(frame, cv.COLOR_BGR2GRAY)\n",
    "\n",
    "        # Display the resulting frame\n",
    "        cv.imshow('Frame', frame) # a new window pops here first time through the loop\n",
    "        \n",
    "        # Wait 1 ms for keyboard events, and if the\n",
    "        # 'q' key is pressed, stop capturing frames\n",
    "        if cv.waitKey(1) & 0xFF == ord('q'):\n",
    "            break\n",
    "\n",
    "# Finally, we need to release the 'capture' object\n",
    "# and destroy any windows we have created\n",
    "cap.release()\n",
    "cv.destroyAllWindows()"
   ]
  },
  {
   "cell_type": "markdown",
   "metadata": {},
   "source": [
    "## Getting and setting video properties\n",
    "\n",
    "Video capture properties, such as frame height and frame width, can be queried and changed with the functions `cap.get(propId)` and `cap.set(propId, value)` respectively.\n",
    "\n",
    "`propid` is a number from 0 to 18, where each number denotes a property of the video (if it is applicable to that video), and `value` is the new value you want to set for that specific property. OpenCV also provides named constants (enums) for the various properties that can be used instead of the property numbers, e.g. `cv.CAP_PROP_FRAME_HEIGHT` for the frame height and `cv.CAP_PROP_FRAME_WIDTH` for the frame width. The various properties are described in detail here: [Property Identifier](https://docs.opencv.org/2.4/modules/highgui/doc/reading_and_writing_images_and_video.html#videocapture-get).\n",
    "\n",
    "Let's try this out by reducing the frame height and frame width by half compared to the previous example above. We can get the frame height and frame width with `cap.get(cv.CAP_PROP_FRAME_HEIGHT)` and `cap.get(cv.CAP_PROP_FRAME_WIDTH)` respectively. We can set the frame height and frame width with `ret = cap.set(cv.CAP_PROP_FRAME_HEIGHT, new_frame_height)` and `ret = cap.set(cv.CAP_PROP_FRAME_WIDTH, new_frame_width)` respectively. The `cap.set()` function returns a boolean indicating if the new property setting was accepted or not.\n",
    "\n",
    "**Note! OpenCV will create a window that might be minimized to your tray. You need to select this window and press the 'q' key on your keyboard to close this window (otherwise the cell won't stop executing).**"
   ]
  },
  {
   "cell_type": "code",
   "execution_count": 3,
   "metadata": {},
   "outputs": [
    {
     "name": "stdout",
     "output_type": "stream",
     "text": [
      "Frame height : 480.0\n",
      "Frame width  : 640.0\n",
      "New frame height : 240.0\n",
      "New frame width  : 320.0\n"
     ]
    }
   ],
   "source": [
    "cap = cv.VideoCapture(0)\n",
    "\n",
    "if not cap.isOpened():\n",
    "    print(\"Cannot open camera (no camera available?).\")\n",
    "else:\n",
    "    # Get the video capture's frame height and frame width\n",
    "    frame_height = cap.get(cv.CAP_PROP_FRAME_HEIGHT)\n",
    "    frame_width = cap.get(cv.CAP_PROP_FRAME_WIDTH)\n",
    "\n",
    "    print(f'Frame height : {frame_height}')\n",
    "    print(f'Frame width  : {frame_width}')\n",
    "\n",
    "    # Let's decrease the frame height and frame width by half\n",
    "    # 'ret' is True if the new setting was accepted\n",
    "    ret = cap.set(cv.CAP_PROP_FRAME_HEIGHT, frame_height // 2)\n",
    "    ret = cap.set(cv.CAP_PROP_FRAME_WIDTH, frame_width // 2)\n",
    "    \n",
    "    # Get the video capture's frame height and frame width again\n",
    "    new_frame_height = cap.get(cv.CAP_PROP_FRAME_HEIGHT)\n",
    "    new_frame_width = cap.get(cv.CAP_PROP_FRAME_WIDTH)\n",
    "\n",
    "    print(f'New frame height : {new_frame_height}')\n",
    "    print(f'New frame width  : {new_frame_width}')\n",
    "\n",
    "    # Notice that the frame height and frame width (and the display window's size)\n",
    "    # are smaller than in the previous example (in fact, they are half the size)\n",
    "    while True:\n",
    "        ret, frame = cap.read() \n",
    "        if not ret:\n",
    "            print(\"Can't receive frame (end of stream/camera shut down?). Exiting ...\")\n",
    "            break\n",
    "        \n",
    "        cv.imshow('Frame', frame)\n",
    "        if cv.waitKey(1) & 0xFF == ord('q'):\n",
    "            break\n",
    "\n",
    "cap.release()\n",
    "cv.destroyAllWindows()"
   ]
  },
  {
   "cell_type": "markdown",
   "metadata": {},
   "source": [
    "## Playing video files\n",
    "\n",
    "Playing video streams from files is the same as capturing video streams from cameras. The only difference is the input argument when creating the `cv.VideoCapture` object `cap`. Its input argument can either be:\n",
    "- The device index (index = 0 is your default camera, and if you have more cameras they will have index 1, 2, 3, etc).\n",
    "- The path to a video file (e.g. myvideofile.avi).\n",
    "\n",
    "So, if we supply a path to a video file (string), instead of a camera index (integer), we can play video files using the same `cv.VideoCapture` object we previously used for capturing camera frames.\n",
    "\n",
    "While displaying the frame from a video stream, use an appropriate `time` for `cv.waitKey(time)` function:\n",
    "- If `time` is too small, the video playback will be very fast.\n",
    "- If `time` is to big, video will be very slow (this is how you can display videos in slow motion).\n",
    "- Setting `time` to 25 milliseconds will be appropriate in most cases.\n",
    "\n",
    "**Note! OpenCV will create a window that might be minimized to your tray. If so, you need to select this window to see it. The window will automatically close when the video reaches its end, but you can stop the video prematurely but pressing the 'q' key on your keyboard.**"
   ]
  },
  {
   "cell_type": "code",
   "execution_count": 4,
   "metadata": {},
   "outputs": [
    {
     "name": "stdout",
     "output_type": "stream",
     "text": [
      "User chose to quit. Exiting ...\n"
     ]
    }
   ],
   "source": [
    "# Let's open the video file 'vtest.avi'\n",
    "cap = cv.VideoCapture('../data/vtest.avi')\n",
    "\n",
    "# While open, i.e. as long as the user hasn't closed the video/window\n",
    "while cap.isOpened():\n",
    "    # read a video frame, just as before\n",
    "    ret, frame = cap.read()\n",
    "    \n",
    "    # If frame is read correctly ret is True,\n",
    "    # otherwise we have propably reached the end of the video stream\n",
    "    if not ret:\n",
    "        print(\"Can't receive frame (end of stream?). Exiting ...\")\n",
    "        break\n",
    "    \n",
    "    # Here we can process the frame (image) as before (if we want to)\n",
    "    #frame = cv.cvtColor(frame, cv.COLOR_BGR2GRAY)\n",
    "    \n",
    "    # Show the frame in a window, and check for keyboard events, just as before.\n",
    "    # Change the number of milliseconds to wait (in cv.waitKey()) to adjust playback speed.\n",
    "    cv.imshow('Frame', frame)\n",
    "    if cv.waitKey(25) == ord('q'):\n",
    "        print(\"User chose to quit. Exiting ...\")\n",
    "        break\n",
    "\n",
    "# Don't forget to release the capture object\n",
    "# and destroy any windows we have created\n",
    "cap.release()\n",
    "cv.destroyAllWindows()"
   ]
  },
  {
   "cell_type": "markdown",
   "metadata": {},
   "source": [
    "## Writing (saving) video\n",
    "\n",
    "Even though we capture and process video frame-by-frame, we can't just save individual frames (images) with `cv.imwrite()` to produce a video file. Instead we need to create and use a `cv.VideoWriter` object.\n",
    "\n",
    "The `cv.VideoWriter` object accepts a number of input arguments:\n",
    "- The path to a file where we want to save the video stream (e.g. *output.avi*).\n",
    "- A *FourCC* code (see details below).\n",
    "- The desired number of *frames per second* (fps).\n",
    "- The desired frame size (height, width).\n",
    "- A boolean color flag. If True (default) the encoder expects a color frame, otherwise it expects a grayscale frame.\n",
    "\n",
    "*FourCC* is a 4-byte code used to specify the *video **codec** * (used to en**co**de/**dec**ode video). The list of available *FourCC* codes can be found at [wiki.multimedia.cx](https://wiki.multimedia.cx/index.php/Category:Video_FourCCs) or [calculla.com](https://calculla.com/fourcc), e.g. [MJPG](https://wiki.multimedia.cx/index.php/Motion_JPEG), and **is** platform dependent, e.g.:\n",
    "- Ubuntu: DIVX, XVID, MJPG, X264, WMV1, WMV2 (XVID is preferred, MJPG gives a bigger file size, X264 gives a smaller file size).\n",
    "- Windows: DIVX, XVID, MJPG, X264, WMV1, WMV2.\n",
    "- OSX: DIVX (.avi), MJPG (.mp4), X264 (.mkv).\n",
    "\n",
    "To get the 4-byte *FourCC* code for a specific codec, the function `cv.VideoWriter_fourcc()` is used. This can be done in two different ways. For example, if we want to obtain the 4-byte *FourCC* code for the MJPEG (.mp4) codec, we can use wither of:\n",
    "- `code = cv.VideoWriter_fourcc('M','J','P','G')`\n",
    "- `code = cv.VideoWriter_fourcc(*'MJPG')`\n",
    "\n",
    "This *FourCC* code is the argument we supply when creating a `cv.VideoWriter` object as described above.\n",
    "\n",
    "Finally, we use the `cv.VideoWriter` object's `write(frame)` function to write a frame to the video file.\n",
    "\n",
    "---\n",
    "\n",
    "Let's use the camera again, flip each frame around the x axis, and save the video stream to a file (output.avi) using the *XVID* codec.\n",
    "\n",
    "**Note! OpenCV will create a window that might be minimized to your tray. You need to select this window and press the 'q' key on your keyboard to close this window (otherwise the cell won't stop executing).**"
   ]
  },
  {
   "cell_type": "code",
   "execution_count": 5,
   "metadata": {},
   "outputs": [],
   "source": [
    "# Let's use the default camera again\n",
    "cap = cv.VideoCapture(0)\n",
    "\n",
    "# Define the XVID codec and create the VideoWriter object\n",
    "fourcc_codec_code = cv.VideoWriter_fourcc(*'XVID')\n",
    "frames_per_second = 20.0\n",
    "frame_size = (640,  480)\n",
    "out = cv.VideoWriter('../data/output.avi', fourcc_codec_code, frames_per_second, frame_size)\n",
    "\n",
    "# We open the camera and read frames from the video stream as usual\n",
    "while cap.isOpened():\n",
    "    ret, frame = cap.read()\n",
    "\n",
    "    if not ret:\n",
    "        print(\"Can't receive frame (end of stream?). Exiting ...\")\n",
    "        break\n",
    "\n",
    "    # Let's flip the frame, where the input argument to flip() means:\n",
    "    # 0: flip the frame around the x axis\n",
    "    # 1: flip the frame around the y axis\n",
    "    # 2: flip the frame around both axes\n",
    "    frame = cv.flip(frame, 0)\n",
    "\n",
    "    # Here we use the VideoWriter's write() method to write the flipped\n",
    "    # frame to the destination file (new frames are appended to the file).\n",
    "    out.write(frame)\n",
    "\n",
    "    # Let's display the flipped frame in a window.\n",
    "    # Also, let the user exit the video capture with the 'q' key.\n",
    "    cv.imshow('Frame', frame)\n",
    "    if cv.waitKey(1) & 0xFF == ord('q'):\n",
    "        break\n",
    "\n",
    "# Release the VideoCapture and VideoWriter objects,\n",
    "# and destroy any windows we have created\n",
    "cap.release()\n",
    "out.release()\n",
    "cv.destroyAllWindows()"
   ]
  },
  {
   "cell_type": "markdown",
   "metadata": {},
   "source": [
    "It's also easy to create animated GIFs using `OpenCV` and `imageio`. See for example [theailearner.com](https://theailearner.com/2021/05/29/creating-gif-from-video-using-opencv-and-imageio) or [pysource.com](https://pysource.com/2021/03/25/create-an-animated-gif-in-real-time-with-opencv-and-python).\n",
    "\n",
    "To use `imageio`, you will need the following python package: `pip install imageio`"
   ]
  },
  {
   "cell_type": "markdown",
   "metadata": {},
   "source": []
  }
 ],
 "metadata": {
  "kernelspec": {
   "display_name": "Python 3.9.13 ('.venv': venv)",
   "language": "python",
   "name": "python3"
  },
  "language_info": {
   "codemirror_mode": {
    "name": "ipython",
    "version": 3
   },
   "file_extension": ".py",
   "mimetype": "text/x-python",
   "name": "python",
   "nbconvert_exporter": "python",
   "pygments_lexer": "ipython3",
   "version": "3.9.13"
  },
  "orig_nbformat": 2,
  "vscode": {
   "interpreter": {
    "hash": "b595bb45eae9b823552d35c952027feb614a769dd3c34896f2ad70e2eb427437"
   }
  }
 },
 "nbformat": 4,
 "nbformat_minor": 2
}
