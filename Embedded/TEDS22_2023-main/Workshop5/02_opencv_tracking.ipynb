{
 "cells": [
  {
   "cell_type": "markdown",
   "metadata": {},
   "source": [
    "# Exercise 2: Tracking with OpenCV\n",
    "\n",
    "In this exercise you will learn how to use OpenCV's simple [Tracking API](https://docs.opencv.org/4.6.0/d9/df8/group__tracking.html)."
   ]
  },
  {
   "cell_type": "markdown",
   "metadata": {},
   "source": [
    "As a first step, let's import the python modules we need."
   ]
  },
  {
   "cell_type": "code",
   "execution_count": 1,
   "metadata": {},
   "outputs": [],
   "source": [
    "import cv2 as cv\n",
    "import numpy as np"
   ]
  },
  {
   "cell_type": "markdown",
   "metadata": {},
   "source": [
    "Previous OpenCV releases included many trackers, but most of them have been removed in subsequent releases. The current OpenCV release (4.5.2), supports two official trackers (KCF and CSRT) and one unofficial tracker (MIL):\n",
    "- MIL is the baseline tracker. It is quite slow and doesn’t work very well.\n",
    "- [KCF](https://docs.opencv.org/4.6.0/d2/dff/classcv_1_1TrackerKCF.html) stands for *Kernelized Correlation Filters*. It is faster than MIL, but doesn't handle full occlusion well.\n",
    "- [CSRT](https://docs.opencv.org/4.6.0/d2/da2/classcv_1_1TrackerCSRT.html) stands for *Discriminative Correlation Filter*. It is more accurate than KCF, but slightly slower.\n",
    "\n",
    "We use OpenCV's [Tracking API](https://docs.opencv.org/4.6.0/d9/df8/group__tracking.html) as described delow.\n",
    "\n",
    "1. Firstly, we create the desired tracking object, i.e. using one of the following functions:\n",
    "\n",
    "> `tracker = cv.TrackerMIL_create()`  \n",
    "> `tracker = cv.TrackerKCF_create()`  \n",
    "> `tracker = cv.TrackerCSRT_create()`\n",
    "\n",
    "2. Once we have a `tracker` object, we initialize it with the first `frame` and a bounding box `bbox` for the object we want to track. We do this by calling the `tracker` object's `init()` method, passing in the `frame` and `bbox` as parameters. The `init()` method's return value `ok` will be `True` if the bounding box `bbox` fits within the `frame`, otherwise `False`.\n",
    "\n",
    "> `ok = tracker.init(frame, bbox)`\n",
    "\n",
    "3. Finally, for each subsequent `frame`, we update the `tracker`, by calling its `update()` method, passing in the current `frame`. The `update()` method's first return value `ok` will be `True` if the `tracker` was able to track the chosen object from the previous frame to the current frame, otherwise `False`. If successfull, the second return value `bbox` contains the new bounding box.\n",
    "\n",
    "> `ok, bbox = tracker.update(frame)`\n",
    "\n",
    "---\n",
    "\n",
    "Let's load in a video, and try this."
   ]
  },
  {
   "cell_type": "code",
   "execution_count": 2,
   "metadata": {},
   "outputs": [],
   "source": [
    "# Set tracking algorithm\n",
    "tracker_types = ['MIL','KCF', 'CSRT']\n",
    "tracker_type = tracker_types[1] # Select the KCF tracker (the fastest of the 3 trackers)\n",
    "if tracker_type == 'MIL':\n",
    "    tracker = cv.TrackerMIL_create()\n",
    "elif tracker_type == 'KCF':\n",
    "    tracker = cv.TrackerKCF_create()\n",
    "elif tracker_type == \"CSRT\":\n",
    "    tracker = cv.TrackerCSRT_create()\n",
    "\n",
    "# Read in a video\n",
    "video = cv.VideoCapture(\"../data/chaplin.mp4\")\n",
    "\n",
    "# Exit if we failed to load the video.\n",
    "if not video.isOpened():\n",
    "    print(\"Could not open video\")\n",
    "\n",
    "# Read the first frame.\n",
    "ok, frame = video.read()\n",
    "if not ok:\n",
    "    print('Cannot read video file')\n",
    "\n",
    "# Let the user select a bounding box in the video frame using the mouse.\n",
    "# We can do this by using the OpenCV function \"cv.selectROI()\".\n",
    "# When the first frame appears in a window, do the following:\n",
    "# 1. Draw a bounding box around an object using your mouse.\n",
    "# 2. Hit the <Enter> key to confirm your selection.\n",
    "bbox = cv.selectROI(\"Tracking\", frame, False, False)\n",
    "\n",
    "# If the user failed to select a bounding box ...\n",
    "if bbox == (0, 0, 0, 0):\n",
    "    # ... define a default bounding box\n",
    "    bbox = (162, 17, 116, 343)\n",
    "    print('Please select a ROI')\n",
    "\n",
    "# Initialize the tracker with the first frame and the bounding box\n",
    "ok = tracker.init(frame, bbox)\n",
    "\n",
    "while video.isOpened():\n",
    "    # Read a new frame\n",
    "    ok, frame = video.read()\n",
    "    \n",
    "    # Exit the loop, if we have reached the end of the video stream\n",
    "    if not ok:\n",
    "        break\n",
    "    \n",
    "    # Let's measure the frame rate (Frames Per Second - FPS)\n",
    "    # we get when tracking the object from frame to frame\n",
    "    timer = cv.getTickCount()\n",
    "    \n",
    "    # Update tracker with the current frame\n",
    "    # This returns failure/success and the new bounding box\n",
    "    ok, bbox = tracker.update(frame)\n",
    "    \n",
    "    # Calculate Frames per second (FPS)\n",
    "    fps = cv.getTickFrequency() / (cv.getTickCount() - timer)\n",
    "    \n",
    "    # Draw the bounding box on the frame\n",
    "    if ok:\n",
    "        # Tracking success (i.e. we found the object/bounding box in the current frame)\n",
    "        p1 = (int(bbox[0]), int(bbox[1]))                       # top-left point of the bounding box\n",
    "        p2 = (int(bbox[0] + bbox[2]), int(bbox[1] + bbox[3]))   # bottom-right point of the bounding box\n",
    "        cv.rectangle(frame, p1, p2, (255,0,0), 2, 1)            # draw the bounding box\n",
    "    else:\n",
    "        # Tracking failure (i.e. we did not find the object/bounding box in the current frame)\n",
    "        # Let's draw an error message on the frame.\n",
    "        cv.putText(frame, \"Tracking failure detected\", (100,80), cv.FONT_HERSHEY_SIMPLEX, 0.75,(0,0,255),2)\n",
    "    \n",
    "    # Display the type of tracker (MIL, KCF or CSRT) on the frame\n",
    "    cv.putText(frame, tracker_type + \" Tracker\", (100,20), cv.FONT_HERSHEY_SIMPLEX, 0.75, (50,170,50),2);\n",
    "    \n",
    "    # Display the frame rate (FPS) on the frame\n",
    "    cv.putText(frame, \"FPS : \" + str(int(fps)), (100,50), cv.FONT_HERSHEY_SIMPLEX, 0.75, (50,170,50), 2);\n",
    "    \n",
    "    # Display the annotated frame\n",
    "    cv.imshow(\"Tracking\", frame)\n",
    "    \n",
    "    # Exit if the ESC key was pressed\n",
    "    k = cv.waitKey(1) & 0xff\n",
    "    if k == 27 : break\n",
    "\n",
    "# Release the VideoCapture and destroy any windows we ahve created\n",
    "video.release()\n",
    "cv.destroyAllWindows()"
   ]
  },
  {
   "cell_type": "code",
   "execution_count": null,
   "metadata": {},
   "outputs": [],
   "source": []
  }
 ],
 "metadata": {
  "kernelspec": {
   "display_name": "Python 3.9.13 ('.venv': venv)",
   "language": "python",
   "name": "python3"
  },
  "language_info": {
   "codemirror_mode": {
    "name": "ipython",
    "version": 3
   },
   "file_extension": ".py",
   "mimetype": "text/x-python",
   "name": "python",
   "nbconvert_exporter": "python",
   "pygments_lexer": "ipython3",
   "version": "3.9.13"
  },
  "orig_nbformat": 2,
  "vscode": {
   "interpreter": {
    "hash": "a8159fd93c66e7d8d0e5af4b494b7ac885c17c604ffb25abe09796ec175b3861"
   }
  }
 },
 "nbformat": 4,
 "nbformat_minor": 2
}
